{
 "cells": [
  {
   "cell_type": "markdown",
   "id": "ef98abcd",
   "metadata": {},
   "source": [
    "### Introduction\n",
    "\n",
    "#### This is the DAMG 6105's Final Project of \n",
    "\n",
    "\n",
    "#### Chao Wang(NUID 0021955685)  &  Ling Li(NUID 002196505)"
   ]
  },
  {
   "cell_type": "markdown",
   "id": "b0d6a725",
   "metadata": {},
   "source": [
    "Housing price has been a popular topic that we are interested in. Especially during pandemic time, the housing price increases quickly according to large market demands. We are going to use the data we obtained from the redfin website to see what are the factors that influence housing prices and how. We are going to visualize correlations of them by using Pandas. Since our school is located in San Jose and we also live in this area, we would like to take this opportunity to analyse housing prices in Sunnyvale, Santa Clara, Cupertino, San Jose West, and Campbell. \n"
   ]
  },
  {
   "cell_type": "markdown",
   "id": "b0dbdacb",
   "metadata": {},
   "source": [
    "How do we clean our data?"
   ]
  },
  {
   "cell_type": "markdown",
   "id": "be69f653",
   "metadata": {},
   "source": [
    "We downloaded ten files from Redfin website for different cities, since San Jose doesn't have data when searching \"San Jose\", so we use zipcode to download 6 files for this city. in total we have data for 3500 houses. We deleted outliers, wrong value and missing value in all files first then combine then into one file. "
   ]
  },
  {
   "cell_type": "code",
   "execution_count": 1,
   "id": "5f108d51",
   "metadata": {},
   "outputs": [],
   "source": [
    "import numpy as np\n",
    "import pandas as pd\n",
    "import matplotlib.pyplot as plt\n",
    "%matplotlib inline\n",
    "\n",
    "pd.set_option(\"display.max_columns\", None)"
   ]
  },
  {
   "cell_type": "code",
   "execution_count": 2,
   "id": "88a6a45a",
   "metadata": {},
   "outputs": [
    {
     "data": {
      "text/html": [
       "<div>\n",
       "<style scoped>\n",
       "    .dataframe tbody tr th:only-of-type {\n",
       "        vertical-align: middle;\n",
       "    }\n",
       "\n",
       "    .dataframe tbody tr th {\n",
       "        vertical-align: top;\n",
       "    }\n",
       "\n",
       "    .dataframe thead th {\n",
       "        text-align: right;\n",
       "    }\n",
       "</style>\n",
       "<table border=\"1\" class=\"dataframe\">\n",
       "  <thead>\n",
       "    <tr style=\"text-align: right;\">\n",
       "      <th></th>\n",
       "      <th>SALE TYPE</th>\n",
       "      <th>SOLD DATE</th>\n",
       "      <th>PROPERTY TYPE</th>\n",
       "      <th>ADDRESS</th>\n",
       "      <th>CITY</th>\n",
       "      <th>STATE OR PROVINCE</th>\n",
       "      <th>ZIP OR POSTAL CODE</th>\n",
       "      <th>PRICE</th>\n",
       "      <th>BEDS</th>\n",
       "      <th>BATHS</th>\n",
       "      <th>LOCATION</th>\n",
       "      <th>SQUARE FEET</th>\n",
       "      <th>LOT SIZE</th>\n",
       "      <th>YEAR BUILT</th>\n",
       "      <th>DAYS ON MARKET</th>\n",
       "      <th>$/SQUARE FEET</th>\n",
       "      <th>HOA/MONTH</th>\n",
       "      <th>STATUS</th>\n",
       "      <th>NEXT OPEN HOUSE START TIME</th>\n",
       "      <th>NEXT OPEN HOUSE END TIME</th>\n",
       "      <th>URL (SEE https://www.redfin.com/buy-a-home/comparative-market-analysis FOR INFO ON PRICING)</th>\n",
       "      <th>SOURCE</th>\n",
       "      <th>MLS#</th>\n",
       "      <th>FAVORITE</th>\n",
       "      <th>INTERESTED</th>\n",
       "      <th>LATITUDE</th>\n",
       "      <th>LONGITUDE</th>\n",
       "    </tr>\n",
       "  </thead>\n",
       "  <tbody>\n",
       "    <tr>\n",
       "      <th>0</th>\n",
       "      <td>PAST SALE</td>\n",
       "      <td>June-26-2019</td>\n",
       "      <td>Townhouse</td>\n",
       "      <td>1331 Charmwood Sq</td>\n",
       "      <td>SAN JOSE</td>\n",
       "      <td>CA</td>\n",
       "      <td>95117</td>\n",
       "      <td>988000</td>\n",
       "      <td>2</td>\n",
       "      <td>2.0</td>\n",
       "      <td>SAN JOSE</td>\n",
       "      <td>1152</td>\n",
       "      <td>1440.0</td>\n",
       "      <td>1972</td>\n",
       "      <td>897.0</td>\n",
       "      <td>858</td>\n",
       "      <td>260.0</td>\n",
       "      <td>Sold</td>\n",
       "      <td>NaN</td>\n",
       "      <td>NaN</td>\n",
       "      <td>https://www.redfin.com/CA/San-Jose/1331-Charmw...</td>\n",
       "      <td>MLSListings</td>\n",
       "      <td>ML81754422</td>\n",
       "      <td>N</td>\n",
       "      <td>Y</td>\n",
       "      <td>37.300915</td>\n",
       "      <td>-121.960148</td>\n",
       "    </tr>\n",
       "    <tr>\n",
       "      <th>1</th>\n",
       "      <td>PAST SALE</td>\n",
       "      <td>April-20-2018</td>\n",
       "      <td>Townhouse</td>\n",
       "      <td>535 Boxleaf Ct</td>\n",
       "      <td>SAN JOSE</td>\n",
       "      <td>CA</td>\n",
       "      <td>95117</td>\n",
       "      <td>1091000</td>\n",
       "      <td>2</td>\n",
       "      <td>2.5</td>\n",
       "      <td>SAN JOSE</td>\n",
       "      <td>1117</td>\n",
       "      <td>3823.0</td>\n",
       "      <td>1985</td>\n",
       "      <td>1329.0</td>\n",
       "      <td>977</td>\n",
       "      <td>337.0</td>\n",
       "      <td>Sold</td>\n",
       "      <td>NaN</td>\n",
       "      <td>NaN</td>\n",
       "      <td>https://www.redfin.com/CA/San-Jose/535-Box-Lea...</td>\n",
       "      <td>MLSListings</td>\n",
       "      <td>ML81696890</td>\n",
       "      <td>N</td>\n",
       "      <td>Y</td>\n",
       "      <td>37.320737</td>\n",
       "      <td>-121.961721</td>\n",
       "    </tr>\n",
       "    <tr>\n",
       "      <th>2</th>\n",
       "      <td>PAST SALE</td>\n",
       "      <td>October-22-2021</td>\n",
       "      <td>Single Family Residential</td>\n",
       "      <td>3704 Rhoda Dr</td>\n",
       "      <td>SAN JOSE</td>\n",
       "      <td>CA</td>\n",
       "      <td>95117</td>\n",
       "      <td>1555000</td>\n",
       "      <td>3</td>\n",
       "      <td>2.0</td>\n",
       "      <td>SAN JOSE</td>\n",
       "      <td>1557</td>\n",
       "      <td>7024.0</td>\n",
       "      <td>1973</td>\n",
       "      <td>48.0</td>\n",
       "      <td>999</td>\n",
       "      <td>NaN</td>\n",
       "      <td>Sold</td>\n",
       "      <td>NaN</td>\n",
       "      <td>NaN</td>\n",
       "      <td>https://www.redfin.com/CA/San-Jose/3704-Rhoda-...</td>\n",
       "      <td>MLSListings</td>\n",
       "      <td>ML81859644</td>\n",
       "      <td>N</td>\n",
       "      <td>Y</td>\n",
       "      <td>37.304621</td>\n",
       "      <td>-121.966285</td>\n",
       "    </tr>\n",
       "    <tr>\n",
       "      <th>3</th>\n",
       "      <td>PAST SALE</td>\n",
       "      <td>April-27-2018</td>\n",
       "      <td>Single Family Residential</td>\n",
       "      <td>3306 Yuba Ave</td>\n",
       "      <td>SAN JOSE</td>\n",
       "      <td>CA</td>\n",
       "      <td>95117</td>\n",
       "      <td>1650000</td>\n",
       "      <td>4</td>\n",
       "      <td>2.0</td>\n",
       "      <td>SAN JOSE</td>\n",
       "      <td>2257</td>\n",
       "      <td>6900.0</td>\n",
       "      <td>1968</td>\n",
       "      <td>1322.0</td>\n",
       "      <td>731</td>\n",
       "      <td>NaN</td>\n",
       "      <td>Sold</td>\n",
       "      <td>NaN</td>\n",
       "      <td>NaN</td>\n",
       "      <td>https://www.redfin.com/CA/San-Jose/3306-Yuba-A...</td>\n",
       "      <td>MLSListings</td>\n",
       "      <td>ML81697073</td>\n",
       "      <td>N</td>\n",
       "      <td>Y</td>\n",
       "      <td>37.303358</td>\n",
       "      <td>-121.955554</td>\n",
       "    </tr>\n",
       "    <tr>\n",
       "      <th>4</th>\n",
       "      <td>PAST SALE</td>\n",
       "      <td>March-18-2020</td>\n",
       "      <td>Single Family Residential</td>\n",
       "      <td>1089 Phelps Ave</td>\n",
       "      <td>SAN JOSE</td>\n",
       "      <td>CA</td>\n",
       "      <td>95117</td>\n",
       "      <td>1635000</td>\n",
       "      <td>4</td>\n",
       "      <td>3.0</td>\n",
       "      <td>SAN JOSE</td>\n",
       "      <td>2199</td>\n",
       "      <td>6163.0</td>\n",
       "      <td>1962</td>\n",
       "      <td>631.0</td>\n",
       "      <td>744</td>\n",
       "      <td>NaN</td>\n",
       "      <td>Sold</td>\n",
       "      <td>NaN</td>\n",
       "      <td>NaN</td>\n",
       "      <td>https://www.redfin.com/CA/San-Jose/1089-Phelps...</td>\n",
       "      <td>MLSListings</td>\n",
       "      <td>ML81782870</td>\n",
       "      <td>N</td>\n",
       "      <td>Y</td>\n",
       "      <td>37.306858</td>\n",
       "      <td>-121.961286</td>\n",
       "    </tr>\n",
       "  </tbody>\n",
       "</table>\n",
       "</div>"
      ],
      "text/plain": [
       "   SALE TYPE        SOLD DATE              PROPERTY TYPE            ADDRESS  \\\n",
       "0  PAST SALE     June-26-2019                  Townhouse  1331 Charmwood Sq   \n",
       "1  PAST SALE    April-20-2018                  Townhouse     535 Boxleaf Ct   \n",
       "2  PAST SALE  October-22-2021  Single Family Residential      3704 Rhoda Dr   \n",
       "3  PAST SALE    April-27-2018  Single Family Residential      3306 Yuba Ave   \n",
       "4  PAST SALE    March-18-2020  Single Family Residential    1089 Phelps Ave   \n",
       "\n",
       "       CITY STATE OR PROVINCE ZIP OR POSTAL CODE    PRICE  BEDS  BATHS  \\\n",
       "0  SAN JOSE                CA              95117   988000     2    2.0   \n",
       "1  SAN JOSE                CA              95117  1091000     2    2.5   \n",
       "2  SAN JOSE                CA              95117  1555000     3    2.0   \n",
       "3  SAN JOSE                CA              95117  1650000     4    2.0   \n",
       "4  SAN JOSE                CA              95117  1635000     4    3.0   \n",
       "\n",
       "   LOCATION  SQUARE FEET  LOT SIZE  YEAR BUILT  DAYS ON MARKET  $/SQUARE FEET  \\\n",
       "0  SAN JOSE         1152    1440.0        1972           897.0            858   \n",
       "1  SAN JOSE         1117    3823.0        1985          1329.0            977   \n",
       "2  SAN JOSE         1557    7024.0        1973            48.0            999   \n",
       "3  SAN JOSE         2257    6900.0        1968          1322.0            731   \n",
       "4  SAN JOSE         2199    6163.0        1962           631.0            744   \n",
       "\n",
       "   HOA/MONTH STATUS NEXT OPEN HOUSE START TIME NEXT OPEN HOUSE END TIME  \\\n",
       "0      260.0   Sold                        NaN                      NaN   \n",
       "1      337.0   Sold                        NaN                      NaN   \n",
       "2        NaN   Sold                        NaN                      NaN   \n",
       "3        NaN   Sold                        NaN                      NaN   \n",
       "4        NaN   Sold                        NaN                      NaN   \n",
       "\n",
       "  URL (SEE https://www.redfin.com/buy-a-home/comparative-market-analysis FOR INFO ON PRICING)  \\\n",
       "0  https://www.redfin.com/CA/San-Jose/1331-Charmw...                                            \n",
       "1  https://www.redfin.com/CA/San-Jose/535-Box-Lea...                                            \n",
       "2  https://www.redfin.com/CA/San-Jose/3704-Rhoda-...                                            \n",
       "3  https://www.redfin.com/CA/San-Jose/3306-Yuba-A...                                            \n",
       "4  https://www.redfin.com/CA/San-Jose/1089-Phelps...                                            \n",
       "\n",
       "        SOURCE        MLS# FAVORITE INTERESTED   LATITUDE   LONGITUDE  \n",
       "0  MLSListings  ML81754422        N          Y  37.300915 -121.960148  \n",
       "1  MLSListings  ML81696890        N          Y  37.320737 -121.961721  \n",
       "2  MLSListings  ML81859644        N          Y  37.304621 -121.966285  \n",
       "3  MLSListings  ML81697073        N          Y  37.303358 -121.955554  \n",
       "4  MLSListings  ML81782870        N          Y  37.306858 -121.961286  "
      ]
     },
     "execution_count": 2,
     "metadata": {},
     "output_type": "execute_result"
    }
   ],
   "source": [
    "# I downloaded 10 dataframes from the redfin, there are they:\n",
    "df1 = pd.read_csv('95117wsj.csv')\n",
    "df2 = pd.read_csv('95118wsj.csv')\n",
    "df3 = pd.read_csv('95130wsj.csv')\n",
    "df4 = pd.read_csv('95124wsj.csv')\n",
    "df5 = pd.read_csv('95128wsj.csv')\n",
    "df6 = pd.read_csv('95129wsj.csv')\n",
    "df7 = pd.read_csv('santa clara.csv')\n",
    "df8 = pd.read_csv('campbell.csv')\n",
    "df9 = pd.read_csv('cupertino.csv')\n",
    "df10 = pd.read_csv('sunnyvale.csv')\n",
    "\n",
    "# They are under the same format. Let's see one example of the dataframes.\n",
    "df1.head()"
   ]
  },
  {
   "cell_type": "code",
   "execution_count": 3,
   "id": "90b8d7f7",
   "metadata": {},
   "outputs": [
    {
     "data": {
      "text/html": [
       "<div>\n",
       "<style scoped>\n",
       "    .dataframe tbody tr th:only-of-type {\n",
       "        vertical-align: middle;\n",
       "    }\n",
       "\n",
       "    .dataframe tbody tr th {\n",
       "        vertical-align: top;\n",
       "    }\n",
       "\n",
       "    .dataframe thead th {\n",
       "        text-align: right;\n",
       "    }\n",
       "</style>\n",
       "<table border=\"1\" class=\"dataframe\">\n",
       "  <thead>\n",
       "    <tr style=\"text-align: right;\">\n",
       "      <th></th>\n",
       "      <th>SALE TYPE</th>\n",
       "      <th>SOLD DATE</th>\n",
       "      <th>PROPERTY TYPE</th>\n",
       "      <th>ADDRESS</th>\n",
       "      <th>CITY</th>\n",
       "      <th>STATE OR PROVINCE</th>\n",
       "      <th>ZIP OR POSTAL CODE</th>\n",
       "      <th>PRICE</th>\n",
       "      <th>BEDS</th>\n",
       "      <th>BATHS</th>\n",
       "      <th>LOCATION</th>\n",
       "      <th>SQUARE FEET</th>\n",
       "      <th>LOT SIZE</th>\n",
       "      <th>YEAR BUILT</th>\n",
       "      <th>DAYS ON MARKET</th>\n",
       "      <th>$/SQUARE FEET</th>\n",
       "      <th>HOA/MONTH</th>\n",
       "      <th>STATUS</th>\n",
       "      <th>NEXT OPEN HOUSE START TIME</th>\n",
       "      <th>NEXT OPEN HOUSE END TIME</th>\n",
       "      <th>URL (SEE https://www.redfin.com/buy-a-home/comparative-market-analysis FOR INFO ON PRICING)</th>\n",
       "      <th>SOURCE</th>\n",
       "      <th>MLS#</th>\n",
       "      <th>FAVORITE</th>\n",
       "      <th>INTERESTED</th>\n",
       "      <th>LATITUDE</th>\n",
       "      <th>LONGITUDE</th>\n",
       "    </tr>\n",
       "  </thead>\n",
       "  <tbody>\n",
       "    <tr>\n",
       "      <th>0</th>\n",
       "      <td>PAST SALE</td>\n",
       "      <td>June-26-2019</td>\n",
       "      <td>Townhouse</td>\n",
       "      <td>1331 Charmwood Sq</td>\n",
       "      <td>SAN JOSE</td>\n",
       "      <td>CA</td>\n",
       "      <td>95117</td>\n",
       "      <td>988000</td>\n",
       "      <td>2</td>\n",
       "      <td>2.0</td>\n",
       "      <td>SAN JOSE</td>\n",
       "      <td>1152.0</td>\n",
       "      <td>1440.0</td>\n",
       "      <td>1972</td>\n",
       "      <td>897.0</td>\n",
       "      <td>858.0</td>\n",
       "      <td>260.0</td>\n",
       "      <td>Sold</td>\n",
       "      <td>NaN</td>\n",
       "      <td>NaN</td>\n",
       "      <td>https://www.redfin.com/CA/San-Jose/1331-Charmw...</td>\n",
       "      <td>MLSListings</td>\n",
       "      <td>ML81754422</td>\n",
       "      <td>N</td>\n",
       "      <td>Y</td>\n",
       "      <td>37.300915</td>\n",
       "      <td>-121.960148</td>\n",
       "    </tr>\n",
       "    <tr>\n",
       "      <th>1</th>\n",
       "      <td>PAST SALE</td>\n",
       "      <td>April-20-2018</td>\n",
       "      <td>Townhouse</td>\n",
       "      <td>535 Boxleaf Ct</td>\n",
       "      <td>SAN JOSE</td>\n",
       "      <td>CA</td>\n",
       "      <td>95117</td>\n",
       "      <td>1091000</td>\n",
       "      <td>2</td>\n",
       "      <td>2.5</td>\n",
       "      <td>SAN JOSE</td>\n",
       "      <td>1117.0</td>\n",
       "      <td>3823.0</td>\n",
       "      <td>1985</td>\n",
       "      <td>1329.0</td>\n",
       "      <td>977.0</td>\n",
       "      <td>337.0</td>\n",
       "      <td>Sold</td>\n",
       "      <td>NaN</td>\n",
       "      <td>NaN</td>\n",
       "      <td>https://www.redfin.com/CA/San-Jose/535-Box-Lea...</td>\n",
       "      <td>MLSListings</td>\n",
       "      <td>ML81696890</td>\n",
       "      <td>N</td>\n",
       "      <td>Y</td>\n",
       "      <td>37.320737</td>\n",
       "      <td>-121.961721</td>\n",
       "    </tr>\n",
       "    <tr>\n",
       "      <th>2</th>\n",
       "      <td>PAST SALE</td>\n",
       "      <td>October-22-2021</td>\n",
       "      <td>Single Family Residential</td>\n",
       "      <td>3704 Rhoda Dr</td>\n",
       "      <td>SAN JOSE</td>\n",
       "      <td>CA</td>\n",
       "      <td>95117</td>\n",
       "      <td>1555000</td>\n",
       "      <td>3</td>\n",
       "      <td>2.0</td>\n",
       "      <td>SAN JOSE</td>\n",
       "      <td>1557.0</td>\n",
       "      <td>7024.0</td>\n",
       "      <td>1973</td>\n",
       "      <td>48.0</td>\n",
       "      <td>999.0</td>\n",
       "      <td>NaN</td>\n",
       "      <td>Sold</td>\n",
       "      <td>NaN</td>\n",
       "      <td>NaN</td>\n",
       "      <td>https://www.redfin.com/CA/San-Jose/3704-Rhoda-...</td>\n",
       "      <td>MLSListings</td>\n",
       "      <td>ML81859644</td>\n",
       "      <td>N</td>\n",
       "      <td>Y</td>\n",
       "      <td>37.304621</td>\n",
       "      <td>-121.966285</td>\n",
       "    </tr>\n",
       "    <tr>\n",
       "      <th>3</th>\n",
       "      <td>PAST SALE</td>\n",
       "      <td>April-27-2018</td>\n",
       "      <td>Single Family Residential</td>\n",
       "      <td>3306 Yuba Ave</td>\n",
       "      <td>SAN JOSE</td>\n",
       "      <td>CA</td>\n",
       "      <td>95117</td>\n",
       "      <td>1650000</td>\n",
       "      <td>4</td>\n",
       "      <td>2.0</td>\n",
       "      <td>SAN JOSE</td>\n",
       "      <td>2257.0</td>\n",
       "      <td>6900.0</td>\n",
       "      <td>1968</td>\n",
       "      <td>1322.0</td>\n",
       "      <td>731.0</td>\n",
       "      <td>NaN</td>\n",
       "      <td>Sold</td>\n",
       "      <td>NaN</td>\n",
       "      <td>NaN</td>\n",
       "      <td>https://www.redfin.com/CA/San-Jose/3306-Yuba-A...</td>\n",
       "      <td>MLSListings</td>\n",
       "      <td>ML81697073</td>\n",
       "      <td>N</td>\n",
       "      <td>Y</td>\n",
       "      <td>37.303358</td>\n",
       "      <td>-121.955554</td>\n",
       "    </tr>\n",
       "    <tr>\n",
       "      <th>4</th>\n",
       "      <td>PAST SALE</td>\n",
       "      <td>March-18-2020</td>\n",
       "      <td>Single Family Residential</td>\n",
       "      <td>1089 Phelps Ave</td>\n",
       "      <td>SAN JOSE</td>\n",
       "      <td>CA</td>\n",
       "      <td>95117</td>\n",
       "      <td>1635000</td>\n",
       "      <td>4</td>\n",
       "      <td>3.0</td>\n",
       "      <td>SAN JOSE</td>\n",
       "      <td>2199.0</td>\n",
       "      <td>6163.0</td>\n",
       "      <td>1962</td>\n",
       "      <td>631.0</td>\n",
       "      <td>744.0</td>\n",
       "      <td>NaN</td>\n",
       "      <td>Sold</td>\n",
       "      <td>NaN</td>\n",
       "      <td>NaN</td>\n",
       "      <td>https://www.redfin.com/CA/San-Jose/1089-Phelps...</td>\n",
       "      <td>MLSListings</td>\n",
       "      <td>ML81782870</td>\n",
       "      <td>N</td>\n",
       "      <td>Y</td>\n",
       "      <td>37.306858</td>\n",
       "      <td>-121.961286</td>\n",
       "    </tr>\n",
       "    <tr>\n",
       "      <th>...</th>\n",
       "      <td>...</td>\n",
       "      <td>...</td>\n",
       "      <td>...</td>\n",
       "      <td>...</td>\n",
       "      <td>...</td>\n",
       "      <td>...</td>\n",
       "      <td>...</td>\n",
       "      <td>...</td>\n",
       "      <td>...</td>\n",
       "      <td>...</td>\n",
       "      <td>...</td>\n",
       "      <td>...</td>\n",
       "      <td>...</td>\n",
       "      <td>...</td>\n",
       "      <td>...</td>\n",
       "      <td>...</td>\n",
       "      <td>...</td>\n",
       "      <td>...</td>\n",
       "      <td>...</td>\n",
       "      <td>...</td>\n",
       "      <td>...</td>\n",
       "      <td>...</td>\n",
       "      <td>...</td>\n",
       "      <td>...</td>\n",
       "      <td>...</td>\n",
       "      <td>...</td>\n",
       "      <td>...</td>\n",
       "    </tr>\n",
       "    <tr>\n",
       "      <th>2095</th>\n",
       "      <td>PAST SALE</td>\n",
       "      <td>July-6-2018</td>\n",
       "      <td>Single Family Residential</td>\n",
       "      <td>1030 W Riverside Way</td>\n",
       "      <td>SAN JOSE</td>\n",
       "      <td>CA</td>\n",
       "      <td>95129</td>\n",
       "      <td>2262888</td>\n",
       "      <td>4</td>\n",
       "      <td>2.0</td>\n",
       "      <td>SAN JOSE</td>\n",
       "      <td>1246.0</td>\n",
       "      <td>7924.0</td>\n",
       "      <td>1956</td>\n",
       "      <td>1252.0</td>\n",
       "      <td>1816.0</td>\n",
       "      <td>NaN</td>\n",
       "      <td>Sold</td>\n",
       "      <td>NaN</td>\n",
       "      <td>NaN</td>\n",
       "      <td>https://www.redfin.com/CA/San-Jose/1030-W-Rive...</td>\n",
       "      <td>MLSListings</td>\n",
       "      <td>ML81707862</td>\n",
       "      <td>N</td>\n",
       "      <td>Y</td>\n",
       "      <td>37.309076</td>\n",
       "      <td>-122.022544</td>\n",
       "    </tr>\n",
       "    <tr>\n",
       "      <th>2096</th>\n",
       "      <td>PAST SALE</td>\n",
       "      <td>July-17-2017</td>\n",
       "      <td>Single Family Residential</td>\n",
       "      <td>6722 Bollinger Rd</td>\n",
       "      <td>SAN JOSE</td>\n",
       "      <td>CA</td>\n",
       "      <td>95129</td>\n",
       "      <td>1681320</td>\n",
       "      <td>4</td>\n",
       "      <td>2.0</td>\n",
       "      <td>SAN JOSE</td>\n",
       "      <td>1318.0</td>\n",
       "      <td>7434.0</td>\n",
       "      <td>1956</td>\n",
       "      <td>1606.0</td>\n",
       "      <td>1276.0</td>\n",
       "      <td>NaN</td>\n",
       "      <td>Sold</td>\n",
       "      <td>NaN</td>\n",
       "      <td>NaN</td>\n",
       "      <td>https://www.redfin.com/CA/San-Jose/6722-Bollin...</td>\n",
       "      <td>MLSListings</td>\n",
       "      <td>ML81655357</td>\n",
       "      <td>N</td>\n",
       "      <td>Y</td>\n",
       "      <td>37.309236</td>\n",
       "      <td>-122.022011</td>\n",
       "    </tr>\n",
       "    <tr>\n",
       "      <th>2097</th>\n",
       "      <td>PAST SALE</td>\n",
       "      <td>July-17-2017</td>\n",
       "      <td>Single Family Residential</td>\n",
       "      <td>6650 Bollinger Rd</td>\n",
       "      <td>SAN JOSE</td>\n",
       "      <td>CA</td>\n",
       "      <td>95129</td>\n",
       "      <td>1830000</td>\n",
       "      <td>4</td>\n",
       "      <td>3.5</td>\n",
       "      <td>SAN JOSE</td>\n",
       "      <td>2571.0</td>\n",
       "      <td>8071.0</td>\n",
       "      <td>2011</td>\n",
       "      <td>1606.0</td>\n",
       "      <td>712.0</td>\n",
       "      <td>NaN</td>\n",
       "      <td>Sold</td>\n",
       "      <td>NaN</td>\n",
       "      <td>NaN</td>\n",
       "      <td>https://www.redfin.com/CA/San-Jose/6650-Bollin...</td>\n",
       "      <td>MLSListings</td>\n",
       "      <td>ML81649423</td>\n",
       "      <td>N</td>\n",
       "      <td>Y</td>\n",
       "      <td>37.309438</td>\n",
       "      <td>-122.020656</td>\n",
       "    </tr>\n",
       "    <tr>\n",
       "      <th>2098</th>\n",
       "      <td>PAST SALE</td>\n",
       "      <td>November-9-2021</td>\n",
       "      <td>Single Family Residential</td>\n",
       "      <td>1525 Crespi Dr</td>\n",
       "      <td>SAN JOSE</td>\n",
       "      <td>CA</td>\n",
       "      <td>95129</td>\n",
       "      <td>2070000</td>\n",
       "      <td>4</td>\n",
       "      <td>2.0</td>\n",
       "      <td>SAN JOSE</td>\n",
       "      <td>1396.0</td>\n",
       "      <td>7140.0</td>\n",
       "      <td>1957</td>\n",
       "      <td>30.0</td>\n",
       "      <td>1483.0</td>\n",
       "      <td>NaN</td>\n",
       "      <td>Sold</td>\n",
       "      <td>NaN</td>\n",
       "      <td>NaN</td>\n",
       "      <td>https://www.redfin.com/CA/San-Jose/1525-Crespi...</td>\n",
       "      <td>MLSListings</td>\n",
       "      <td>ML81864675</td>\n",
       "      <td>N</td>\n",
       "      <td>Y</td>\n",
       "      <td>37.295157</td>\n",
       "      <td>-121.991675</td>\n",
       "    </tr>\n",
       "    <tr>\n",
       "      <th>2099</th>\n",
       "      <td>PAST SALE</td>\n",
       "      <td>NaN</td>\n",
       "      <td>Single Family Residential</td>\n",
       "      <td>4218 Manzanita Dr</td>\n",
       "      <td>San Jose</td>\n",
       "      <td>CA</td>\n",
       "      <td>95129</td>\n",
       "      <td>1900000</td>\n",
       "      <td>5</td>\n",
       "      <td>3.0</td>\n",
       "      <td>NaN</td>\n",
       "      <td>2854.0</td>\n",
       "      <td>6600.0</td>\n",
       "      <td>1955</td>\n",
       "      <td>NaN</td>\n",
       "      <td>666.0</td>\n",
       "      <td>NaN</td>\n",
       "      <td>NaN</td>\n",
       "      <td>NaN</td>\n",
       "      <td>NaN</td>\n",
       "      <td>https://www.redfin.com/CA/San-Jose/4218-Manzan...</td>\n",
       "      <td>NaN</td>\n",
       "      <td>NaN</td>\n",
       "      <td>N</td>\n",
       "      <td>Y</td>\n",
       "      <td>37.311265</td>\n",
       "      <td>-121.977926</td>\n",
       "    </tr>\n",
       "  </tbody>\n",
       "</table>\n",
       "<p>2100 rows × 27 columns</p>\n",
       "</div>"
      ],
      "text/plain": [
       "      SALE TYPE        SOLD DATE              PROPERTY TYPE  \\\n",
       "0     PAST SALE     June-26-2019                  Townhouse   \n",
       "1     PAST SALE    April-20-2018                  Townhouse   \n",
       "2     PAST SALE  October-22-2021  Single Family Residential   \n",
       "3     PAST SALE    April-27-2018  Single Family Residential   \n",
       "4     PAST SALE    March-18-2020  Single Family Residential   \n",
       "...         ...              ...                        ...   \n",
       "2095  PAST SALE      July-6-2018  Single Family Residential   \n",
       "2096  PAST SALE     July-17-2017  Single Family Residential   \n",
       "2097  PAST SALE     July-17-2017  Single Family Residential   \n",
       "2098  PAST SALE  November-9-2021  Single Family Residential   \n",
       "2099  PAST SALE              NaN  Single Family Residential   \n",
       "\n",
       "                   ADDRESS      CITY STATE OR PROVINCE ZIP OR POSTAL CODE  \\\n",
       "0        1331 Charmwood Sq  SAN JOSE                CA              95117   \n",
       "1           535 Boxleaf Ct  SAN JOSE                CA              95117   \n",
       "2            3704 Rhoda Dr  SAN JOSE                CA              95117   \n",
       "3            3306 Yuba Ave  SAN JOSE                CA              95117   \n",
       "4          1089 Phelps Ave  SAN JOSE                CA              95117   \n",
       "...                    ...       ...               ...                ...   \n",
       "2095  1030 W Riverside Way  SAN JOSE                CA              95129   \n",
       "2096     6722 Bollinger Rd  SAN JOSE                CA              95129   \n",
       "2097     6650 Bollinger Rd  SAN JOSE                CA              95129   \n",
       "2098        1525 Crespi Dr  SAN JOSE                CA              95129   \n",
       "2099     4218 Manzanita Dr  San Jose                CA              95129   \n",
       "\n",
       "        PRICE  BEDS  BATHS  LOCATION  SQUARE FEET  LOT SIZE  YEAR BUILT  \\\n",
       "0      988000     2    2.0  SAN JOSE       1152.0    1440.0        1972   \n",
       "1     1091000     2    2.5  SAN JOSE       1117.0    3823.0        1985   \n",
       "2     1555000     3    2.0  SAN JOSE       1557.0    7024.0        1973   \n",
       "3     1650000     4    2.0  SAN JOSE       2257.0    6900.0        1968   \n",
       "4     1635000     4    3.0  SAN JOSE       2199.0    6163.0        1962   \n",
       "...       ...   ...    ...       ...          ...       ...         ...   \n",
       "2095  2262888     4    2.0  SAN JOSE       1246.0    7924.0        1956   \n",
       "2096  1681320     4    2.0  SAN JOSE       1318.0    7434.0        1956   \n",
       "2097  1830000     4    3.5  SAN JOSE       2571.0    8071.0        2011   \n",
       "2098  2070000     4    2.0  SAN JOSE       1396.0    7140.0        1957   \n",
       "2099  1900000     5    3.0       NaN       2854.0    6600.0        1955   \n",
       "\n",
       "      DAYS ON MARKET  $/SQUARE FEET  HOA/MONTH STATUS  \\\n",
       "0              897.0          858.0      260.0   Sold   \n",
       "1             1329.0          977.0      337.0   Sold   \n",
       "2               48.0          999.0        NaN   Sold   \n",
       "3             1322.0          731.0        NaN   Sold   \n",
       "4              631.0          744.0        NaN   Sold   \n",
       "...              ...            ...        ...    ...   \n",
       "2095          1252.0         1816.0        NaN   Sold   \n",
       "2096          1606.0         1276.0        NaN   Sold   \n",
       "2097          1606.0          712.0        NaN   Sold   \n",
       "2098            30.0         1483.0        NaN   Sold   \n",
       "2099             NaN          666.0        NaN    NaN   \n",
       "\n",
       "     NEXT OPEN HOUSE START TIME NEXT OPEN HOUSE END TIME  \\\n",
       "0                           NaN                      NaN   \n",
       "1                           NaN                      NaN   \n",
       "2                           NaN                      NaN   \n",
       "3                           NaN                      NaN   \n",
       "4                           NaN                      NaN   \n",
       "...                         ...                      ...   \n",
       "2095                        NaN                      NaN   \n",
       "2096                        NaN                      NaN   \n",
       "2097                        NaN                      NaN   \n",
       "2098                        NaN                      NaN   \n",
       "2099                        NaN                      NaN   \n",
       "\n",
       "     URL (SEE https://www.redfin.com/buy-a-home/comparative-market-analysis FOR INFO ON PRICING)  \\\n",
       "0     https://www.redfin.com/CA/San-Jose/1331-Charmw...                                            \n",
       "1     https://www.redfin.com/CA/San-Jose/535-Box-Lea...                                            \n",
       "2     https://www.redfin.com/CA/San-Jose/3704-Rhoda-...                                            \n",
       "3     https://www.redfin.com/CA/San-Jose/3306-Yuba-A...                                            \n",
       "4     https://www.redfin.com/CA/San-Jose/1089-Phelps...                                            \n",
       "...                                                 ...                                            \n",
       "2095  https://www.redfin.com/CA/San-Jose/1030-W-Rive...                                            \n",
       "2096  https://www.redfin.com/CA/San-Jose/6722-Bollin...                                            \n",
       "2097  https://www.redfin.com/CA/San-Jose/6650-Bollin...                                            \n",
       "2098  https://www.redfin.com/CA/San-Jose/1525-Crespi...                                            \n",
       "2099  https://www.redfin.com/CA/San-Jose/4218-Manzan...                                            \n",
       "\n",
       "           SOURCE        MLS# FAVORITE INTERESTED   LATITUDE   LONGITUDE  \n",
       "0     MLSListings  ML81754422        N          Y  37.300915 -121.960148  \n",
       "1     MLSListings  ML81696890        N          Y  37.320737 -121.961721  \n",
       "2     MLSListings  ML81859644        N          Y  37.304621 -121.966285  \n",
       "3     MLSListings  ML81697073        N          Y  37.303358 -121.955554  \n",
       "4     MLSListings  ML81782870        N          Y  37.306858 -121.961286  \n",
       "...           ...         ...      ...        ...        ...         ...  \n",
       "2095  MLSListings  ML81707862        N          Y  37.309076 -122.022544  \n",
       "2096  MLSListings  ML81655357        N          Y  37.309236 -122.022011  \n",
       "2097  MLSListings  ML81649423        N          Y  37.309438 -122.020656  \n",
       "2098  MLSListings  ML81864675        N          Y  37.295157 -121.991675  \n",
       "2099          NaN         NaN        N          Y  37.311265 -121.977926  \n",
       "\n",
       "[2100 rows x 27 columns]"
      ]
     },
     "execution_count": 3,
     "metadata": {},
     "output_type": "execute_result"
    }
   ],
   "source": [
    "# The dataframes df1,df2,df3,df4,df5,df6 are all about West San Jose.\n",
    "# so I combine them together as redfinwsj\n",
    "redfinwsj = pd.concat([df1, df2, df3, df4, df5, df6], ignore_index=True)\n",
    "redfinwsj"
   ]
  },
  {
   "cell_type": "markdown",
   "id": "28daf1a2",
   "metadata": {},
   "source": [
    "#### Data Cleaning\n",
    "\n",
    "I plan to combine 10 csv document into one as the final data source of this project. However, before that, I have to delete the unnecessary column of each dataframes.\n",
    "\n",
    "I choose to modify each dataframes now, instead of after combining all the dataframes to one.\n",
    "\n",
    "It is because\n",
    "\n",
    "Firstly, there are 2100 cases in West San Jose but 350 cases in each other city. Use the combination dataframe to calculate the outlier data can cause the wrong result.\n",
    "\n",
    "Secondly, the housing price gap between cities: In one city where housing prices are normally higher than others, one house at an average price may be the outlier of another city.\n",
    "\n",
    "#### 1. Delete the unnecessary column of each dataframes\n",
    "\n",
    "I plan to combine 10 csv document into one as the final data source of this project. However, before that, I have to delete the unnecessary column of each dataframes.\n",
    "\n",
    "I choose to modify each dataframes now, instead of after combining all the dataframes to one. \n",
    "\n",
    "It is because \n",
    "\n",
    "Firstly, there are 2100 cases in West San Jose but 350 cases in each other city. Use the combination dataframe to calculate the outlier data can cause the wrong result. \n",
    "\n",
    "Secondly, the housing price gap between cities: In one city where housing prices are normally higher than others, one house at an average price may be the outlier of another city."
   ]
  },
  {
   "cell_type": "code",
   "execution_count": 4,
   "id": "7ac01496",
   "metadata": {},
   "outputs": [],
   "source": [
    "redfinwsj.drop(columns=['SALE TYPE','URL (SEE https://www.redfin.com/buy-a-home/comparative-market-analysis FOR INFO ON PRICING)','ADDRESS','STATE OR PROVINCE','LOCATION','DAYS ON MARKET','NEXT OPEN HOUSE START TIME','NEXT OPEN HOUSE END TIME','SOURCE','MLS#','FAVORITE','INTERESTED','LATITUDE','LONGITUDE' ], inplace=True)\n",
    "df7.drop(columns=['SALE TYPE','URL (SEE https://www.redfin.com/buy-a-home/comparative-market-analysis FOR INFO ON PRICING)','ADDRESS','STATE OR PROVINCE','LOCATION','DAYS ON MARKET','NEXT OPEN HOUSE START TIME','NEXT OPEN HOUSE END TIME','SOURCE','MLS#','FAVORITE','INTERESTED','LATITUDE','LONGITUDE' ], inplace=True)\n",
    "df8.drop(columns=['SALE TYPE','URL (SEE https://www.redfin.com/buy-a-home/comparative-market-analysis FOR INFO ON PRICING)','ADDRESS','STATE OR PROVINCE','LOCATION','DAYS ON MARKET','NEXT OPEN HOUSE START TIME','NEXT OPEN HOUSE END TIME','SOURCE','MLS#','FAVORITE','INTERESTED','LATITUDE','LONGITUDE' ], inplace=True)\n",
    "df9.drop(columns=['SALE TYPE','URL (SEE https://www.redfin.com/buy-a-home/comparative-market-analysis FOR INFO ON PRICING)','ADDRESS','STATE OR PROVINCE','LOCATION','DAYS ON MARKET','NEXT OPEN HOUSE START TIME','NEXT OPEN HOUSE END TIME','SOURCE','MLS#','FAVORITE','INTERESTED','LATITUDE','LONGITUDE' ], inplace=True)\n",
    "df10.drop(columns=['SALE TYPE','URL (SEE https://www.redfin.com/buy-a-home/comparative-market-analysis FOR INFO ON PRICING)','ADDRESS','STATE OR PROVINCE','LOCATION','DAYS ON MARKET','NEXT OPEN HOUSE START TIME','NEXT OPEN HOUSE END TIME','SOURCE','MLS#','FAVORITE','INTERESTED','LATITUDE','LONGITUDE' ], inplace=True)"
   ]
  },
  {
   "cell_type": "markdown",
   "id": "d4ad2f85",
   "metadata": {},
   "source": [
    "#### 2.Delete the wrong data\n",
    "\n",
    "This could be a mistake that Redfin made. \n",
    "For example, when I searched with the filter “TH” “SFH”, it would still accidentally give me back the data about the condo. And If I used a filter about cities, it would also give me back information about cities that are not within my searching keywords.\n",
    "I could not tell if the Redfin Team did this on purpose or not, because it could be a kind of advertisement that has a chance to let you look at some real estate that you never thought of  before. \n",
    "\n",
    "So we have to do the step 1 of data cleaning -- Delete the wrong data\n",
    "\n",
    "Let us use the dataframe of West San Jose to see what are those wrong data."
   ]
  },
  {
   "cell_type": "code",
   "execution_count": 5,
   "id": "f2eedaf6",
   "metadata": {},
   "outputs": [
    {
     "data": {
      "text/plain": [
       "Single Family Residential    1874\n",
       "Townhouse                     216\n",
       "Condo/Co-op                     9\n",
       "Multi-Family (5+ Unit)          1\n",
       "Name: PROPERTY TYPE, dtype: int64"
      ]
     },
     "execution_count": 5,
     "metadata": {},
     "output_type": "execute_result"
    }
   ],
   "source": [
    "redfinwsj['PROPERTY TYPE'].value_counts()"
   ]
  },
  {
   "cell_type": "code",
   "execution_count": 6,
   "id": "155d5711",
   "metadata": {},
   "outputs": [
    {
     "data": {
      "text/plain": [
       "Single Family Residential    1874\n",
       "Townhouse                     216\n",
       "Name: PROPERTY TYPE, dtype: int64"
      ]
     },
     "execution_count": 6,
     "metadata": {},
     "output_type": "execute_result"
    }
   ],
   "source": [
    "# drop the data which are about Condo/Co-op and Multi-Family (5+ Unit)\n",
    "redfinwsj.drop(redfinwsj[(redfinwsj['PROPERTY TYPE'] == 'Condo/Co-op') | (redfinwsj['PROPERTY TYPE'] == 'Multi-Family (5+ Unit)')].index, inplace=True)\n",
    "redfinwsj['PROPERTY TYPE'].value_counts()"
   ]
  },
  {
   "cell_type": "code",
   "execution_count": 7,
   "id": "f5fdd9fc",
   "metadata": {},
   "outputs": [
    {
     "data": {
      "text/plain": [
       "SAN JOSE     1855\n",
       "San Jose      203\n",
       "LOS GATOS      11\n",
       "CAMPBELL        9\n",
       "SARATOGA        9\n",
       "Los Gatos       2\n",
       "SUNNYVALE       1\n",
       "Name: CITY, dtype: int64"
      ]
     },
     "execution_count": 7,
     "metadata": {},
     "output_type": "execute_result"
    }
   ],
   "source": [
    "# The same mistakes happened in the column CITY as well.\n",
    "# use the city west san jose as the example\n",
    "redfinwsj['CITY'].value_counts()"
   ]
  },
  {
   "cell_type": "code",
   "execution_count": 8,
   "id": "76e300ac",
   "metadata": {},
   "outputs": [
    {
     "data": {
      "text/plain": [
       "San Jose     2058\n",
       "LOS GATOS      11\n",
       "SARATOGA        9\n",
       "Campbell        9\n",
       "Los Gatos       2\n",
       "Sunnyvale       1\n",
       "Name: CITY, dtype: int64"
      ]
     },
     "execution_count": 8,
     "metadata": {},
     "output_type": "execute_result"
    }
   ],
   "source": [
    "# First Step, I make 'San Jose' and 'SAN JOSE' combine to 'San Jose', ect.\n",
    "# Here, we can see there are campbell and sunnyvale in the dataframe of West San Jose as well. \n",
    "# This may because the website put them to the wrong database.\n",
    "# I would rather keep them. Because they are indeed two of the cities that we are researching.\n",
    "redfinwsj.replace({\"SAN JOSE\": \"San Jose\",\"SUNNYVALE\": \"Sunnyvale\",\"CAMPBELL\": \"Campbell\"}, inplace=True)\n",
    "redfinwsj['CITY'].value_counts()"
   ]
  },
  {
   "cell_type": "code",
   "execution_count": 9,
   "id": "f5286115",
   "metadata": {},
   "outputs": [
    {
     "data": {
      "text/plain": [
       "San Jose     2058\n",
       "Campbell        9\n",
       "Sunnyvale       1\n",
       "Name: CITY, dtype: int64"
      ]
     },
     "execution_count": 9,
     "metadata": {},
     "output_type": "execute_result"
    }
   ],
   "source": [
    "# Second Step, I filter five target city.\n",
    "redfinwsj.drop(redfinwsj[(redfinwsj['CITY'] != 'San Jose') & (redfinwsj['CITY'] != 'Sunnyvale') & (redfinwsj['CITY'] != 'Santa Clara') & (redfinwsj['CITY'] != 'Cupertino') & (redfinwsj['CITY'] != 'Campbell')].index, inplace=True)\n",
    "redfinwsj['CITY'].value_counts()"
   ]
  },
  {
   "cell_type": "markdown",
   "id": "709b0149",
   "metadata": {},
   "source": [
    "#### Now I repeat the above methods to other cities' dataframe"
   ]
  },
  {
   "cell_type": "code",
   "execution_count": 10,
   "id": "39ac3cbd",
   "metadata": {},
   "outputs": [
    {
     "data": {
      "text/plain": [
       "Santa Clara    329\n",
       "San Jose        11\n",
       "Sunnyvale        8\n",
       "Cupertino        2\n",
       "Name: CITY, dtype: int64"
      ]
     },
     "execution_count": 10,
     "metadata": {},
     "output_type": "execute_result"
    }
   ],
   "source": [
    "# santa clara\n",
    "df7.replace({\"SAN JOSE\": \"San Jose\", \"SANTA CLARA\": \"Santa Clara\", \"CUPERTINO\": \"Cupertino\",\"SUNNYVALE\": \"Sunnyvale\",\"CAMPBELL\": \"Campbell\"}, inplace=True)\n",
    "df7.drop(df7[(df7['CITY'] != 'San Jose') & (df7['CITY'] != 'Sunnyvale') & (df7['CITY'] != 'Santa Clara') & (df7['CITY'] != 'Cupertino') & (df7['CITY'] != 'Campbell')].index, inplace=True)\n",
    "df7['CITY'].value_counts()"
   ]
  },
  {
   "cell_type": "code",
   "execution_count": 11,
   "id": "0caa8d88",
   "metadata": {},
   "outputs": [
    {
     "data": {
      "text/plain": [
       "Campbell    275\n",
       "San Jose     45\n",
       "Name: CITY, dtype: int64"
      ]
     },
     "execution_count": 11,
     "metadata": {},
     "output_type": "execute_result"
    }
   ],
   "source": [
    "# campbell\n",
    "df8.replace({\"SAN JOSE\": \"San Jose\", \"SANTA CLARA\": \"Santa Clara\", \"CUPERTINO\": \"Cupertino\",\"SUNNYVALE\": \"Sunnyvale\",\"CAMPBELL\": \"Campbell\"}, inplace=True)\n",
    "df8.drop(df8[(df8['CITY'] != 'San Jose') & (df8['CITY'] != 'Sunnyvale') & (df8['CITY'] != 'Santa Clara') & (df8['CITY'] != 'Cupertino') & (df8['CITY'] != 'Campbell')].index, inplace=True)\n",
    "df8['CITY'].value_counts()"
   ]
  },
  {
   "cell_type": "code",
   "execution_count": 12,
   "id": "77ffebbb",
   "metadata": {},
   "outputs": [
    {
     "data": {
      "text/plain": [
       "Cupertino    303\n",
       "Sunnyvale     21\n",
       "San Jose      10\n",
       "Name: CITY, dtype: int64"
      ]
     },
     "execution_count": 12,
     "metadata": {},
     "output_type": "execute_result"
    }
   ],
   "source": [
    "#cupertino\n",
    "df9.replace({\"SAN JOSE\": \"San Jose\", \"SANTA CLARA\": \"Santa Clara\", \"CUPERTINO\": \"Cupertino\",\"SUNNYVALE\": \"Sunnyvale\",\"CAMPBELL\": \"Campbell\"}, inplace=True)\n",
    "df9.drop(df9[(df9['CITY'] != 'San Jose') & (df9['CITY'] != 'Sunnyvale') & (df9['CITY'] != 'Santa Clara') & (df9['CITY'] != 'Cupertino') & (df9['CITY'] != 'Campbell')].index, inplace=True)\n",
    "df9['CITY'].value_counts()"
   ]
  },
  {
   "cell_type": "code",
   "execution_count": 13,
   "id": "6c280026",
   "metadata": {},
   "outputs": [
    {
     "data": {
      "text/plain": [
       "Sunnyvale      324\n",
       "Cupertino       12\n",
       "Santa Clara      7\n",
       "Name: CITY, dtype: int64"
      ]
     },
     "execution_count": 13,
     "metadata": {},
     "output_type": "execute_result"
    }
   ],
   "source": [
    "#sunnyvale\n",
    "df10.replace({\"SAN JOSE\": \"San Jose\", \"SANTA CLARA\": \"Santa Clara\", \"CUPERTINO\": \"Cupertino\",\"SUNNYVALE\": \"Sunnyvale\",\"CAMPBELL\": \"Campbell\"}, inplace=True)\n",
    "df10.drop(df10[(df10['CITY'] != 'San Jose') & (df10['CITY'] != 'Sunnyvale') & (df10['CITY'] != 'Santa Clara') & (df10['CITY'] != 'Cupertino') & (df10['CITY'] != 'Campbell')].index, inplace=True)\n",
    "df10['CITY'].value_counts()"
   ]
  },
  {
   "cell_type": "markdown",
   "id": "c2a12cc5",
   "metadata": {},
   "source": [
    "#### 3. delete the outlier data"
   ]
  },
  {
   "cell_type": "code",
   "execution_count": 14,
   "id": "c0b67bb6",
   "metadata": {},
   "outputs": [
    {
     "data": {
      "text/html": [
       "<div>\n",
       "<style scoped>\n",
       "    .dataframe tbody tr th:only-of-type {\n",
       "        vertical-align: middle;\n",
       "    }\n",
       "\n",
       "    .dataframe tbody tr th {\n",
       "        vertical-align: top;\n",
       "    }\n",
       "\n",
       "    .dataframe thead th {\n",
       "        text-align: right;\n",
       "    }\n",
       "</style>\n",
       "<table border=\"1\" class=\"dataframe\">\n",
       "  <thead>\n",
       "    <tr style=\"text-align: right;\">\n",
       "      <th></th>\n",
       "      <th>SOLD DATE</th>\n",
       "      <th>PROPERTY TYPE</th>\n",
       "      <th>CITY</th>\n",
       "      <th>ZIP OR POSTAL CODE</th>\n",
       "      <th>PRICE</th>\n",
       "      <th>BEDS</th>\n",
       "      <th>BATHS</th>\n",
       "      <th>SQUARE FEET</th>\n",
       "      <th>LOT SIZE</th>\n",
       "      <th>YEAR BUILT</th>\n",
       "      <th>$/SQUARE FEET</th>\n",
       "      <th>HOA/MONTH</th>\n",
       "      <th>STATUS</th>\n",
       "    </tr>\n",
       "  </thead>\n",
       "  <tbody>\n",
       "    <tr>\n",
       "      <th>0</th>\n",
       "      <td>June-26-2019</td>\n",
       "      <td>Townhouse</td>\n",
       "      <td>San Jose</td>\n",
       "      <td>95117</td>\n",
       "      <td>988000</td>\n",
       "      <td>2</td>\n",
       "      <td>2.0</td>\n",
       "      <td>1152.0</td>\n",
       "      <td>1440.0</td>\n",
       "      <td>1972</td>\n",
       "      <td>858.0</td>\n",
       "      <td>260.0</td>\n",
       "      <td>Sold</td>\n",
       "    </tr>\n",
       "    <tr>\n",
       "      <th>1</th>\n",
       "      <td>April-20-2018</td>\n",
       "      <td>Townhouse</td>\n",
       "      <td>San Jose</td>\n",
       "      <td>95117</td>\n",
       "      <td>1091000</td>\n",
       "      <td>2</td>\n",
       "      <td>2.5</td>\n",
       "      <td>1117.0</td>\n",
       "      <td>3823.0</td>\n",
       "      <td>1985</td>\n",
       "      <td>977.0</td>\n",
       "      <td>337.0</td>\n",
       "      <td>Sold</td>\n",
       "    </tr>\n",
       "    <tr>\n",
       "      <th>2</th>\n",
       "      <td>October-22-2021</td>\n",
       "      <td>Single Family Residential</td>\n",
       "      <td>San Jose</td>\n",
       "      <td>95117</td>\n",
       "      <td>1555000</td>\n",
       "      <td>3</td>\n",
       "      <td>2.0</td>\n",
       "      <td>1557.0</td>\n",
       "      <td>7024.0</td>\n",
       "      <td>1973</td>\n",
       "      <td>999.0</td>\n",
       "      <td>NaN</td>\n",
       "      <td>Sold</td>\n",
       "    </tr>\n",
       "    <tr>\n",
       "      <th>3</th>\n",
       "      <td>April-27-2018</td>\n",
       "      <td>Single Family Residential</td>\n",
       "      <td>San Jose</td>\n",
       "      <td>95117</td>\n",
       "      <td>1650000</td>\n",
       "      <td>4</td>\n",
       "      <td>2.0</td>\n",
       "      <td>2257.0</td>\n",
       "      <td>6900.0</td>\n",
       "      <td>1968</td>\n",
       "      <td>731.0</td>\n",
       "      <td>NaN</td>\n",
       "      <td>Sold</td>\n",
       "    </tr>\n",
       "    <tr>\n",
       "      <th>4</th>\n",
       "      <td>March-18-2020</td>\n",
       "      <td>Single Family Residential</td>\n",
       "      <td>San Jose</td>\n",
       "      <td>95117</td>\n",
       "      <td>1635000</td>\n",
       "      <td>4</td>\n",
       "      <td>3.0</td>\n",
       "      <td>2199.0</td>\n",
       "      <td>6163.0</td>\n",
       "      <td>1962</td>\n",
       "      <td>744.0</td>\n",
       "      <td>NaN</td>\n",
       "      <td>Sold</td>\n",
       "    </tr>\n",
       "    <tr>\n",
       "      <th>...</th>\n",
       "      <td>...</td>\n",
       "      <td>...</td>\n",
       "      <td>...</td>\n",
       "      <td>...</td>\n",
       "      <td>...</td>\n",
       "      <td>...</td>\n",
       "      <td>...</td>\n",
       "      <td>...</td>\n",
       "      <td>...</td>\n",
       "      <td>...</td>\n",
       "      <td>...</td>\n",
       "      <td>...</td>\n",
       "      <td>...</td>\n",
       "    </tr>\n",
       "    <tr>\n",
       "      <th>1980</th>\n",
       "      <td>July-6-2018</td>\n",
       "      <td>Single Family Residential</td>\n",
       "      <td>San Jose</td>\n",
       "      <td>95129</td>\n",
       "      <td>2262888</td>\n",
       "      <td>4</td>\n",
       "      <td>2.0</td>\n",
       "      <td>1246.0</td>\n",
       "      <td>7924.0</td>\n",
       "      <td>1956</td>\n",
       "      <td>1816.0</td>\n",
       "      <td>NaN</td>\n",
       "      <td>Sold</td>\n",
       "    </tr>\n",
       "    <tr>\n",
       "      <th>1981</th>\n",
       "      <td>July-17-2017</td>\n",
       "      <td>Single Family Residential</td>\n",
       "      <td>San Jose</td>\n",
       "      <td>95129</td>\n",
       "      <td>1681320</td>\n",
       "      <td>4</td>\n",
       "      <td>2.0</td>\n",
       "      <td>1318.0</td>\n",
       "      <td>7434.0</td>\n",
       "      <td>1956</td>\n",
       "      <td>1276.0</td>\n",
       "      <td>NaN</td>\n",
       "      <td>Sold</td>\n",
       "    </tr>\n",
       "    <tr>\n",
       "      <th>1982</th>\n",
       "      <td>July-17-2017</td>\n",
       "      <td>Single Family Residential</td>\n",
       "      <td>San Jose</td>\n",
       "      <td>95129</td>\n",
       "      <td>1830000</td>\n",
       "      <td>4</td>\n",
       "      <td>3.5</td>\n",
       "      <td>2571.0</td>\n",
       "      <td>8071.0</td>\n",
       "      <td>2011</td>\n",
       "      <td>712.0</td>\n",
       "      <td>NaN</td>\n",
       "      <td>Sold</td>\n",
       "    </tr>\n",
       "    <tr>\n",
       "      <th>1983</th>\n",
       "      <td>November-9-2021</td>\n",
       "      <td>Single Family Residential</td>\n",
       "      <td>San Jose</td>\n",
       "      <td>95129</td>\n",
       "      <td>2070000</td>\n",
       "      <td>4</td>\n",
       "      <td>2.0</td>\n",
       "      <td>1396.0</td>\n",
       "      <td>7140.0</td>\n",
       "      <td>1957</td>\n",
       "      <td>1483.0</td>\n",
       "      <td>NaN</td>\n",
       "      <td>Sold</td>\n",
       "    </tr>\n",
       "    <tr>\n",
       "      <th>1984</th>\n",
       "      <td>NaN</td>\n",
       "      <td>Single Family Residential</td>\n",
       "      <td>San Jose</td>\n",
       "      <td>95129</td>\n",
       "      <td>1900000</td>\n",
       "      <td>5</td>\n",
       "      <td>3.0</td>\n",
       "      <td>2854.0</td>\n",
       "      <td>6600.0</td>\n",
       "      <td>1955</td>\n",
       "      <td>666.0</td>\n",
       "      <td>NaN</td>\n",
       "      <td>NaN</td>\n",
       "    </tr>\n",
       "  </tbody>\n",
       "</table>\n",
       "<p>1985 rows × 13 columns</p>\n",
       "</div>"
      ],
      "text/plain": [
       "            SOLD DATE              PROPERTY TYPE      CITY ZIP OR POSTAL CODE  \\\n",
       "0        June-26-2019                  Townhouse  San Jose              95117   \n",
       "1       April-20-2018                  Townhouse  San Jose              95117   \n",
       "2     October-22-2021  Single Family Residential  San Jose              95117   \n",
       "3       April-27-2018  Single Family Residential  San Jose              95117   \n",
       "4       March-18-2020  Single Family Residential  San Jose              95117   \n",
       "...               ...                        ...       ...                ...   \n",
       "1980      July-6-2018  Single Family Residential  San Jose              95129   \n",
       "1981     July-17-2017  Single Family Residential  San Jose              95129   \n",
       "1982     July-17-2017  Single Family Residential  San Jose              95129   \n",
       "1983  November-9-2021  Single Family Residential  San Jose              95129   \n",
       "1984              NaN  Single Family Residential  San Jose              95129   \n",
       "\n",
       "        PRICE  BEDS  BATHS  SQUARE FEET  LOT SIZE  YEAR BUILT  $/SQUARE FEET  \\\n",
       "0      988000     2    2.0       1152.0    1440.0        1972          858.0   \n",
       "1     1091000     2    2.5       1117.0    3823.0        1985          977.0   \n",
       "2     1555000     3    2.0       1557.0    7024.0        1973          999.0   \n",
       "3     1650000     4    2.0       2257.0    6900.0        1968          731.0   \n",
       "4     1635000     4    3.0       2199.0    6163.0        1962          744.0   \n",
       "...       ...   ...    ...          ...       ...         ...            ...   \n",
       "1980  2262888     4    2.0       1246.0    7924.0        1956         1816.0   \n",
       "1981  1681320     4    2.0       1318.0    7434.0        1956         1276.0   \n",
       "1982  1830000     4    3.5       2571.0    8071.0        2011          712.0   \n",
       "1983  2070000     4    2.0       1396.0    7140.0        1957         1483.0   \n",
       "1984  1900000     5    3.0       2854.0    6600.0        1955          666.0   \n",
       "\n",
       "      HOA/MONTH STATUS  \n",
       "0         260.0   Sold  \n",
       "1         337.0   Sold  \n",
       "2           NaN   Sold  \n",
       "3           NaN   Sold  \n",
       "4           NaN   Sold  \n",
       "...         ...    ...  \n",
       "1980        NaN   Sold  \n",
       "1981        NaN   Sold  \n",
       "1982        NaN   Sold  \n",
       "1983        NaN   Sold  \n",
       "1984        NaN    NaN  \n",
       "\n",
       "[1985 rows x 13 columns]"
      ]
     },
     "execution_count": 14,
     "metadata": {},
     "output_type": "execute_result"
    }
   ],
   "source": [
    "# kickoff outliers in the west san jose\n",
    "redfin6 = redfinwsj[[\"PRICE\", \"BEDS\",\"BATHS\",\"SQUARE FEET\",\"LOT SIZE\"]]\n",
    "redfin7 = redfin6.dropna()\n",
    "from scipy import stats\n",
    "z = np.abs(stats.zscore(redfin7))\n",
    "threshold = 3\n",
    "redfin8 = redfin7[(z < 3).all(axis=1)]\n",
    "redfinwsj_new = redfinwsj.loc[redfin8.index]\n",
    "\n",
    "redfinwsj_index = redfinwsj_new.reset_index(drop = True)\n",
    "redfinwsj_index"
   ]
  },
  {
   "cell_type": "code",
   "execution_count": 15,
   "id": "8a2219d2",
   "metadata": {},
   "outputs": [
    {
     "data": {
      "text/html": [
       "<div>\n",
       "<style scoped>\n",
       "    .dataframe tbody tr th:only-of-type {\n",
       "        vertical-align: middle;\n",
       "    }\n",
       "\n",
       "    .dataframe tbody tr th {\n",
       "        vertical-align: top;\n",
       "    }\n",
       "\n",
       "    .dataframe thead th {\n",
       "        text-align: right;\n",
       "    }\n",
       "</style>\n",
       "<table border=\"1\" class=\"dataframe\">\n",
       "  <thead>\n",
       "    <tr style=\"text-align: right;\">\n",
       "      <th></th>\n",
       "      <th>SOLD DATE</th>\n",
       "      <th>PROPERTY TYPE</th>\n",
       "      <th>CITY</th>\n",
       "      <th>ZIP OR POSTAL CODE</th>\n",
       "      <th>PRICE</th>\n",
       "      <th>BEDS</th>\n",
       "      <th>BATHS</th>\n",
       "      <th>SQUARE FEET</th>\n",
       "      <th>LOT SIZE</th>\n",
       "      <th>YEAR BUILT</th>\n",
       "      <th>$/SQUARE FEET</th>\n",
       "      <th>HOA/MONTH</th>\n",
       "      <th>STATUS</th>\n",
       "    </tr>\n",
       "  </thead>\n",
       "  <tbody>\n",
       "    <tr>\n",
       "      <th>0</th>\n",
       "      <td>NaN</td>\n",
       "      <td>Single Family Residential</td>\n",
       "      <td>Santa Clara</td>\n",
       "      <td>95051</td>\n",
       "      <td>1655000</td>\n",
       "      <td>4</td>\n",
       "      <td>2.0</td>\n",
       "      <td>1288</td>\n",
       "      <td>6300.0</td>\n",
       "      <td>1968.0</td>\n",
       "      <td>1285</td>\n",
       "      <td>NaN</td>\n",
       "      <td>NaN</td>\n",
       "    </tr>\n",
       "    <tr>\n",
       "      <th>1</th>\n",
       "      <td>October-10-2017</td>\n",
       "      <td>Single Family Residential</td>\n",
       "      <td>Santa Clara</td>\n",
       "      <td>95051</td>\n",
       "      <td>1080000</td>\n",
       "      <td>3</td>\n",
       "      <td>2.0</td>\n",
       "      <td>1316</td>\n",
       "      <td>5600.0</td>\n",
       "      <td>1954.0</td>\n",
       "      <td>821</td>\n",
       "      <td>NaN</td>\n",
       "      <td>Sold</td>\n",
       "    </tr>\n",
       "    <tr>\n",
       "      <th>2</th>\n",
       "      <td>October-5-2018</td>\n",
       "      <td>Single Family Residential</td>\n",
       "      <td>Santa Clara</td>\n",
       "      <td>95054</td>\n",
       "      <td>1182375</td>\n",
       "      <td>4</td>\n",
       "      <td>2.0</td>\n",
       "      <td>1466</td>\n",
       "      <td>7618.0</td>\n",
       "      <td>1961.0</td>\n",
       "      <td>807</td>\n",
       "      <td>NaN</td>\n",
       "      <td>Sold</td>\n",
       "    </tr>\n",
       "    <tr>\n",
       "      <th>3</th>\n",
       "      <td>August-15-2018</td>\n",
       "      <td>Single Family Residential</td>\n",
       "      <td>Santa Clara</td>\n",
       "      <td>95051</td>\n",
       "      <td>1410000</td>\n",
       "      <td>3</td>\n",
       "      <td>2.0</td>\n",
       "      <td>1095</td>\n",
       "      <td>5983.0</td>\n",
       "      <td>1958.0</td>\n",
       "      <td>1288</td>\n",
       "      <td>NaN</td>\n",
       "      <td>Sold</td>\n",
       "    </tr>\n",
       "    <tr>\n",
       "      <th>4</th>\n",
       "      <td>October-28-2019</td>\n",
       "      <td>Townhouse</td>\n",
       "      <td>Santa Clara</td>\n",
       "      <td>95054</td>\n",
       "      <td>1080000</td>\n",
       "      <td>3</td>\n",
       "      <td>2.5</td>\n",
       "      <td>1400</td>\n",
       "      <td>1470.0</td>\n",
       "      <td>1973.0</td>\n",
       "      <td>771</td>\n",
       "      <td>355.0</td>\n",
       "      <td>Sold</td>\n",
       "    </tr>\n",
       "    <tr>\n",
       "      <th>...</th>\n",
       "      <td>...</td>\n",
       "      <td>...</td>\n",
       "      <td>...</td>\n",
       "      <td>...</td>\n",
       "      <td>...</td>\n",
       "      <td>...</td>\n",
       "      <td>...</td>\n",
       "      <td>...</td>\n",
       "      <td>...</td>\n",
       "      <td>...</td>\n",
       "      <td>...</td>\n",
       "      <td>...</td>\n",
       "      <td>...</td>\n",
       "    </tr>\n",
       "    <tr>\n",
       "      <th>327</th>\n",
       "      <td>November-2-2018</td>\n",
       "      <td>Single Family Residential</td>\n",
       "      <td>Santa Clara</td>\n",
       "      <td>95050</td>\n",
       "      <td>1455000</td>\n",
       "      <td>3</td>\n",
       "      <td>2.0</td>\n",
       "      <td>1640</td>\n",
       "      <td>5565.0</td>\n",
       "      <td>1948.0</td>\n",
       "      <td>887</td>\n",
       "      <td>NaN</td>\n",
       "      <td>Sold</td>\n",
       "    </tr>\n",
       "    <tr>\n",
       "      <th>328</th>\n",
       "      <td>December-6-2019</td>\n",
       "      <td>Townhouse</td>\n",
       "      <td>Santa Clara</td>\n",
       "      <td>95054</td>\n",
       "      <td>730000</td>\n",
       "      <td>2</td>\n",
       "      <td>2.5</td>\n",
       "      <td>1300</td>\n",
       "      <td>653.0</td>\n",
       "      <td>1979.0</td>\n",
       "      <td>562</td>\n",
       "      <td>410.0</td>\n",
       "      <td>Sold</td>\n",
       "    </tr>\n",
       "    <tr>\n",
       "      <th>329</th>\n",
       "      <td>October-26-2021</td>\n",
       "      <td>Single Family Residential</td>\n",
       "      <td>Santa Clara</td>\n",
       "      <td>95050</td>\n",
       "      <td>1175000</td>\n",
       "      <td>3</td>\n",
       "      <td>1.0</td>\n",
       "      <td>1224</td>\n",
       "      <td>5767.0</td>\n",
       "      <td>1954.0</td>\n",
       "      <td>960</td>\n",
       "      <td>NaN</td>\n",
       "      <td>Sold</td>\n",
       "    </tr>\n",
       "    <tr>\n",
       "      <th>330</th>\n",
       "      <td>July-10-2017</td>\n",
       "      <td>Townhouse</td>\n",
       "      <td>Santa Clara</td>\n",
       "      <td>95051</td>\n",
       "      <td>958000</td>\n",
       "      <td>3</td>\n",
       "      <td>2.0</td>\n",
       "      <td>1311</td>\n",
       "      <td>1608.0</td>\n",
       "      <td>1972.0</td>\n",
       "      <td>731</td>\n",
       "      <td>265.0</td>\n",
       "      <td>Sold</td>\n",
       "    </tr>\n",
       "    <tr>\n",
       "      <th>331</th>\n",
       "      <td>October-22-2021</td>\n",
       "      <td>Single Family Residential</td>\n",
       "      <td>Santa Clara</td>\n",
       "      <td>95054</td>\n",
       "      <td>1965000</td>\n",
       "      <td>3</td>\n",
       "      <td>2.5</td>\n",
       "      <td>2036</td>\n",
       "      <td>2852.0</td>\n",
       "      <td>2004.0</td>\n",
       "      <td>965</td>\n",
       "      <td>143.0</td>\n",
       "      <td>Sold</td>\n",
       "    </tr>\n",
       "  </tbody>\n",
       "</table>\n",
       "<p>332 rows × 13 columns</p>\n",
       "</div>"
      ],
      "text/plain": [
       "           SOLD DATE              PROPERTY TYPE         CITY  \\\n",
       "0                NaN  Single Family Residential  Santa Clara   \n",
       "1    October-10-2017  Single Family Residential  Santa Clara   \n",
       "2     October-5-2018  Single Family Residential  Santa Clara   \n",
       "3     August-15-2018  Single Family Residential  Santa Clara   \n",
       "4    October-28-2019                  Townhouse  Santa Clara   \n",
       "..               ...                        ...          ...   \n",
       "327  November-2-2018  Single Family Residential  Santa Clara   \n",
       "328  December-6-2019                  Townhouse  Santa Clara   \n",
       "329  October-26-2021  Single Family Residential  Santa Clara   \n",
       "330     July-10-2017                  Townhouse  Santa Clara   \n",
       "331  October-22-2021  Single Family Residential  Santa Clara   \n",
       "\n",
       "     ZIP OR POSTAL CODE    PRICE  BEDS  BATHS  SQUARE FEET  LOT SIZE  \\\n",
       "0                 95051  1655000     4    2.0         1288    6300.0   \n",
       "1                 95051  1080000     3    2.0         1316    5600.0   \n",
       "2                 95054  1182375     4    2.0         1466    7618.0   \n",
       "3                 95051  1410000     3    2.0         1095    5983.0   \n",
       "4                 95054  1080000     3    2.5         1400    1470.0   \n",
       "..                  ...      ...   ...    ...          ...       ...   \n",
       "327               95050  1455000     3    2.0         1640    5565.0   \n",
       "328               95054   730000     2    2.5         1300     653.0   \n",
       "329               95050  1175000     3    1.0         1224    5767.0   \n",
       "330               95051   958000     3    2.0         1311    1608.0   \n",
       "331               95054  1965000     3    2.5         2036    2852.0   \n",
       "\n",
       "     YEAR BUILT  $/SQUARE FEET  HOA/MONTH STATUS  \n",
       "0        1968.0           1285        NaN    NaN  \n",
       "1        1954.0            821        NaN   Sold  \n",
       "2        1961.0            807        NaN   Sold  \n",
       "3        1958.0           1288        NaN   Sold  \n",
       "4        1973.0            771      355.0   Sold  \n",
       "..          ...            ...        ...    ...  \n",
       "327      1948.0            887        NaN   Sold  \n",
       "328      1979.0            562      410.0   Sold  \n",
       "329      1954.0            960        NaN   Sold  \n",
       "330      1972.0            731      265.0   Sold  \n",
       "331      2004.0            965      143.0   Sold  \n",
       "\n",
       "[332 rows x 13 columns]"
      ]
     },
     "execution_count": 15,
     "metadata": {},
     "output_type": "execute_result"
    }
   ],
   "source": [
    "# kickoff outliers in the santa clara\n",
    "\n",
    "redfin9 = df7[[\"PRICE\", \"BEDS\",\"BATHS\",\"SQUARE FEET\",\"LOT SIZE\"]]\n",
    "redfin10 = redfin9.dropna()\n",
    "from scipy import stats\n",
    "z = np.abs(stats.zscore(redfin10))\n",
    "threshold = 3\n",
    "redfin11 = redfin10[(z < 3).all(axis=1)]\n",
    "df7_new = df7.loc[redfin11.index]\n",
    "\n",
    "df7_index = df7_new.reset_index(drop = True)\n",
    "df7_index"
   ]
  },
  {
   "cell_type": "code",
   "execution_count": 16,
   "id": "1c1a52e4",
   "metadata": {},
   "outputs": [
    {
     "data": {
      "text/html": [
       "<div>\n",
       "<style scoped>\n",
       "    .dataframe tbody tr th:only-of-type {\n",
       "        vertical-align: middle;\n",
       "    }\n",
       "\n",
       "    .dataframe tbody tr th {\n",
       "        vertical-align: top;\n",
       "    }\n",
       "\n",
       "    .dataframe thead th {\n",
       "        text-align: right;\n",
       "    }\n",
       "</style>\n",
       "<table border=\"1\" class=\"dataframe\">\n",
       "  <thead>\n",
       "    <tr style=\"text-align: right;\">\n",
       "      <th></th>\n",
       "      <th>SOLD DATE</th>\n",
       "      <th>PROPERTY TYPE</th>\n",
       "      <th>CITY</th>\n",
       "      <th>ZIP OR POSTAL CODE</th>\n",
       "      <th>PRICE</th>\n",
       "      <th>BEDS</th>\n",
       "      <th>BATHS</th>\n",
       "      <th>SQUARE FEET</th>\n",
       "      <th>LOT SIZE</th>\n",
       "      <th>YEAR BUILT</th>\n",
       "      <th>$/SQUARE FEET</th>\n",
       "      <th>HOA/MONTH</th>\n",
       "      <th>STATUS</th>\n",
       "    </tr>\n",
       "  </thead>\n",
       "  <tbody>\n",
       "    <tr>\n",
       "      <th>0</th>\n",
       "      <td>May-6-2019</td>\n",
       "      <td>Single Family Residential</td>\n",
       "      <td>Campbell</td>\n",
       "      <td>95008</td>\n",
       "      <td>1925000</td>\n",
       "      <td>4</td>\n",
       "      <td>3.0</td>\n",
       "      <td>2054.0</td>\n",
       "      <td>6587.0</td>\n",
       "      <td>2018</td>\n",
       "      <td>937.0</td>\n",
       "      <td>NaN</td>\n",
       "      <td>Sold</td>\n",
       "    </tr>\n",
       "    <tr>\n",
       "      <th>1</th>\n",
       "      <td>September-3-2020</td>\n",
       "      <td>Single Family Residential</td>\n",
       "      <td>Campbell</td>\n",
       "      <td>95008</td>\n",
       "      <td>1425000</td>\n",
       "      <td>4</td>\n",
       "      <td>3.0</td>\n",
       "      <td>1591.0</td>\n",
       "      <td>6076.0</td>\n",
       "      <td>1961</td>\n",
       "      <td>896.0</td>\n",
       "      <td>NaN</td>\n",
       "      <td>Sold</td>\n",
       "    </tr>\n",
       "    <tr>\n",
       "      <th>2</th>\n",
       "      <td>July-24-2020</td>\n",
       "      <td>Single Family Residential</td>\n",
       "      <td>Campbell</td>\n",
       "      <td>95008</td>\n",
       "      <td>1430000</td>\n",
       "      <td>3</td>\n",
       "      <td>2.0</td>\n",
       "      <td>1478.0</td>\n",
       "      <td>6037.0</td>\n",
       "      <td>1961</td>\n",
       "      <td>968.0</td>\n",
       "      <td>NaN</td>\n",
       "      <td>Sold</td>\n",
       "    </tr>\n",
       "    <tr>\n",
       "      <th>3</th>\n",
       "      <td>June-25-2020</td>\n",
       "      <td>Single Family Residential</td>\n",
       "      <td>San Jose</td>\n",
       "      <td>95128</td>\n",
       "      <td>1221250</td>\n",
       "      <td>3</td>\n",
       "      <td>2.0</td>\n",
       "      <td>1222.0</td>\n",
       "      <td>9095.0</td>\n",
       "      <td>1950</td>\n",
       "      <td>999.0</td>\n",
       "      <td>NaN</td>\n",
       "      <td>Sold</td>\n",
       "    </tr>\n",
       "    <tr>\n",
       "      <th>4</th>\n",
       "      <td>April-16-2020</td>\n",
       "      <td>Single Family Residential</td>\n",
       "      <td>Campbell</td>\n",
       "      <td>95008</td>\n",
       "      <td>1301000</td>\n",
       "      <td>3</td>\n",
       "      <td>2.0</td>\n",
       "      <td>1176.0</td>\n",
       "      <td>6929.0</td>\n",
       "      <td>1955</td>\n",
       "      <td>1106.0</td>\n",
       "      <td>NaN</td>\n",
       "      <td>Sold</td>\n",
       "    </tr>\n",
       "    <tr>\n",
       "      <th>...</th>\n",
       "      <td>...</td>\n",
       "      <td>...</td>\n",
       "      <td>...</td>\n",
       "      <td>...</td>\n",
       "      <td>...</td>\n",
       "      <td>...</td>\n",
       "      <td>...</td>\n",
       "      <td>...</td>\n",
       "      <td>...</td>\n",
       "      <td>...</td>\n",
       "      <td>...</td>\n",
       "      <td>...</td>\n",
       "      <td>...</td>\n",
       "    </tr>\n",
       "    <tr>\n",
       "      <th>300</th>\n",
       "      <td>May-23-2017</td>\n",
       "      <td>Single Family Residential</td>\n",
       "      <td>San Jose</td>\n",
       "      <td>95130</td>\n",
       "      <td>1448000</td>\n",
       "      <td>3</td>\n",
       "      <td>2.0</td>\n",
       "      <td>1204.0</td>\n",
       "      <td>6148.0</td>\n",
       "      <td>1964</td>\n",
       "      <td>1203.0</td>\n",
       "      <td>NaN</td>\n",
       "      <td>Sold</td>\n",
       "    </tr>\n",
       "    <tr>\n",
       "      <th>301</th>\n",
       "      <td>January-4-2017</td>\n",
       "      <td>Single Family Residential</td>\n",
       "      <td>San Jose</td>\n",
       "      <td>95130</td>\n",
       "      <td>1200000</td>\n",
       "      <td>3</td>\n",
       "      <td>2.0</td>\n",
       "      <td>1087.0</td>\n",
       "      <td>6042.0</td>\n",
       "      <td>1963</td>\n",
       "      <td>1104.0</td>\n",
       "      <td>NaN</td>\n",
       "      <td>Sold</td>\n",
       "    </tr>\n",
       "    <tr>\n",
       "      <th>302</th>\n",
       "      <td>September-27-2021</td>\n",
       "      <td>Townhouse</td>\n",
       "      <td>Campbell</td>\n",
       "      <td>95008</td>\n",
       "      <td>1000000</td>\n",
       "      <td>2</td>\n",
       "      <td>2.0</td>\n",
       "      <td>1018.0</td>\n",
       "      <td>3520.0</td>\n",
       "      <td>1964</td>\n",
       "      <td>982.0</td>\n",
       "      <td>342.0</td>\n",
       "      <td>Sold</td>\n",
       "    </tr>\n",
       "    <tr>\n",
       "      <th>303</th>\n",
       "      <td>May-27-2021</td>\n",
       "      <td>Single Family Residential</td>\n",
       "      <td>Campbell</td>\n",
       "      <td>95008</td>\n",
       "      <td>1920000</td>\n",
       "      <td>4</td>\n",
       "      <td>2.0</td>\n",
       "      <td>1841.0</td>\n",
       "      <td>6016.0</td>\n",
       "      <td>1971</td>\n",
       "      <td>1043.0</td>\n",
       "      <td>NaN</td>\n",
       "      <td>Sold</td>\n",
       "    </tr>\n",
       "    <tr>\n",
       "      <th>304</th>\n",
       "      <td>August-14-2019</td>\n",
       "      <td>Single Family Residential</td>\n",
       "      <td>Campbell</td>\n",
       "      <td>95008</td>\n",
       "      <td>1250000</td>\n",
       "      <td>4</td>\n",
       "      <td>3.0</td>\n",
       "      <td>2367.0</td>\n",
       "      <td>7931.0</td>\n",
       "      <td>1962</td>\n",
       "      <td>528.0</td>\n",
       "      <td>NaN</td>\n",
       "      <td>Sold</td>\n",
       "    </tr>\n",
       "  </tbody>\n",
       "</table>\n",
       "<p>305 rows × 13 columns</p>\n",
       "</div>"
      ],
      "text/plain": [
       "             SOLD DATE              PROPERTY TYPE      CITY  \\\n",
       "0           May-6-2019  Single Family Residential  Campbell   \n",
       "1     September-3-2020  Single Family Residential  Campbell   \n",
       "2         July-24-2020  Single Family Residential  Campbell   \n",
       "3         June-25-2020  Single Family Residential  San Jose   \n",
       "4        April-16-2020  Single Family Residential  Campbell   \n",
       "..                 ...                        ...       ...   \n",
       "300        May-23-2017  Single Family Residential  San Jose   \n",
       "301     January-4-2017  Single Family Residential  San Jose   \n",
       "302  September-27-2021                  Townhouse  Campbell   \n",
       "303        May-27-2021  Single Family Residential  Campbell   \n",
       "304     August-14-2019  Single Family Residential  Campbell   \n",
       "\n",
       "    ZIP OR POSTAL CODE    PRICE  BEDS  BATHS  SQUARE FEET  LOT SIZE  \\\n",
       "0                95008  1925000     4    3.0       2054.0    6587.0   \n",
       "1                95008  1425000     4    3.0       1591.0    6076.0   \n",
       "2                95008  1430000     3    2.0       1478.0    6037.0   \n",
       "3                95128  1221250     3    2.0       1222.0    9095.0   \n",
       "4                95008  1301000     3    2.0       1176.0    6929.0   \n",
       "..                 ...      ...   ...    ...          ...       ...   \n",
       "300              95130  1448000     3    2.0       1204.0    6148.0   \n",
       "301              95130  1200000     3    2.0       1087.0    6042.0   \n",
       "302              95008  1000000     2    2.0       1018.0    3520.0   \n",
       "303              95008  1920000     4    2.0       1841.0    6016.0   \n",
       "304              95008  1250000     4    3.0       2367.0    7931.0   \n",
       "\n",
       "     YEAR BUILT  $/SQUARE FEET  HOA/MONTH STATUS  \n",
       "0          2018          937.0        NaN   Sold  \n",
       "1          1961          896.0        NaN   Sold  \n",
       "2          1961          968.0        NaN   Sold  \n",
       "3          1950          999.0        NaN   Sold  \n",
       "4          1955         1106.0        NaN   Sold  \n",
       "..          ...            ...        ...    ...  \n",
       "300        1964         1203.0        NaN   Sold  \n",
       "301        1963         1104.0        NaN   Sold  \n",
       "302        1964          982.0      342.0   Sold  \n",
       "303        1971         1043.0        NaN   Sold  \n",
       "304        1962          528.0        NaN   Sold  \n",
       "\n",
       "[305 rows x 13 columns]"
      ]
     },
     "execution_count": 16,
     "metadata": {},
     "output_type": "execute_result"
    }
   ],
   "source": [
    "# kickoff outliers in the campbell\n",
    "\n",
    "redfin12 = df8[[\"PRICE\", \"BEDS\",\"BATHS\",\"SQUARE FEET\",\"LOT SIZE\"]]\n",
    "redfin13 = redfin12.dropna()\n",
    "from scipy import stats\n",
    "z = np.abs(stats.zscore(redfin13))\n",
    "threshold = 3\n",
    "redfin14 = redfin13[(z < 3).all(axis=1)]\n",
    "df8_new = df8.loc[redfin14.index]\n",
    "\n",
    "df8_index = df8_new.reset_index(drop = True)\n",
    "df8_index"
   ]
  },
  {
   "cell_type": "code",
   "execution_count": 17,
   "id": "20c9aac7",
   "metadata": {},
   "outputs": [
    {
     "data": {
      "text/html": [
       "<div>\n",
       "<style scoped>\n",
       "    .dataframe tbody tr th:only-of-type {\n",
       "        vertical-align: middle;\n",
       "    }\n",
       "\n",
       "    .dataframe tbody tr th {\n",
       "        vertical-align: top;\n",
       "    }\n",
       "\n",
       "    .dataframe thead th {\n",
       "        text-align: right;\n",
       "    }\n",
       "</style>\n",
       "<table border=\"1\" class=\"dataframe\">\n",
       "  <thead>\n",
       "    <tr style=\"text-align: right;\">\n",
       "      <th></th>\n",
       "      <th>SOLD DATE</th>\n",
       "      <th>PROPERTY TYPE</th>\n",
       "      <th>CITY</th>\n",
       "      <th>ZIP OR POSTAL CODE</th>\n",
       "      <th>PRICE</th>\n",
       "      <th>BEDS</th>\n",
       "      <th>BATHS</th>\n",
       "      <th>SQUARE FEET</th>\n",
       "      <th>LOT SIZE</th>\n",
       "      <th>YEAR BUILT</th>\n",
       "      <th>$/SQUARE FEET</th>\n",
       "      <th>HOA/MONTH</th>\n",
       "      <th>STATUS</th>\n",
       "    </tr>\n",
       "  </thead>\n",
       "  <tbody>\n",
       "    <tr>\n",
       "      <th>0</th>\n",
       "      <td>July-10-2018</td>\n",
       "      <td>Single Family Residential</td>\n",
       "      <td>San Jose</td>\n",
       "      <td>95129</td>\n",
       "      <td>2380000</td>\n",
       "      <td>5</td>\n",
       "      <td>3.0</td>\n",
       "      <td>2239</td>\n",
       "      <td>6000.0</td>\n",
       "      <td>1967</td>\n",
       "      <td>1063</td>\n",
       "      <td>NaN</td>\n",
       "      <td>Sold</td>\n",
       "    </tr>\n",
       "    <tr>\n",
       "      <th>1</th>\n",
       "      <td>March-23-2020</td>\n",
       "      <td>Single Family Residential</td>\n",
       "      <td>Cupertino</td>\n",
       "      <td>95014</td>\n",
       "      <td>2660000</td>\n",
       "      <td>4</td>\n",
       "      <td>3.5</td>\n",
       "      <td>2243</td>\n",
       "      <td>6035.0</td>\n",
       "      <td>2012</td>\n",
       "      <td>1186</td>\n",
       "      <td>NaN</td>\n",
       "      <td>Sold</td>\n",
       "    </tr>\n",
       "    <tr>\n",
       "      <th>2</th>\n",
       "      <td>July-26-2021</td>\n",
       "      <td>Single Family Residential</td>\n",
       "      <td>Cupertino</td>\n",
       "      <td>95014</td>\n",
       "      <td>2830000</td>\n",
       "      <td>4</td>\n",
       "      <td>2.5</td>\n",
       "      <td>2394</td>\n",
       "      <td>7497.0</td>\n",
       "      <td>1968</td>\n",
       "      <td>1182</td>\n",
       "      <td>NaN</td>\n",
       "      <td>Sold</td>\n",
       "    </tr>\n",
       "    <tr>\n",
       "      <th>3</th>\n",
       "      <td>April-17-2018</td>\n",
       "      <td>Single Family Residential</td>\n",
       "      <td>Cupertino</td>\n",
       "      <td>95014</td>\n",
       "      <td>2798000</td>\n",
       "      <td>4</td>\n",
       "      <td>2.5</td>\n",
       "      <td>2310</td>\n",
       "      <td>7200.0</td>\n",
       "      <td>1962</td>\n",
       "      <td>1211</td>\n",
       "      <td>NaN</td>\n",
       "      <td>Sold</td>\n",
       "    </tr>\n",
       "    <tr>\n",
       "      <th>4</th>\n",
       "      <td>May-31-2017</td>\n",
       "      <td>Single Family Residential</td>\n",
       "      <td>Cupertino</td>\n",
       "      <td>95014</td>\n",
       "      <td>1860000</td>\n",
       "      <td>3</td>\n",
       "      <td>2.5</td>\n",
       "      <td>1724</td>\n",
       "      <td>6804.0</td>\n",
       "      <td>1966</td>\n",
       "      <td>1079</td>\n",
       "      <td>NaN</td>\n",
       "      <td>Sold</td>\n",
       "    </tr>\n",
       "    <tr>\n",
       "      <th>...</th>\n",
       "      <td>...</td>\n",
       "      <td>...</td>\n",
       "      <td>...</td>\n",
       "      <td>...</td>\n",
       "      <td>...</td>\n",
       "      <td>...</td>\n",
       "      <td>...</td>\n",
       "      <td>...</td>\n",
       "      <td>...</td>\n",
       "      <td>...</td>\n",
       "      <td>...</td>\n",
       "      <td>...</td>\n",
       "      <td>...</td>\n",
       "    </tr>\n",
       "    <tr>\n",
       "      <th>313</th>\n",
       "      <td>August-25-2017</td>\n",
       "      <td>Townhouse</td>\n",
       "      <td>Cupertino</td>\n",
       "      <td>95014</td>\n",
       "      <td>1536000</td>\n",
       "      <td>3</td>\n",
       "      <td>2.5</td>\n",
       "      <td>1523</td>\n",
       "      <td>1641.0</td>\n",
       "      <td>1995</td>\n",
       "      <td>1009</td>\n",
       "      <td>150.0</td>\n",
       "      <td>Sold</td>\n",
       "    </tr>\n",
       "    <tr>\n",
       "      <th>314</th>\n",
       "      <td>November-21-2017</td>\n",
       "      <td>Townhouse</td>\n",
       "      <td>Cupertino</td>\n",
       "      <td>95014</td>\n",
       "      <td>1665000</td>\n",
       "      <td>3</td>\n",
       "      <td>2.0</td>\n",
       "      <td>1640</td>\n",
       "      <td>1440.0</td>\n",
       "      <td>1990</td>\n",
       "      <td>1015</td>\n",
       "      <td>305.0</td>\n",
       "      <td>Sold</td>\n",
       "    </tr>\n",
       "    <tr>\n",
       "      <th>315</th>\n",
       "      <td>July-6-2018</td>\n",
       "      <td>Townhouse</td>\n",
       "      <td>Cupertino</td>\n",
       "      <td>95014</td>\n",
       "      <td>1680000</td>\n",
       "      <td>3</td>\n",
       "      <td>2.5</td>\n",
       "      <td>1704</td>\n",
       "      <td>1480.0</td>\n",
       "      <td>1990</td>\n",
       "      <td>986</td>\n",
       "      <td>305.0</td>\n",
       "      <td>Sold</td>\n",
       "    </tr>\n",
       "    <tr>\n",
       "      <th>316</th>\n",
       "      <td>April-9-2021</td>\n",
       "      <td>Single Family Residential</td>\n",
       "      <td>Sunnyvale</td>\n",
       "      <td>94087</td>\n",
       "      <td>2110000</td>\n",
       "      <td>4</td>\n",
       "      <td>2.0</td>\n",
       "      <td>1685</td>\n",
       "      <td>7956.0</td>\n",
       "      <td>1957</td>\n",
       "      <td>1252</td>\n",
       "      <td>NaN</td>\n",
       "      <td>Sold</td>\n",
       "    </tr>\n",
       "    <tr>\n",
       "      <th>317</th>\n",
       "      <td>June-23-2021</td>\n",
       "      <td>Townhouse</td>\n",
       "      <td>Cupertino</td>\n",
       "      <td>95014</td>\n",
       "      <td>1610000</td>\n",
       "      <td>2</td>\n",
       "      <td>2.5</td>\n",
       "      <td>1352</td>\n",
       "      <td>1391.0</td>\n",
       "      <td>1985</td>\n",
       "      <td>1191</td>\n",
       "      <td>440.0</td>\n",
       "      <td>Sold</td>\n",
       "    </tr>\n",
       "  </tbody>\n",
       "</table>\n",
       "<p>318 rows × 13 columns</p>\n",
       "</div>"
      ],
      "text/plain": [
       "            SOLD DATE              PROPERTY TYPE       CITY  \\\n",
       "0        July-10-2018  Single Family Residential   San Jose   \n",
       "1       March-23-2020  Single Family Residential  Cupertino   \n",
       "2        July-26-2021  Single Family Residential  Cupertino   \n",
       "3       April-17-2018  Single Family Residential  Cupertino   \n",
       "4         May-31-2017  Single Family Residential  Cupertino   \n",
       "..                ...                        ...        ...   \n",
       "313    August-25-2017                  Townhouse  Cupertino   \n",
       "314  November-21-2017                  Townhouse  Cupertino   \n",
       "315       July-6-2018                  Townhouse  Cupertino   \n",
       "316      April-9-2021  Single Family Residential  Sunnyvale   \n",
       "317      June-23-2021                  Townhouse  Cupertino   \n",
       "\n",
       "     ZIP OR POSTAL CODE    PRICE  BEDS  BATHS  SQUARE FEET  LOT SIZE  \\\n",
       "0                 95129  2380000     5    3.0         2239    6000.0   \n",
       "1                 95014  2660000     4    3.5         2243    6035.0   \n",
       "2                 95014  2830000     4    2.5         2394    7497.0   \n",
       "3                 95014  2798000     4    2.5         2310    7200.0   \n",
       "4                 95014  1860000     3    2.5         1724    6804.0   \n",
       "..                  ...      ...   ...    ...          ...       ...   \n",
       "313               95014  1536000     3    2.5         1523    1641.0   \n",
       "314               95014  1665000     3    2.0         1640    1440.0   \n",
       "315               95014  1680000     3    2.5         1704    1480.0   \n",
       "316               94087  2110000     4    2.0         1685    7956.0   \n",
       "317               95014  1610000     2    2.5         1352    1391.0   \n",
       "\n",
       "     YEAR BUILT  $/SQUARE FEET  HOA/MONTH STATUS  \n",
       "0          1967           1063        NaN   Sold  \n",
       "1          2012           1186        NaN   Sold  \n",
       "2          1968           1182        NaN   Sold  \n",
       "3          1962           1211        NaN   Sold  \n",
       "4          1966           1079        NaN   Sold  \n",
       "..          ...            ...        ...    ...  \n",
       "313        1995           1009      150.0   Sold  \n",
       "314        1990           1015      305.0   Sold  \n",
       "315        1990            986      305.0   Sold  \n",
       "316        1957           1252        NaN   Sold  \n",
       "317        1985           1191      440.0   Sold  \n",
       "\n",
       "[318 rows x 13 columns]"
      ]
     },
     "execution_count": 17,
     "metadata": {},
     "output_type": "execute_result"
    }
   ],
   "source": [
    "# kickoff outliers in the cupertino\n",
    "\n",
    "redfin15 = df9[[\"PRICE\", \"BEDS\",\"BATHS\",\"SQUARE FEET\",\"LOT SIZE\"]]\n",
    "redfin16 = redfin15.dropna()\n",
    "from scipy import stats\n",
    "z = np.abs(stats.zscore(redfin16))\n",
    "threshold = 3\n",
    "redfin17 = redfin16[(z < 3).all(axis=1)]\n",
    "df9_new = df9.loc[redfin17.index]\n",
    "\n",
    "df9_index = df9_new.reset_index(drop = True)\n",
    "df9_index\n"
   ]
  },
  {
   "cell_type": "code",
   "execution_count": 18,
   "id": "d352fa63",
   "metadata": {},
   "outputs": [
    {
     "data": {
      "text/html": [
       "<div>\n",
       "<style scoped>\n",
       "    .dataframe tbody tr th:only-of-type {\n",
       "        vertical-align: middle;\n",
       "    }\n",
       "\n",
       "    .dataframe tbody tr th {\n",
       "        vertical-align: top;\n",
       "    }\n",
       "\n",
       "    .dataframe thead th {\n",
       "        text-align: right;\n",
       "    }\n",
       "</style>\n",
       "<table border=\"1\" class=\"dataframe\">\n",
       "  <thead>\n",
       "    <tr style=\"text-align: right;\">\n",
       "      <th></th>\n",
       "      <th>SOLD DATE</th>\n",
       "      <th>PROPERTY TYPE</th>\n",
       "      <th>CITY</th>\n",
       "      <th>ZIP OR POSTAL CODE</th>\n",
       "      <th>PRICE</th>\n",
       "      <th>BEDS</th>\n",
       "      <th>BATHS</th>\n",
       "      <th>SQUARE FEET</th>\n",
       "      <th>LOT SIZE</th>\n",
       "      <th>YEAR BUILT</th>\n",
       "      <th>$/SQUARE FEET</th>\n",
       "      <th>HOA/MONTH</th>\n",
       "      <th>STATUS</th>\n",
       "    </tr>\n",
       "  </thead>\n",
       "  <tbody>\n",
       "    <tr>\n",
       "      <th>0</th>\n",
       "      <td>November-29-2021</td>\n",
       "      <td>Townhouse</td>\n",
       "      <td>Sunnyvale</td>\n",
       "      <td>94086</td>\n",
       "      <td>1230000</td>\n",
       "      <td>2.0</td>\n",
       "      <td>2.5</td>\n",
       "      <td>1553.0</td>\n",
       "      <td>1.0</td>\n",
       "      <td>1991.0</td>\n",
       "      <td>792.0</td>\n",
       "      <td>505.0</td>\n",
       "      <td>Sold</td>\n",
       "    </tr>\n",
       "    <tr>\n",
       "      <th>1</th>\n",
       "      <td>September-8-2021</td>\n",
       "      <td>Single Family Residential</td>\n",
       "      <td>Sunnyvale</td>\n",
       "      <td>94086</td>\n",
       "      <td>2500000</td>\n",
       "      <td>3.0</td>\n",
       "      <td>2.5</td>\n",
       "      <td>1688.0</td>\n",
       "      <td>4964.0</td>\n",
       "      <td>2000.0</td>\n",
       "      <td>1481.0</td>\n",
       "      <td>NaN</td>\n",
       "      <td>Sold</td>\n",
       "    </tr>\n",
       "    <tr>\n",
       "      <th>2</th>\n",
       "      <td>February-17-2017</td>\n",
       "      <td>Townhouse</td>\n",
       "      <td>Sunnyvale</td>\n",
       "      <td>94085</td>\n",
       "      <td>849000</td>\n",
       "      <td>2.0</td>\n",
       "      <td>2.5</td>\n",
       "      <td>1277.0</td>\n",
       "      <td>867.0</td>\n",
       "      <td>2006.0</td>\n",
       "      <td>665.0</td>\n",
       "      <td>235.0</td>\n",
       "      <td>Sold</td>\n",
       "    </tr>\n",
       "    <tr>\n",
       "      <th>3</th>\n",
       "      <td>May-14-2018</td>\n",
       "      <td>Single Family Residential</td>\n",
       "      <td>Sunnyvale</td>\n",
       "      <td>94086</td>\n",
       "      <td>1700000</td>\n",
       "      <td>3.0</td>\n",
       "      <td>2.0</td>\n",
       "      <td>1200.0</td>\n",
       "      <td>5187.0</td>\n",
       "      <td>1944.0</td>\n",
       "      <td>1417.0</td>\n",
       "      <td>NaN</td>\n",
       "      <td>Sold</td>\n",
       "    </tr>\n",
       "    <tr>\n",
       "      <th>4</th>\n",
       "      <td>October-15-2020</td>\n",
       "      <td>Single Family Residential</td>\n",
       "      <td>Sunnyvale</td>\n",
       "      <td>94089</td>\n",
       "      <td>1300000</td>\n",
       "      <td>3.0</td>\n",
       "      <td>2.0</td>\n",
       "      <td>1108.0</td>\n",
       "      <td>6300.0</td>\n",
       "      <td>1958.0</td>\n",
       "      <td>1173.0</td>\n",
       "      <td>NaN</td>\n",
       "      <td>Sold</td>\n",
       "    </tr>\n",
       "    <tr>\n",
       "      <th>...</th>\n",
       "      <td>...</td>\n",
       "      <td>...</td>\n",
       "      <td>...</td>\n",
       "      <td>...</td>\n",
       "      <td>...</td>\n",
       "      <td>...</td>\n",
       "      <td>...</td>\n",
       "      <td>...</td>\n",
       "      <td>...</td>\n",
       "      <td>...</td>\n",
       "      <td>...</td>\n",
       "      <td>...</td>\n",
       "      <td>...</td>\n",
       "    </tr>\n",
       "    <tr>\n",
       "      <th>312</th>\n",
       "      <td>October-31-2017</td>\n",
       "      <td>Single Family Residential</td>\n",
       "      <td>Sunnyvale</td>\n",
       "      <td>94087</td>\n",
       "      <td>1900000</td>\n",
       "      <td>4.0</td>\n",
       "      <td>2.0</td>\n",
       "      <td>1359.0</td>\n",
       "      <td>6000.0</td>\n",
       "      <td>1954.0</td>\n",
       "      <td>1398.0</td>\n",
       "      <td>NaN</td>\n",
       "      <td>Sold</td>\n",
       "    </tr>\n",
       "    <tr>\n",
       "      <th>313</th>\n",
       "      <td>April-10-2018</td>\n",
       "      <td>Single Family Residential</td>\n",
       "      <td>Sunnyvale</td>\n",
       "      <td>94087</td>\n",
       "      <td>2260000</td>\n",
       "      <td>3.0</td>\n",
       "      <td>2.0</td>\n",
       "      <td>1275.0</td>\n",
       "      <td>6000.0</td>\n",
       "      <td>1954.0</td>\n",
       "      <td>1773.0</td>\n",
       "      <td>NaN</td>\n",
       "      <td>Sold</td>\n",
       "    </tr>\n",
       "    <tr>\n",
       "      <th>314</th>\n",
       "      <td>March-24-2017</td>\n",
       "      <td>Single Family Residential</td>\n",
       "      <td>Sunnyvale</td>\n",
       "      <td>94087</td>\n",
       "      <td>1910000</td>\n",
       "      <td>3.0</td>\n",
       "      <td>2.0</td>\n",
       "      <td>1550.0</td>\n",
       "      <td>6000.0</td>\n",
       "      <td>1954.0</td>\n",
       "      <td>1232.0</td>\n",
       "      <td>NaN</td>\n",
       "      <td>Sold</td>\n",
       "    </tr>\n",
       "    <tr>\n",
       "      <th>315</th>\n",
       "      <td>April-7-2020</td>\n",
       "      <td>Single Family Residential</td>\n",
       "      <td>Sunnyvale</td>\n",
       "      <td>94087</td>\n",
       "      <td>2037000</td>\n",
       "      <td>4.0</td>\n",
       "      <td>2.0</td>\n",
       "      <td>1371.0</td>\n",
       "      <td>7397.0</td>\n",
       "      <td>1955.0</td>\n",
       "      <td>1486.0</td>\n",
       "      <td>NaN</td>\n",
       "      <td>Sold</td>\n",
       "    </tr>\n",
       "    <tr>\n",
       "      <th>316</th>\n",
       "      <td>NaN</td>\n",
       "      <td>Single Family Residential</td>\n",
       "      <td>Sunnyvale</td>\n",
       "      <td>94087</td>\n",
       "      <td>2620000</td>\n",
       "      <td>5.0</td>\n",
       "      <td>2.5</td>\n",
       "      <td>2300.0</td>\n",
       "      <td>7750.0</td>\n",
       "      <td>1966.0</td>\n",
       "      <td>1139.0</td>\n",
       "      <td>NaN</td>\n",
       "      <td>NaN</td>\n",
       "    </tr>\n",
       "  </tbody>\n",
       "</table>\n",
       "<p>317 rows × 13 columns</p>\n",
       "</div>"
      ],
      "text/plain": [
       "            SOLD DATE              PROPERTY TYPE       CITY  \\\n",
       "0    November-29-2021                  Townhouse  Sunnyvale   \n",
       "1    September-8-2021  Single Family Residential  Sunnyvale   \n",
       "2    February-17-2017                  Townhouse  Sunnyvale   \n",
       "3         May-14-2018  Single Family Residential  Sunnyvale   \n",
       "4     October-15-2020  Single Family Residential  Sunnyvale   \n",
       "..                ...                        ...        ...   \n",
       "312   October-31-2017  Single Family Residential  Sunnyvale   \n",
       "313     April-10-2018  Single Family Residential  Sunnyvale   \n",
       "314     March-24-2017  Single Family Residential  Sunnyvale   \n",
       "315      April-7-2020  Single Family Residential  Sunnyvale   \n",
       "316               NaN  Single Family Residential  Sunnyvale   \n",
       "\n",
       "     ZIP OR POSTAL CODE    PRICE  BEDS  BATHS  SQUARE FEET  LOT SIZE  \\\n",
       "0                 94086  1230000   2.0    2.5       1553.0       1.0   \n",
       "1                 94086  2500000   3.0    2.5       1688.0    4964.0   \n",
       "2                 94085   849000   2.0    2.5       1277.0     867.0   \n",
       "3                 94086  1700000   3.0    2.0       1200.0    5187.0   \n",
       "4                 94089  1300000   3.0    2.0       1108.0    6300.0   \n",
       "..                  ...      ...   ...    ...          ...       ...   \n",
       "312               94087  1900000   4.0    2.0       1359.0    6000.0   \n",
       "313               94087  2260000   3.0    2.0       1275.0    6000.0   \n",
       "314               94087  1910000   3.0    2.0       1550.0    6000.0   \n",
       "315               94087  2037000   4.0    2.0       1371.0    7397.0   \n",
       "316               94087  2620000   5.0    2.5       2300.0    7750.0   \n",
       "\n",
       "     YEAR BUILT  $/SQUARE FEET  HOA/MONTH STATUS  \n",
       "0        1991.0          792.0      505.0   Sold  \n",
       "1        2000.0         1481.0        NaN   Sold  \n",
       "2        2006.0          665.0      235.0   Sold  \n",
       "3        1944.0         1417.0        NaN   Sold  \n",
       "4        1958.0         1173.0        NaN   Sold  \n",
       "..          ...            ...        ...    ...  \n",
       "312      1954.0         1398.0        NaN   Sold  \n",
       "313      1954.0         1773.0        NaN   Sold  \n",
       "314      1954.0         1232.0        NaN   Sold  \n",
       "315      1955.0         1486.0        NaN   Sold  \n",
       "316      1966.0         1139.0        NaN    NaN  \n",
       "\n",
       "[317 rows x 13 columns]"
      ]
     },
     "execution_count": 18,
     "metadata": {},
     "output_type": "execute_result"
    }
   ],
   "source": [
    "#kickoff outliers in the sunnyvale\n",
    "\n",
    "redfin18 = df10[[\"PRICE\", \"BEDS\",\"BATHS\",\"SQUARE FEET\",\"LOT SIZE\"]]\n",
    "redfin19 = redfin18.dropna()\n",
    "from scipy import stats\n",
    "z = np.abs(stats.zscore(redfin19))\n",
    "threshold = 3\n",
    "redfin20 = redfin19[(z < 3).all(axis=1)]\n",
    "df10_new = df10.loc[redfin20.index]\n",
    "\n",
    "df10_index = df10_new.reset_index(drop = True)\n",
    "df10_index"
   ]
  },
  {
   "cell_type": "code",
   "execution_count": 19,
   "id": "7a97965a",
   "metadata": {},
   "outputs": [
    {
     "name": "stdout",
     "output_type": "stream",
     "text": [
      "There are 3257 cases to be used in this research.\n"
     ]
    }
   ],
   "source": [
    "# combine those outliered dataframes into one\n",
    "combine = pd.concat([df10_index,df9_index, df8_index, df7_index, redfinwsj_index], ignore_index=True)\n",
    "combine\n",
    "\n",
    "redfin_new = combine.reset_index(drop = True)\n",
    "print(\"There are \" + str(len(redfin_new)) + \" cases to be used in this research.\")"
   ]
  },
  {
   "cell_type": "code",
   "execution_count": 20,
   "id": "c4d3e140",
   "metadata": {},
   "outputs": [
    {
     "data": {
      "text/html": [
       "<div>\n",
       "<style scoped>\n",
       "    .dataframe tbody tr th:only-of-type {\n",
       "        vertical-align: middle;\n",
       "    }\n",
       "\n",
       "    .dataframe tbody tr th {\n",
       "        vertical-align: top;\n",
       "    }\n",
       "\n",
       "    .dataframe thead th {\n",
       "        text-align: right;\n",
       "    }\n",
       "</style>\n",
       "<table border=\"1\" class=\"dataframe\">\n",
       "  <thead>\n",
       "    <tr style=\"text-align: right;\">\n",
       "      <th></th>\n",
       "      <th>SOLD DATE</th>\n",
       "      <th>PROPERTY TYPE</th>\n",
       "      <th>CITY</th>\n",
       "      <th>ZIP OR POSTAL CODE</th>\n",
       "      <th>PRICE</th>\n",
       "      <th>BEDS</th>\n",
       "      <th>BATHS</th>\n",
       "      <th>SQUARE FEET</th>\n",
       "      <th>LOT SIZE</th>\n",
       "      <th>YEAR BUILT</th>\n",
       "      <th>$/SQUARE FEET</th>\n",
       "      <th>HOA/MONTH</th>\n",
       "      <th>STATUS</th>\n",
       "    </tr>\n",
       "  </thead>\n",
       "  <tbody>\n",
       "    <tr>\n",
       "      <th>0</th>\n",
       "      <td>November-29-2021</td>\n",
       "      <td>Townhouse</td>\n",
       "      <td>Sunnyvale</td>\n",
       "      <td>94086</td>\n",
       "      <td>1230000</td>\n",
       "      <td>2.0</td>\n",
       "      <td>2.5</td>\n",
       "      <td>1553.0</td>\n",
       "      <td>1.0</td>\n",
       "      <td>1991.0</td>\n",
       "      <td>792.0</td>\n",
       "      <td>505.0</td>\n",
       "      <td>Sold</td>\n",
       "    </tr>\n",
       "    <tr>\n",
       "      <th>1</th>\n",
       "      <td>September-8-2021</td>\n",
       "      <td>Single Family Residential</td>\n",
       "      <td>Sunnyvale</td>\n",
       "      <td>94086</td>\n",
       "      <td>2500000</td>\n",
       "      <td>3.0</td>\n",
       "      <td>2.5</td>\n",
       "      <td>1688.0</td>\n",
       "      <td>4964.0</td>\n",
       "      <td>2000.0</td>\n",
       "      <td>1481.0</td>\n",
       "      <td>NaN</td>\n",
       "      <td>Sold</td>\n",
       "    </tr>\n",
       "    <tr>\n",
       "      <th>2</th>\n",
       "      <td>February-17-2017</td>\n",
       "      <td>Townhouse</td>\n",
       "      <td>Sunnyvale</td>\n",
       "      <td>94085</td>\n",
       "      <td>849000</td>\n",
       "      <td>2.0</td>\n",
       "      <td>2.5</td>\n",
       "      <td>1277.0</td>\n",
       "      <td>867.0</td>\n",
       "      <td>2006.0</td>\n",
       "      <td>665.0</td>\n",
       "      <td>235.0</td>\n",
       "      <td>Sold</td>\n",
       "    </tr>\n",
       "    <tr>\n",
       "      <th>3</th>\n",
       "      <td>May-14-2018</td>\n",
       "      <td>Single Family Residential</td>\n",
       "      <td>Sunnyvale</td>\n",
       "      <td>94086</td>\n",
       "      <td>1700000</td>\n",
       "      <td>3.0</td>\n",
       "      <td>2.0</td>\n",
       "      <td>1200.0</td>\n",
       "      <td>5187.0</td>\n",
       "      <td>1944.0</td>\n",
       "      <td>1417.0</td>\n",
       "      <td>NaN</td>\n",
       "      <td>Sold</td>\n",
       "    </tr>\n",
       "    <tr>\n",
       "      <th>4</th>\n",
       "      <td>October-15-2020</td>\n",
       "      <td>Single Family Residential</td>\n",
       "      <td>Sunnyvale</td>\n",
       "      <td>94089</td>\n",
       "      <td>1300000</td>\n",
       "      <td>3.0</td>\n",
       "      <td>2.0</td>\n",
       "      <td>1108.0</td>\n",
       "      <td>6300.0</td>\n",
       "      <td>1958.0</td>\n",
       "      <td>1173.0</td>\n",
       "      <td>NaN</td>\n",
       "      <td>Sold</td>\n",
       "    </tr>\n",
       "  </tbody>\n",
       "</table>\n",
       "</div>"
      ],
      "text/plain": [
       "          SOLD DATE              PROPERTY TYPE       CITY ZIP OR POSTAL CODE  \\\n",
       "0  November-29-2021                  Townhouse  Sunnyvale              94086   \n",
       "1  September-8-2021  Single Family Residential  Sunnyvale              94086   \n",
       "2  February-17-2017                  Townhouse  Sunnyvale              94085   \n",
       "3       May-14-2018  Single Family Residential  Sunnyvale              94086   \n",
       "4   October-15-2020  Single Family Residential  Sunnyvale              94089   \n",
       "\n",
       "     PRICE  BEDS  BATHS  SQUARE FEET  LOT SIZE  YEAR BUILT  $/SQUARE FEET  \\\n",
       "0  1230000   2.0    2.5       1553.0       1.0      1991.0          792.0   \n",
       "1  2500000   3.0    2.5       1688.0    4964.0      2000.0         1481.0   \n",
       "2   849000   2.0    2.5       1277.0     867.0      2006.0          665.0   \n",
       "3  1700000   3.0    2.0       1200.0    5187.0      1944.0         1417.0   \n",
       "4  1300000   3.0    2.0       1108.0    6300.0      1958.0         1173.0   \n",
       "\n",
       "   HOA/MONTH STATUS  \n",
       "0      505.0   Sold  \n",
       "1        NaN   Sold  \n",
       "2      235.0   Sold  \n",
       "3        NaN   Sold  \n",
       "4        NaN   Sold  "
      ]
     },
     "execution_count": 20,
     "metadata": {},
     "output_type": "execute_result"
    }
   ],
   "source": [
    "# This is the dataframe that we use to do this project.\n",
    "redfin_new.head()"
   ]
  },
  {
   "cell_type": "markdown",
   "id": "ec5e44e0",
   "metadata": {},
   "source": [
    " ###  Covid and House Pricing\n",
    " \n",
    " #### Question 1. Does the housing pricing grow faster during the Covid?\n",
    " \n",
    " steps to research this question:\n",
    " 1. calculate monthly sold housing of 12 months from 2017 to 2021.\n",
    " 2. devided the above result by 5, to get the average housing market performance according to different months.\n",
    " 3. draw a pic, to directly see the change between average of 5 years performance and the performance of 2021.\n"
   ]
  },
  {
   "cell_type": "code",
   "execution_count": 21,
   "id": "e344910d",
   "metadata": {},
   "outputs": [],
   "source": [
    "#Delete the data when the column SOLD DATE is missing values\n",
    "redfin = redfin_new.dropna(subset=[\"SOLD DATE\"])"
   ]
  },
  {
   "cell_type": "code",
   "execution_count": 22,
   "id": "c0596301",
   "metadata": {},
   "outputs": [
    {
     "name": "stdout",
     "output_type": "stream",
     "text": [
      "January 113\n",
      "February 129\n",
      "March 247\n",
      "April 287\n",
      "May 270\n",
      "June 263\n",
      "July 300\n",
      "August 315\n",
      "September 257\n",
      "October 293\n",
      "November 253\n",
      "December 207\n"
     ]
    }
   ],
   "source": [
    "# Which month is the hottest month in the housing market? \n",
    "# Which month is the most deserted?\n",
    "\n",
    "J = redfin[redfin['SOLD DATE'].str.contains(\"January\", regex=False)]\n",
    "print(\"January \" + str(len(J.index)))\n",
    "F = redfin[redfin['SOLD DATE'].str.contains(\"February\", regex=False)]\n",
    "print(\"February \" + str(len(F.index)))\n",
    "Mar = redfin[redfin['SOLD DATE'].str.contains(\"March\", regex=False)]\n",
    "print(\"March \" + str(len(Mar.index)))\n",
    "Apr = redfin[redfin['SOLD DATE'].str.contains(\"April\", regex=False)]\n",
    "print(\"April \" + str(len(Apr.index)))\n",
    "May = redfin[redfin['SOLD DATE'].str.contains(\"May\", regex=False)]\n",
    "print(\"May \" + str(len(May.index)))\n",
    "June = redfin[redfin['SOLD DATE'].str.contains(\"June\", regex=False)]\n",
    "print(\"June \" + str(len(June.index)))\n",
    "July = redfin[redfin['SOLD DATE'].str.contains(\"July\", regex=False)]\n",
    "print(\"July \" + str(len(July.index)))\n",
    "August = redfin[redfin['SOLD DATE'].str.contains(\"August\", regex=False)]\n",
    "print(\"August \" + str(len(August.index)))\n",
    "Sep = redfin[redfin['SOLD DATE'].str.contains(\"September\", regex=False)]\n",
    "print(\"September \" + str(len(Sep.index)))\n",
    "Oct = redfin[redfin['SOLD DATE'].str.contains(\"October\", regex=False)]\n",
    "print(\"October \" + str(len(Oct.index)))\n",
    "Nov = redfin[redfin['SOLD DATE'].str.contains(\"November\", regex=False)]\n",
    "print(\"November \" + str(len(Nov.index)))\n",
    "Dec = redfin[redfin['SOLD DATE'].str.contains(\"December\", regex=False)]\n",
    "print(\"December \" + str(len(Dec.index)))"
   ]
  },
  {
   "cell_type": "markdown",
   "id": "f63a43e6",
   "metadata": {},
   "source": [
    "#### Seems like the August is the hottest and the January is the deserted. However, the cases closed data is one month before the sold date. Thus, the July is the hottest and the December is the deserted. \n",
    "\n",
    "#### Thus, I would like to avoid these two months, in case the increase or decrease is due to the holiday or other effects. I choose April and October to do the research."
   ]
  },
  {
   "cell_type": "code",
   "execution_count": 23,
   "id": "74077a0a",
   "metadata": {},
   "outputs": [
    {
     "data": {
      "text/plain": [
       "(-1.1089028742396427,\n",
       " 1.1727900050927897,\n",
       " -1.4082115924624181,\n",
       " 1.5306607063863875)"
      ]
     },
     "execution_count": 23,
     "metadata": {},
     "output_type": "execute_result"
    },
    {
     "data": {
      "image/png": "[encoded data removed]",
      "text/plain": [
       "<Figure size 432x288 with 1 Axes>"
      ]
     },
     "metadata": {},
     "output_type": "display_data"
    }
   ],
   "source": [
    "#Explode breaks a pie piece.\n",
    "months = [\"January\", \"February\", \"March\", \"April\", \"May\", \"June\", \"July\", \"August\", \"September\", \"October\", \"November\", \"December\"]\n",
    "#number = [113, 129, 247, 287, 270, 263, 300, 315, 257, 293, 253, 207]\n",
    "number = np.array([113, 129, 247, 287, 270, 263, 300, 315, 257, 293, 253, 207])\n",
    "\n",
    "def absolute_value(val):\n",
    "    a  = number[np.abs(number - val/100.*number.sum()).argmin()]\n",
    "    return a\n",
    "\n",
    "Explode = [0.4, 0, 0, 0, 0, 0, 0, 0.4, 0, 0, 0, 0]\n",
    "plt.pie(number, explode = Explode, labels=months, autopct=absolute_value, startangle = 90)\n",
    "\n",
    "# To show the percentage, autopct='%1.1f%%'\n",
    "\n",
    " # adjustes the size of the pie\n",
    "plt.axis('equal')"
   ]
  },
  {
   "cell_type": "code",
   "execution_count": 24,
   "id": "4a88d575",
   "metadata": {},
   "outputs": [
    {
     "name": "stdout",
     "output_type": "stream",
     "text": [
      "2021 January  24\n",
      "2021 February  30\n",
      "2021 March  75\n",
      "2021 April  80\n",
      "2021 May  43\n",
      "2021 June  58\n",
      "2021 July  66\n",
      "2021 August  84\n",
      "2021 September  62\n",
      "2021 October  76\n",
      "2021 November  55\n",
      "2021 December  10\n"
     ]
    },
    {
     "data": {
      "text/plain": [
       "Text(0.5, 0, 'Months')"
      ]
     },
     "execution_count": 24,
     "metadata": {},
     "output_type": "execute_result"
    },
    {
     "data": {
      "image/png": "[encoded data removed]",
      "text/plain": [
       "<Figure size 720x360 with 1 Axes>"
      ]
     },
     "metadata": {
      "needs_background": "light"
     },
     "output_type": "display_data"
    }
   ],
   "source": [
    "# 2021 \n",
    "\n",
    "Y2021J = redfin[redfin['SOLD DATE'].str.contains(\"2021\", regex=False) & redfin['SOLD DATE'].str.contains(\"January\", regex=False)]\n",
    "print(\"2021 January  \" + str(len(Y2021J.index)))\n",
    "Y2021F = redfin[redfin['SOLD DATE'].str.contains(\"2021\", regex=False) & redfin['SOLD DATE'].str.contains(\"February\", regex=False)]\n",
    "print(\"2021 February  \" + str(len(Y2021F.index)))\n",
    "Y2021M = redfin[redfin['SOLD DATE'].str.contains(\"2021\", regex=False) & redfin['SOLD DATE'].str.contains(\"March\", regex=False)]\n",
    "print(\"2021 March  \" + str(len(Y2021M.index))) # The market started to boom\n",
    "Y2021A = redfin[redfin['SOLD DATE'].str.contains(\"2021\", regex=False) & redfin['SOLD DATE'].str.contains(\"April\", regex=False)]\n",
    "print(\"2021 April  \" + str(len(Y2021A.index)))\n",
    "Y2021May = redfin[redfin['SOLD DATE'].str.contains(\"2021\", regex=False) & redfin['SOLD DATE'].str.contains(\"May\", regex=False)]\n",
    "print(\"2021 May  \" + str(len(Y2021May.index)))\n",
    "Y2021June = redfin[redfin['SOLD DATE'].str.contains(\"2021\", regex=False) & redfin['SOLD DATE'].str.contains(\"June\", regex=False)]\n",
    "print(\"2021 June  \" + str(len(Y2021June.index)))\n",
    "Y2021July = redfin[redfin['SOLD DATE'].str.contains(\"2021\", regex=False) & redfin['SOLD DATE'].str.contains(\"July\", regex=False)]\n",
    "print(\"2021 July  \" + str(len(Y2021July.index)))\n",
    "Y2021Au = redfin[redfin['SOLD DATE'].str.contains(\"2021\", regex=False) & redfin['SOLD DATE'].str.contains(\"August\", regex=False)]\n",
    "print(\"2021 August  \" + str(len(Y2021Au.index)))\n",
    "Y2021Sep = redfin[redfin['SOLD DATE'].str.contains(\"2021\", regex=False) & redfin['SOLD DATE'].str.contains(\"September\", regex=False)]\n",
    "print(\"2021 September  \" + str(len(Y2021Sep.index)))\n",
    "Y2021Oct = redfin[redfin['SOLD DATE'].str.contains(\"2021\", regex=False) & redfin['SOLD DATE'].str.contains(\"October\", regex=False)]\n",
    "print(\"2021 October  \" + str(len(Y2021Oct.index)))\n",
    "Y2021No = redfin[redfin['SOLD DATE'].str.contains(\"2021\", regex=False) & redfin['SOLD DATE'].str.contains(\"November\", regex=False)]\n",
    "print(\"2021 November  \" + str(len(Y2021No.index)))\n",
    "Y2021De = redfin[redfin['SOLD DATE'].str.contains(\"2021\", regex=False) & redfin['SOLD DATE'].str.contains(\"December\", regex=False)]\n",
    "print(\"2021 December  \" + str(len(Y2021De.index)))\n",
    "\n",
    "\n",
    "y1 = np.array([len(Y2021J.index), len(Y2021F.index),len(Y2021M.index),len(Y2021A.index), len(Y2021May.index), len(Y2021June.index), len(Y2021July.index), len(Y2021Au.index), len(Y2021Sep.index), len(Y2021Oct.index), len(Y2021No.index)])\n",
    "x1 = np.array([1,2,3,4,5,6,7,8,9,10,11])\n",
    "\n",
    "y2 = np.array([len(J.index)/5, len(F.index)/5,len(Mar.index)/5, len(Apr.index)/5, len(May.index)/5, len(June.index)/5, len(July.index)/5, len(August.index)/5, len(Sep.index)/5, len(Oct.index)/5, len(Nov.index)/5])\n",
    "x2 = np.array([1,2,3,4,5,6,7,8,9,10,11])\n",
    "\n",
    "plt.figure(figsize=(10,5))\n",
    "plt.plot(x1,y1,'ys-',linewidth=3, color = 'g', label='2021')\n",
    "plt.plot(x2,y2,'ys-',linewidth=3, color = 'r', label='average')\n",
    "plt.legend()\n",
    "plt.grid(color='k', ls = '-.', lw = 0.15)\n",
    "plt.title('Compare number of Housing Transactions')\n",
    "plt.ylabel('Housing Transactions Number')\n",
    "plt.xlabel('Months')"
   ]
  },
  {
   "cell_type": "markdown",
   "id": "e107815e",
   "metadata": {},
   "source": [
    "We can generally see that the trend of the data of April and October are similar.\n",
    "except for May, but as I said before about the sold date and the closing date, actually it is April here. I actually googled what happened in April 2021 that might cause the sharp decline. But all the searching results pointed out that the performance of April should be fine.\n",
    "So this might be because the data that Redfin gave missed part of the May data. \n",
    "However, we can still observe that in general, the performance of 2021 is better than the average performance of the 5 years.\n",
    "\n"
   ]
  },
  {
   "cell_type": "markdown",
   "id": "a6c465dc",
   "metadata": {},
   "source": [
    "#### After exploring the monthly performance, how about the yearly performance?\n"
   ]
  },
  {
   "cell_type": "code",
   "execution_count": 25,
   "id": "1a0605fc",
   "metadata": {},
   "outputs": [
    {
     "name": "stdout",
     "output_type": "stream",
     "text": [
      "2017 545\n",
      "2018 521\n",
      "2019 562\n",
      "2020 622\n",
      "2021 663\n"
     ]
    },
    {
     "data": {
      "image/png": "[encoded data removed]",
      "text/plain": [
       "<Figure size 720x360 with 1 Axes>"
      ]
     },
     "metadata": {
      "needs_background": "light"
     },
     "output_type": "display_data"
    }
   ],
   "source": [
    "# which year is the hottest in the housing market? \n",
    "# Which year is the most deserted?\n",
    "\n",
    "Y2017 = redfin[redfin['SOLD DATE'].str.contains(\"2017\", regex=False)]\n",
    "print(\"2017 \" + str(len(Y2017.index)))\n",
    "\n",
    "Y2018 = redfin[redfin['SOLD DATE'].str.contains(\"2018\", regex=False)]\n",
    "print(\"2018 \" + str(len(Y2018.index)))\n",
    "\n",
    "Y2019 = redfin[redfin['SOLD DATE'].str.contains(\"2019\", regex=False)]\n",
    "print(\"2019 \" + str(len(Y2019.index)))\n",
    "\n",
    "Y2020 = redfin[redfin['SOLD DATE'].str.contains(\"2020\", regex=False)]\n",
    "print(\"2020 \" + str(len(Y2020.index)))\n",
    "\n",
    "Y2021 = redfin[redfin['SOLD DATE'].str.contains(\"2021\", regex=False)]\n",
    "print(\"2021 \" + str(len(Y2021.index)))\n",
    "\n",
    "\n",
    "plt.figure(figsize=(10,5))\n",
    "plt.grid(color='k', ls = '-.', lw = 0.2)\n",
    "plt.title('Total Housing Transactions in Recent 5 Years')\n",
    "\n",
    "x = np.array([2017,2018,2019,2020,2021])\n",
    "y = np.array([545,521,562,622,663])\n",
    "\n",
    "plt.plot(x,y,'ys-',linewidth=3, color = 'darkorchid')\n",
    "plt.ylabel('Housing Transactions Number')\n",
    "plt.xlabel('Year')\n",
    "plt.grid(True)"
   ]
  },
  {
   "cell_type": "markdown",
   "id": "4386196a",
   "metadata": {},
   "source": [
    "#### According to the above chart, we can see:\n",
    "#### 2018， the trade war between China and American\n",
    "#### 2020， the Pandemic"
   ]
  },
  {
   "cell_type": "markdown",
   "id": "6593ea08",
   "metadata": {},
   "source": [
    "#### Using the data from the same month of different years. I choose April and October (Reason has been told previously.)  to calculate the growth rate of each year. \n"
   ]
  },
  {
   "cell_type": "code",
   "execution_count": 26,
   "id": "6b219c23",
   "metadata": {},
   "outputs": [
    {
     "name": "stdout",
     "output_type": "stream",
     "text": [
      "2017 April  58\n",
      "2018 April  49\n",
      "2019 April  54\n",
      "2020 April  46\n",
      "2021 April  80\n"
     ]
    }
   ],
   "source": [
    "# April \n",
    "\n",
    "# 2017 compares 2018\n",
    "Y2017A = redfin[redfin['SOLD DATE'].str.contains(\"2017\", regex=False) & redfin['SOLD DATE'].str.contains(\"April\", regex=False)]\n",
    "Y2018A = redfin[redfin['SOLD DATE'].str.contains(\"2018\", regex=False) & redfin['SOLD DATE'].str.contains(\"April\", regex=False)]\n",
    "\n",
    "# 2018 compares 2019\n",
    "Y2019A = redfin[redfin['SOLD DATE'].str.contains(\"2019\", regex=False) & redfin['SOLD DATE'].str.contains(\"April\", regex=False)]\n",
    "\n",
    "# 2019 compares 2020\n",
    "Y2020A = redfin[redfin['SOLD DATE'].str.contains(\"2020\", regex=False) & redfin['SOLD DATE'].str.contains(\"April\", regex=False)]\n",
    "\n",
    "# 2020 compares 2021\n",
    "Y2021A = redfin[redfin['SOLD DATE'].str.contains(\"2021\", regex=False) & redfin['SOLD DATE'].str.contains(\"April\", regex=False)]\n",
    "\n",
    "print(\"2017 April  \" + str(len(Y2017A.index)))\n",
    "print(\"2018 April  \" + str(len(Y2018A.index)))\n",
    "print(\"2019 April  \" + str(len(Y2019A.index)))\n",
    "print(\"2020 April  \" + str(len(Y2020A.index))) # April is the beginning of pendanmic in the USA\n",
    "print(\"2021 April  \" + str(len(Y2021A.index)))\n"
   ]
  },
  {
   "cell_type": "code",
   "execution_count": 27,
   "id": "ea11742f",
   "metadata": {},
   "outputs": [
    {
     "data": {
      "text/plain": [
       "array([-0.15517241,  0.10204082, -0.14814815,  0.73913043])"
      ]
     },
     "execution_count": 27,
     "metadata": {},
     "output_type": "execute_result"
    }
   ],
   "source": [
    "# calculate the the Growth Rate of Aprils\n",
    "# growth rate : (Y2021 - Y2020) / Y2020 * 100 = %\n",
    "\n",
    "list_april = [len(Y2017A.index), len(Y2018A.index), len(Y2019A.index), len(Y2020A.index), len(Y2021A.index)]\n",
    "\n",
    "growth_rate = np.exp(np.diff(np.log(list_april))) - 1\n",
    "growth_rate\n"
   ]
  },
  {
   "cell_type": "code",
   "execution_count": 28,
   "id": "11ba6b65",
   "metadata": {},
   "outputs": [
    {
     "name": "stdout",
     "output_type": "stream",
     "text": [
      "2017 October  50\n",
      "2018 October  46\n",
      "2019 October  48\n",
      "2020 October  73\n",
      "2021 October  76\n"
     ]
    }
   ],
   "source": [
    "# October \n",
    "\n",
    "# 2017 compares 2018\n",
    "Y2017Oct = redfin[redfin['SOLD DATE'].str.contains(\"2017\", regex=False) & redfin['SOLD DATE'].str.contains(\"October\", regex=False)]\n",
    "Y2018Oct = redfin[redfin['SOLD DATE'].str.contains(\"2018\", regex=False) & redfin['SOLD DATE'].str.contains(\"October\", regex=False)]\n",
    "\n",
    "# 2018 compares 2019\n",
    "Y2019Oct = redfin[redfin['SOLD DATE'].str.contains(\"2019\", regex=False) & redfin['SOLD DATE'].str.contains(\"October\", regex=False)]\n",
    "\n",
    "# 2019 compares 2020\n",
    "Y2020Oct = redfin[redfin['SOLD DATE'].str.contains(\"2020\", regex=False) & redfin['SOLD DATE'].str.contains(\"October\", regex=False)]\n",
    "\n",
    "# 2020 compares 2021\n",
    "Y2021Oct = redfin[redfin['SOLD DATE'].str.contains(\"2021\", regex=False) & redfin['SOLD DATE'].str.contains(\"October\", regex=False)]\n",
    "\n",
    "print(\"2017 October  \" + str(len(Y2017Oct.index)))\n",
    "print(\"2018 October  \" + str(len(Y2018Oct.index)))\n",
    "print(\"2019 October  \" + str(len(Y2019Oct.index)))\n",
    "print(\"2020 October  \" + str(len(Y2020Oct.index))) \n",
    "print(\"2021 October  \" + str(len(Y2021Oct.index)))\n",
    "\n"
   ]
  },
  {
   "cell_type": "code",
   "execution_count": 29,
   "id": "67b2a00e",
   "metadata": {},
   "outputs": [
    {
     "data": {
      "text/plain": [
       "array([-0.08      ,  0.04347826,  0.52083333,  0.04109589])"
      ]
     },
     "execution_count": 29,
     "metadata": {},
     "output_type": "execute_result"
    }
   ],
   "source": [
    "# calculate the the Growth Rate of October\n",
    "# growth rate : (Y2021 - Y2020) / Y2020 * 100 = %\n",
    "\n",
    "list_Oct = [len(Y2017Oct.index), len(Y2018Oct.index), len(Y2019Oct.index), len(Y2020Oct.index), len(Y2021Oct.index)]\n",
    "\n",
    "growth_rate = np.exp(np.diff(np.log(list_Oct))) - 1\n",
    "growth_rate"
   ]
  },
  {
   "cell_type": "code",
   "execution_count": 30,
   "id": "3013c1d3",
   "metadata": {},
   "outputs": [
    {
     "data": {
      "text/plain": [
       "Text(0.5, 0, 'Years')"
      ]
     },
     "execution_count": 30,
     "metadata": {},
     "output_type": "execute_result"
    },
    {
     "data": {
      "image/png": "[encoded data removed]",
      "text/plain": [
       "<Figure size 576x360 with 1 Axes>"
      ]
     },
     "metadata": {
      "needs_background": "light"
     },
     "output_type": "display_data"
    }
   ],
   "source": [
    "x1 = np.array([\"2017-2018\",\"2018-2019\",\"2019-2020\",\"2020-2021\"])\n",
    "y1 = np.array([-0.15517241, 0.10204082, -0.14814815, 0.73913043])\n",
    "\n",
    "\n",
    "\n",
    "x2 = np.array([\"2017-2018\",\"2018-2019\",\"2019-2020\",\"2020-2021\"])\n",
    "y2 = np.array([-0.08 , 0.04347826, 0.52083333, 0.04109589])\n",
    "\n",
    "\n",
    "\n",
    "plt.figure(figsize=(8,5))\n",
    "plt.plot(x1,y1,'ys-',linewidth=3, color = 'g', label='April')\n",
    "plt.plot(x2,y2,'ys-',linewidth=3, color = 'r', label='October')\n",
    "plt.legend()\n",
    "plt.grid(color='k', lw = 0.3)\n",
    "plt.title('The Growth Rates')\n",
    "plt.ylabel('The growth rates')\n",
    "plt.xlabel('Years')\n",
    "\n",
    "#plt.scatter(x1, y1)\n",
    "#plt.scatter(x2, y2)"
   ]
  },
  {
   "cell_type": "markdown",
   "id": "6b4ce199",
   "metadata": {},
   "source": [
    "#### explanation of above chart:\n",
    "\n",
    "Which month should I choose?\n",
    "I avoid months like January or August. Well, actually are December and July. \n",
    "Give an extreme example, in December, no one wants to work, thus the transaction number of  houses might close to zero, no matter the year.\n",
    "So I choose April and October, which are in the middle of January and August.\n",
    "\n",
    "two interesting things:\n",
    "\n",
    "#### The April of 2020, goes down, because of the pandemic was just happened in the USA.\n",
    "\n",
    "#### The April 2021, the news about morgage rate decreasing broadcasted. \n",
    "\n",
    "April of 2021, mortgage rate decreasing news (The means used by the government to stimulate the economy) flew everywhere during the pandemic.\n",
    "\n",
    "（When the interest rate on deposits goes low, and the interest rate on loans goes low, everyone tends to let the money flow.）\n",
    "\n",
    "\n",
    "I extract the volume of housing transactions in April/October each year\n",
    "calculate their growth rate\n",
    "\n",
    "\n",
    "The price rises in most years. I have to make sure, the rise of 2020 and 2021 are not because of the time flies, but because of the decreasing mortgage rate news.\n"
   ]
  },
  {
   "cell_type": "markdown",
   "id": "3adbd3d8",
   "metadata": {},
   "source": [
    "#### explanation of above chart:\n",
    "\n",
    "Which month should I choose?\n",
    "I avoid months like January or August. Well, actually are December and July. \n",
    "Give an extreme example, in December, no one wants to work, thus the transaction number of  houses might close to zero, no matter the year.\n",
    "So I choose April and October, which are in the middle of January and August.\n",
    "\n",
    "two interesting things:\n",
    "\n",
    "#### The April of 2020, goes down, because of the pandemic was just happened in the USA.\n",
    "\n",
    "#### The April 2021, the news about morgage rate decreasing broadcasted. \n",
    "\n",
    "April of 2021, mortgage rate decreasing news (The means used by the government to stimulate the economy) flew everywhere during the pandemic.\n",
    "\n",
    "（When the interest rate on deposits goes low, and the interest rate on loans goes low, everyone tends to let the money flow.）\n",
    "\n",
    "\n",
    "I extract the volume of housing transactions in April/October each year\n",
    "calculate their growth rate\n",
    "\n",
    "\n",
    "The price rises in most years. I have to make sure, the rise of 2020 and 2021 are not because of the time flies, but because of the decreasing mortgage rate news.\n"
   ]
  },
  {
   "cell_type": "code",
   "execution_count": 32,
   "id": "a4e3c8b6",
   "metadata": {},
   "outputs": [
    {
     "data": {
      "text/html": [
       "<div>\n",
       "<style scoped>\n",
       "    .dataframe tbody tr th:only-of-type {\n",
       "        vertical-align: middle;\n",
       "    }\n",
       "\n",
       "    .dataframe tbody tr th {\n",
       "        vertical-align: top;\n",
       "    }\n",
       "\n",
       "    .dataframe thead th {\n",
       "        text-align: right;\n",
       "    }\n",
       "</style>\n",
       "<table border=\"1\" class=\"dataframe\">\n",
       "  <thead>\n",
       "    <tr style=\"text-align: right;\">\n",
       "      <th></th>\n",
       "      <th>SOLD DATE</th>\n",
       "      <th>PROPERTY TYPE</th>\n",
       "      <th>CITY</th>\n",
       "      <th>ZIP OR POSTAL CODE</th>\n",
       "      <th>PRICE</th>\n",
       "      <th>BEDS</th>\n",
       "      <th>BATHS</th>\n",
       "      <th>SQUARE FEET</th>\n",
       "      <th>LOT SIZE</th>\n",
       "      <th>YEAR BUILT</th>\n",
       "      <th>$/SQUARE FEET</th>\n",
       "      <th>HOA/MONTH</th>\n",
       "      <th>STATUS</th>\n",
       "    </tr>\n",
       "  </thead>\n",
       "  <tbody>\n",
       "    <tr>\n",
       "      <th>0</th>\n",
       "      <td>November-29-2021</td>\n",
       "      <td>Townhouse</td>\n",
       "      <td>Sunnyvale</td>\n",
       "      <td>94086</td>\n",
       "      <td>1230000</td>\n",
       "      <td>2.0</td>\n",
       "      <td>2.5</td>\n",
       "      <td>1553.0</td>\n",
       "      <td>1.0</td>\n",
       "      <td>1991.0</td>\n",
       "      <td>792.0</td>\n",
       "      <td>505.0</td>\n",
       "      <td>Sold</td>\n",
       "    </tr>\n",
       "    <tr>\n",
       "      <th>1</th>\n",
       "      <td>September-8-2021</td>\n",
       "      <td>Single Family Residential</td>\n",
       "      <td>Sunnyvale</td>\n",
       "      <td>94086</td>\n",
       "      <td>2500000</td>\n",
       "      <td>3.0</td>\n",
       "      <td>2.5</td>\n",
       "      <td>1688.0</td>\n",
       "      <td>4964.0</td>\n",
       "      <td>2000.0</td>\n",
       "      <td>1481.0</td>\n",
       "      <td>NaN</td>\n",
       "      <td>Sold</td>\n",
       "    </tr>\n",
       "    <tr>\n",
       "      <th>2</th>\n",
       "      <td>February-17-2017</td>\n",
       "      <td>Townhouse</td>\n",
       "      <td>Sunnyvale</td>\n",
       "      <td>94085</td>\n",
       "      <td>849000</td>\n",
       "      <td>2.0</td>\n",
       "      <td>2.5</td>\n",
       "      <td>1277.0</td>\n",
       "      <td>867.0</td>\n",
       "      <td>2006.0</td>\n",
       "      <td>665.0</td>\n",
       "      <td>235.0</td>\n",
       "      <td>Sold</td>\n",
       "    </tr>\n",
       "    <tr>\n",
       "      <th>3</th>\n",
       "      <td>May-14-2018</td>\n",
       "      <td>Single Family Residential</td>\n",
       "      <td>Sunnyvale</td>\n",
       "      <td>94086</td>\n",
       "      <td>1700000</td>\n",
       "      <td>3.0</td>\n",
       "      <td>2.0</td>\n",
       "      <td>1200.0</td>\n",
       "      <td>5187.0</td>\n",
       "      <td>1944.0</td>\n",
       "      <td>1417.0</td>\n",
       "      <td>NaN</td>\n",
       "      <td>Sold</td>\n",
       "    </tr>\n",
       "    <tr>\n",
       "      <th>4</th>\n",
       "      <td>October-15-2020</td>\n",
       "      <td>Single Family Residential</td>\n",
       "      <td>Sunnyvale</td>\n",
       "      <td>94089</td>\n",
       "      <td>1300000</td>\n",
       "      <td>3.0</td>\n",
       "      <td>2.0</td>\n",
       "      <td>1108.0</td>\n",
       "      <td>6300.0</td>\n",
       "      <td>1958.0</td>\n",
       "      <td>1173.0</td>\n",
       "      <td>NaN</td>\n",
       "      <td>Sold</td>\n",
       "    </tr>\n",
       "    <tr>\n",
       "      <th>...</th>\n",
       "      <td>...</td>\n",
       "      <td>...</td>\n",
       "      <td>...</td>\n",
       "      <td>...</td>\n",
       "      <td>...</td>\n",
       "      <td>...</td>\n",
       "      <td>...</td>\n",
       "      <td>...</td>\n",
       "      <td>...</td>\n",
       "      <td>...</td>\n",
       "      <td>...</td>\n",
       "      <td>...</td>\n",
       "      <td>...</td>\n",
       "    </tr>\n",
       "    <tr>\n",
       "      <th>3251</th>\n",
       "      <td>September-30-2020</td>\n",
       "      <td>Single Family Residential</td>\n",
       "      <td>San Jose</td>\n",
       "      <td>95129</td>\n",
       "      <td>2510000</td>\n",
       "      <td>5.0</td>\n",
       "      <td>3.0</td>\n",
       "      <td>2431.0</td>\n",
       "      <td>6000.0</td>\n",
       "      <td>1960.0</td>\n",
       "      <td>1032.0</td>\n",
       "      <td>NaN</td>\n",
       "      <td>Sold</td>\n",
       "    </tr>\n",
       "    <tr>\n",
       "      <th>3252</th>\n",
       "      <td>July-6-2018</td>\n",
       "      <td>Single Family Residential</td>\n",
       "      <td>San Jose</td>\n",
       "      <td>95129</td>\n",
       "      <td>2262888</td>\n",
       "      <td>4.0</td>\n",
       "      <td>2.0</td>\n",
       "      <td>1246.0</td>\n",
       "      <td>7924.0</td>\n",
       "      <td>1956.0</td>\n",
       "      <td>1816.0</td>\n",
       "      <td>NaN</td>\n",
       "      <td>Sold</td>\n",
       "    </tr>\n",
       "    <tr>\n",
       "      <th>3253</th>\n",
       "      <td>July-17-2017</td>\n",
       "      <td>Single Family Residential</td>\n",
       "      <td>San Jose</td>\n",
       "      <td>95129</td>\n",
       "      <td>1681320</td>\n",
       "      <td>4.0</td>\n",
       "      <td>2.0</td>\n",
       "      <td>1318.0</td>\n",
       "      <td>7434.0</td>\n",
       "      <td>1956.0</td>\n",
       "      <td>1276.0</td>\n",
       "      <td>NaN</td>\n",
       "      <td>Sold</td>\n",
       "    </tr>\n",
       "    <tr>\n",
       "      <th>3254</th>\n",
       "      <td>July-17-2017</td>\n",
       "      <td>Single Family Residential</td>\n",
       "      <td>San Jose</td>\n",
       "      <td>95129</td>\n",
       "      <td>1830000</td>\n",
       "      <td>4.0</td>\n",
       "      <td>3.5</td>\n",
       "      <td>2571.0</td>\n",
       "      <td>8071.0</td>\n",
       "      <td>2011.0</td>\n",
       "      <td>712.0</td>\n",
       "      <td>NaN</td>\n",
       "      <td>Sold</td>\n",
       "    </tr>\n",
       "    <tr>\n",
       "      <th>3255</th>\n",
       "      <td>November-9-2021</td>\n",
       "      <td>Single Family Residential</td>\n",
       "      <td>San Jose</td>\n",
       "      <td>95129</td>\n",
       "      <td>2070000</td>\n",
       "      <td>4.0</td>\n",
       "      <td>2.0</td>\n",
       "      <td>1396.0</td>\n",
       "      <td>7140.0</td>\n",
       "      <td>1957.0</td>\n",
       "      <td>1483.0</td>\n",
       "      <td>NaN</td>\n",
       "      <td>Sold</td>\n",
       "    </tr>\n",
       "  </tbody>\n",
       "</table>\n",
       "<p>2934 rows × 13 columns</p>\n",
       "</div>"
      ],
      "text/plain": [
       "              SOLD DATE              PROPERTY TYPE       CITY  \\\n",
       "0      November-29-2021                  Townhouse  Sunnyvale   \n",
       "1      September-8-2021  Single Family Residential  Sunnyvale   \n",
       "2      February-17-2017                  Townhouse  Sunnyvale   \n",
       "3           May-14-2018  Single Family Residential  Sunnyvale   \n",
       "4       October-15-2020  Single Family Residential  Sunnyvale   \n",
       "...                 ...                        ...        ...   \n",
       "3251  September-30-2020  Single Family Residential   San Jose   \n",
       "3252        July-6-2018  Single Family Residential   San Jose   \n",
       "3253       July-17-2017  Single Family Residential   San Jose   \n",
       "3254       July-17-2017  Single Family Residential   San Jose   \n",
       "3255    November-9-2021  Single Family Residential   San Jose   \n",
       "\n",
       "     ZIP OR POSTAL CODE    PRICE  BEDS  BATHS  SQUARE FEET  LOT SIZE  \\\n",
       "0                 94086  1230000   2.0    2.5       1553.0       1.0   \n",
       "1                 94086  2500000   3.0    2.5       1688.0    4964.0   \n",
       "2                 94085   849000   2.0    2.5       1277.0     867.0   \n",
       "3                 94086  1700000   3.0    2.0       1200.0    5187.0   \n",
       "4                 94089  1300000   3.0    2.0       1108.0    6300.0   \n",
       "...                 ...      ...   ...    ...          ...       ...   \n",
       "3251              95129  2510000   5.0    3.0       2431.0    6000.0   \n",
       "3252              95129  2262888   4.0    2.0       1246.0    7924.0   \n",
       "3253              95129  1681320   4.0    2.0       1318.0    7434.0   \n",
       "3254              95129  1830000   4.0    3.5       2571.0    8071.0   \n",
       "3255              95129  2070000   4.0    2.0       1396.0    7140.0   \n",
       "\n",
       "      YEAR BUILT  $/SQUARE FEET  HOA/MONTH STATUS  \n",
       "0         1991.0          792.0      505.0   Sold  \n",
       "1         2000.0         1481.0        NaN   Sold  \n",
       "2         2006.0          665.0      235.0   Sold  \n",
       "3         1944.0         1417.0        NaN   Sold  \n",
       "4         1958.0         1173.0        NaN   Sold  \n",
       "...          ...            ...        ...    ...  \n",
       "3251      1960.0         1032.0        NaN   Sold  \n",
       "3252      1956.0         1816.0        NaN   Sold  \n",
       "3253      1956.0         1276.0        NaN   Sold  \n",
       "3254      2011.0          712.0        NaN   Sold  \n",
       "3255      1957.0         1483.0        NaN   Sold  \n",
       "\n",
       "[2934 rows x 13 columns]"
      ]
     },
     "execution_count": 32,
     "metadata": {},
     "output_type": "execute_result"
    }
   ],
   "source": [
    "redfin"
   ]
  },
  {
   "cell_type": "markdown",
   "id": "0a71dce0",
   "metadata": {},
   "source": [
    "### Did houses with larger yards sell for higher prices during the epidemic? (January 1, 2020 is the limit)\n",
    "\n",
    "1. Since the most common room type is 3b2b, and the most common indoor area is 1200-1800, I selected the houses that meet the above conditions in order to control the variables. The only variable is the size of the yard.\n",
    "\n",
    "2. Yard area = lot size-indoor area.\n",
    "\n",
    "3. In order to exclude the situation that the house will grow with the year, I calculated the annual growth rate for the five years from 2017 to 2021. (2017-2018 groth rate, 2018-2019, 2019-2020 ||||| 2020-2021 2021-2022)\n",
    "\n",
    "4. Divide the area of the backyard into \"<5500\", \"5500-8500\", \">8500\" to consider"
   ]
  },
  {
   "cell_type": "code",
   "execution_count": 33,
   "id": "ad955a47",
   "metadata": {},
   "outputs": [
    {
     "name": "stdout",
     "output_type": "stream",
     "text": [
      "2534.0\n",
      "12078.0\n",
      "[ 0.15068284 -0.07598446  0.07125505  0.13505925]\n",
      "[ 0.02087063  0.02121601 -0.04319035  0.32134218]\n",
      "[-0.1833286  -0.04016693  0.24658514  0.11068644]\n"
     ]
    },
    {
     "data": {
      "text/plain": [
       "Text(0.5, 0, 'years')"
      ]
     },
     "execution_count": 33,
     "metadata": {},
     "output_type": "execute_result"
    },
    {
     "data": {
      "image/png": "[encoded data removed]",
      "text/plain": [
       "<Figure size 576x360 with 1 Axes>"
      ]
     },
     "metadata": {
      "needs_background": "light"
     },
     "output_type": "display_data"
    }
   ],
   "source": [
    "redfinsfh = redfin[redfin['PROPERTY TYPE'] == \"Single Family Residential\"]\n",
    "Bed3 = redfinsfh[redfinsfh['BEDS'] == 3]\n",
    "Bath2 = Bed3[Bed3['BATHS'] == 2]\n",
    "\n",
    "range1200_1800 = Bath2[(Bath2['SQUARE FEET'] >= 1200) & (Bath2['SQUARE FEET'] < 1800)]\n",
    "\n",
    "yard = range1200_1800['LOT SIZE'] - range1200_1800['SQUARE FEET']\n",
    "\n",
    "print(yard.min())\n",
    "print(yard.max())\n",
    "\n",
    "range1200_1800.insert(loc=0, column='yard',value=yard)\n",
    "\n",
    "r2017 = range1200_1800[range1200_1800['SOLD DATE'].str.contains(\"2017\", regex=False)]\n",
    "r2018 = range1200_1800[range1200_1800['SOLD DATE'].str.contains(\"2018\", regex=False)]\n",
    "r2019 = range1200_1800[range1200_1800['SOLD DATE'].str.contains(\"2019\", regex=False)]\n",
    "r2020 = range1200_1800[range1200_1800['SOLD DATE'].str.contains(\"2020\", regex=False)]\n",
    "r2021 = range1200_1800[range1200_1800['SOLD DATE'].str.contains(\"2021\", regex=False)]\n",
    "\n",
    "#2017\n",
    "yard_size=[\"<5500\", '5500-8500', '>8500']\n",
    "yard1=r2017[(r2017['yard'] < 5500)]['PRICE'].mean()\n",
    "yard2=r2017[(r2017['yard'] >= 5500) & (r2017['SQUARE FEET'] < 8500)]['PRICE'].mean()\n",
    "yard3=r2017[(r2017['yard'] >= 8500)]['PRICE'].mean()\n",
    "\n",
    "\n",
    "#2018\n",
    "yard_size=[\"<5500\", '5500-8500', '>8500']\n",
    "yard4=r2018[(r2018['yard'] < 5500)]['PRICE'].mean()\n",
    "yard5=r2018[(r2018['yard'] >= 5500) & (r2018['SQUARE FEET'] < 8500)]['PRICE'].mean()\n",
    "yard6=r2018[(r2018['yard'] >= 8500)]['PRICE'].mean()\n",
    "\n",
    "\n",
    "#2019\n",
    "yard_size=[\"<5500\", '5500-8500', '>8500']\n",
    "yard7=r2019[(r2019['yard'] < 5500)]['PRICE'].mean()\n",
    "yard8=r2019[(r2019['yard'] >= 5500) & (r2019['SQUARE FEET'] < 8500)]['PRICE'].mean()\n",
    "yard9=r2019[(r2019['yard'] >= 8500)]['PRICE'].mean()\n",
    "\n",
    "\n",
    "#2020\n",
    "yard_size=[\"<5500\", '5500-8500', '>8500']\n",
    "yard10=r2020[(r2020['yard'] < 5500)]['PRICE'].mean()\n",
    "yard11=r2020[(r2020['yard'] >= 5500) & (r2020['SQUARE FEET'] < 8500)]['PRICE'].mean()\n",
    "yard12=r2020[(r2020['yard'] >= 8500)]['PRICE'].mean()\n",
    "\n",
    "\n",
    "#2021\n",
    "\n",
    "yard_size=[\"<5500\", '5500-8500', '>8500']\n",
    "yard13=r2021[(r2021['yard'] < 5500)]['PRICE'].mean()\n",
    "yard14=r2021[(r2021['yard'] >= 5500) & (r2021['SQUARE FEET'] < 8500)]['PRICE'].mean()\n",
    "yard15=r2021[(r2021['yard'] >= 8500)]['PRICE'].mean()\n",
    "\n",
    "# growth rate of same yard area in different years\n",
    "\n",
    "r5500 = [yard1, yard4,yard7,yard10,yard13]\n",
    "growth_rate1 = np.exp(np.diff(np.log(r5500))) - 1\n",
    "print(growth_rate1)\n",
    "\n",
    "r5500_8500 = [yard2, yard5,yard8,yard11,yard14]\n",
    "growth_rate2 = np.exp(np.diff(np.log(r5500_8500))) - 1\n",
    "print(growth_rate2)\n",
    "\n",
    "r8500 = [yard3, yard6,yard9,yard12,yard15]\n",
    "growth_rate3 = np.exp(np.diff(np.log(r8500))) - 1\n",
    "print(growth_rate3)\n",
    "\n",
    "#<5500\n",
    "x1 = np.array([\"2017-2018\",\"2018-2019\",\"2019-2020\",\"2020-2021\"])\n",
    "y1 = np.array([0.15068284,-0.07598446,0.07125505,0.13505925])\n",
    "#5500-8500\n",
    "x2 = np.array([\"2017-2018\",\"2018-2019\",\"2019-2020\",\"2020-2021\"])\n",
    "y2 = np.array([0.02087063,0.02121601,-0.04319035,0.32134218])\n",
    "#>8500\n",
    "x3 = np.array([\"2017-2018\",\"2018-2019\",\"2019-2020\",\"2020-2021\"])\n",
    "y3 = np.array([-0.1833286,-0.04016693,0.24658514,0.11068644])\n",
    "\n",
    "plt.figure(figsize=(8,5))\n",
    "\n",
    "plt.plot(x1,y1,'ys-',linewidth=3, color = 'g', label='<5500')\n",
    "plt.plot(x2,y2,'ys-',linewidth=3, color = 'r', label='5500-8500')\n",
    "plt.plot(x3,y3,'ys-',linewidth=3, color = 'b', label='>8500')\n",
    "\n",
    "plt.legend()\n",
    "plt.grid(color='k', lw = 0.3)\n",
    "plt.title('growth rate of same yard area in different years')\n",
    "plt.ylabel('growth rate')\n",
    "plt.xlabel('years')"
   ]
  },
  {
   "cell_type": "markdown",
   "id": "b46fe54e",
   "metadata": {},
   "source": [
    "A little completed chart,\n",
    "the interesting points I found are,\n",
    "\n",
    "the blue line goes up quickly, does that mean people love big yards during the pandemic?\n",
    "\n",
    "and the red line, it really does fast in 2021, does that mean people decide to spend money on larger yards instead of beds, baths or other things?\n",
    "\n",
    "But in general, the trend is not clear enough for me to give a firm result. So maybe I could. Maybe I will dig it up in the future."
   ]
  },
  {
   "cell_type": "markdown",
   "id": "cdf8523b",
   "metadata": {},
   "source": [
    "#### During the epidemic, the price of houses with convenient transportation has not risen as fast as other places?\n",
    "#### Sunnyvale the center of Silicon Valley nearby 101 highway (San Francisco to LA)\n",
    "#### 95118 the furthest place away from sunnyvale in this research\n"
   ]
  },
  {
   "cell_type": "code",
   "execution_count": 34,
   "id": "8f41b111",
   "metadata": {},
   "outputs": [],
   "source": [
    "after_covid = redfin[redfin['SOLD DATE'].str.contains(\"2020\", regex=False) | redfin['SOLD DATE'].str.contains(\"2021\", regex=False)]\n",
    "before_covid = redfin[redfin['SOLD DATE'].str.contains(\"2017\", regex=False) | redfin['SOLD DATE'].str.contains(\"2018\", regex=False) | redfin['SOLD DATE'].str.contains(\"2019\", regex=False) | redfin['SOLD DATE'].str.contains(\"2020\", regex=False)]"
   ]
  },
  {
   "cell_type": "code",
   "execution_count": 35,
   "id": "7ccf2cdc",
   "metadata": {},
   "outputs": [
    {
     "name": "stdout",
     "output_type": "stream",
     "text": [
      "[ 0.09268764 -0.09060881  0.1208563   0.06360637]\n"
     ]
    }
   ],
   "source": [
    "#fetch sunnyvale\n",
    "Asunnyvale = after_covid[after_covid['CITY'] == \"Sunnyvale\"]\n",
    "Bsunnyvale = before_covid[before_covid['CITY'] == \"Sunnyvale\"]\n",
    "\n",
    "meanSunnyvale17 = Bsunnyvale[Bsunnyvale['SOLD DATE'].str.contains(\"2017\", regex=False)]['PRICE'].mean()\n",
    "meanSunnyvale18 = Bsunnyvale[Bsunnyvale['SOLD DATE'].str.contains(\"2018\", regex=False)]['PRICE'].mean() \n",
    "meanSunnyvale19 = Bsunnyvale[Bsunnyvale['SOLD DATE'].str.contains(\"2019\", regex=False)]['PRICE'].mean()\n",
    "meanSunnyvale20 = Asunnyvale[Asunnyvale['SOLD DATE'].str.contains(\"2020\", regex=False)]['PRICE'].mean()\n",
    "meanSunnyvale21 = Asunnyvale[Asunnyvale['SOLD DATE'].str.contains(\"2021\", regex=False)]['PRICE'].mean()\n",
    "\n",
    "\n",
    "list_sunnyvale = [meanSunnyvale17, meanSunnyvale18, meanSunnyvale19, meanSunnyvale20,meanSunnyvale21]\n",
    "growth_rate1 = np.exp(np.diff(np.log(list_sunnyvale))) - 1\n",
    "print(growth_rate1)\n"
   ]
  },
  {
   "cell_type": "code",
   "execution_count": 36,
   "id": "6e9d8291",
   "metadata": {},
   "outputs": [
    {
     "data": {
      "text/plain": [
       "\"\\n# fetch 95124 from these two new dataframes\\nA95124 = after_covid[after_covid['ZIP OR POSTAL CODE'] == 95124]\\nB95124 = before_covid[before_covid['ZIP OR POSTAL CODE'] == 95124]\\n\""
      ]
     },
     "execution_count": 36,
     "metadata": {},
     "output_type": "execute_result"
    }
   ],
   "source": [
    "# fetch 95118 from these two new dataframes\n",
    "A95118 = after_covid[after_covid['ZIP OR POSTAL CODE'] == 95118]\n",
    "B95118 = before_covid[before_covid['ZIP OR POSTAL CODE'] == 95118]\n",
    "\n",
    "'''\n",
    "# fetch 95124 from these two new dataframes\n",
    "A95124 = after_covid[after_covid['ZIP OR POSTAL CODE'] == 95124]\n",
    "B95124 = before_covid[before_covid['ZIP OR POSTAL CODE'] == 95124]\n",
    "'''"
   ]
  },
  {
   "cell_type": "code",
   "execution_count": 37,
   "id": "4587d1d5",
   "metadata": {},
   "outputs": [
    {
     "data": {
      "text/plain": [
       "'\\n#95124\\nmean201724 = B95124[B95124[\\'SOLD DATE\\'].str.contains(\"2017\", regex=False)][\\'PRICE\\'].mean()\\nmean201824 = B95124[B95124[\\'SOLD DATE\\'].str.contains(\"2018\", regex=False)][\\'PRICE\\'].mean()\\nmean201924 = B95124[B95124[\\'SOLD DATE\\'].str.contains(\"2019\", regex=False)][\\'PRICE\\'].mean()\\nmean202024 = A95124[A95124[\\'SOLD DATE\\'].str.contains(\"2020\", regex=False)][\\'PRICE\\'].mean()\\nmean202124 = A95124[A95124[\\'SOLD DATE\\'].str.contains(\"2021\", regex=False)][\\'PRICE\\'].mean()\\n'"
      ]
     },
     "execution_count": 37,
     "metadata": {},
     "output_type": "execute_result"
    }
   ],
   "source": [
    "# Mean of evey year in 94085, 94086, 94089\n",
    "\n",
    "#95118\n",
    "mean201718 = B95118[B95118['SOLD DATE'].str.contains(\"2017\", regex=False)]['PRICE'].mean()\n",
    "mean201818 = B95118[B95118['SOLD DATE'].str.contains(\"2018\", regex=False)]['PRICE'].mean()\n",
    "mean201918 = B95118[B95118['SOLD DATE'].str.contains(\"2019\", regex=False)]['PRICE'].mean()\n",
    "mean202018 = A95118[A95118['SOLD DATE'].str.contains(\"2020\", regex=False)]['PRICE'].mean()\n",
    "mean202118 = A95118[A95118['SOLD DATE'].str.contains(\"2021\", regex=False)]['PRICE'].mean()\n",
    "\n",
    "'''\n",
    "#95124\n",
    "mean201724 = B95124[B95124['SOLD DATE'].str.contains(\"2017\", regex=False)]['PRICE'].mean()\n",
    "mean201824 = B95124[B95124['SOLD DATE'].str.contains(\"2018\", regex=False)]['PRICE'].mean()\n",
    "mean201924 = B95124[B95124['SOLD DATE'].str.contains(\"2019\", regex=False)]['PRICE'].mean()\n",
    "mean202024 = A95124[A95124['SOLD DATE'].str.contains(\"2020\", regex=False)]['PRICE'].mean()\n",
    "mean202124 = A95124[A95124['SOLD DATE'].str.contains(\"2021\", regex=False)]['PRICE'].mean()\n",
    "'''"
   ]
  },
  {
   "cell_type": "code",
   "execution_count": 38,
   "id": "d98d08f5",
   "metadata": {},
   "outputs": [
    {
     "name": "stdout",
     "output_type": "stream",
     "text": [
      "[ 0.10072284 -0.10529342  0.15633379  0.18976017]\n"
     ]
    },
    {
     "data": {
      "text/plain": [
       "'\\nlist_24 = [mean201724, mean201824, mean201924, mean202024, mean202124]\\ngrowth_rate2 = np.exp(np.diff(np.log(list_24))) - 1\\nprint(growth_rate2)\\n'"
      ]
     },
     "execution_count": 38,
     "metadata": {},
     "output_type": "execute_result"
    }
   ],
   "source": [
    "list_18 = [mean201718, mean201818, mean201918, mean202018, mean202118]\n",
    "growth_rate1 = np.exp(np.diff(np.log(list_18))) - 1\n",
    "print(growth_rate1)\n",
    "'''\n",
    "list_24 = [mean201724, mean201824, mean201924, mean202024, mean202124]\n",
    "growth_rate2 = np.exp(np.diff(np.log(list_24))) - 1\n",
    "print(growth_rate2)\n",
    "'''"
   ]
  },
  {
   "cell_type": "code",
   "execution_count": 39,
   "id": "4b147c49",
   "metadata": {},
   "outputs": [
    {
     "data": {
      "text/plain": [
       "Text(0.5, 0, 'Years')"
      ]
     },
     "execution_count": 39,
     "metadata": {},
     "output_type": "execute_result"
    },
    {
     "data": {
      "image/png": "[encoded data removed]",
      "text/plain": [
       "<Figure size 576x360 with 1 Axes>"
      ]
     },
     "metadata": {
      "needs_background": "light"
     },
     "output_type": "display_data"
    }
   ],
   "source": [
    "x1 = np.array([\"2017-2018\",\"2018-2019\",\"2019-2020\",\"2020-2021\"])\n",
    "y1 = np.array([0.09268764, -0.09060881, 0.1208563, 0.06360637])\n",
    "\n",
    "\n",
    "\n",
    "x2 = np.array([\"2017-2018\",\"2018-2019\",\"2019-2020\",\"2020-2021\"])\n",
    "y2 = np.array([0.10072284, -0.10529342, 0.15633379, 0.18976017])\n",
    "\n",
    "'''\n",
    "x3 = np.array([\"2017-2018\",\"2018-2019\",\"2019-2020\",\"2020-2021\"])\n",
    "y3 = np.array([0.19433182, -0.06803019, 0.03521968, 0.22091172])\n",
    "'''\n",
    "\n",
    "plt.figure(figsize=(8,5))\n",
    "plt.plot(x1,y1,'ys-',linewidth=3, color = 'g', label='Sunnyvale')\n",
    "plt.plot(x2,y2,'ys-',linewidth=3, color = 'r', label='95118')\n",
    "'''\n",
    "plt.plot(x3,y3,'ys-',linewidth=3, color = 'k', label='95124')\n",
    "'''\n",
    "plt.legend()\n",
    "plt.grid(color='k', lw = 0.3)\n",
    "plt.title('The Growth Rates')\n",
    "plt.ylabel('The growth rates')\n",
    "plt.xlabel('Years')\n",
    "\n",
    "#plt.scatter(x1, y1)\n",
    "#plt.scatter(x2, y2)"
   ]
  },
  {
   "cell_type": "code",
   "execution_count": null,
   "id": "03ef13aa",
   "metadata": {},
   "outputs": [],
   "source": [
    "#######################LingLi Code#######################"
   ]
  },
  {
   "cell_type": "markdown",
   "id": "0216ae9c",
   "metadata": {},
   "source": [
    "Besides external causes, there are properties of a house itself that affects housing price. \n",
    "We analyze the relationship of a townhouse or single family residential with different bedrooms, bathroom, postcode, city, year-built, lot size, square feet, and HOA fee.\n"
   ]
  },
  {
   "cell_type": "code",
   "execution_count": 52,
   "id": "b940435e",
   "metadata": {},
   "outputs": [
    {
     "data": {
      "text/plain": [
       "Index(['SOLD_DATE', 'PROPERTY_TYPE', 'CITY', 'ZIP_OR_POSTAL_CODE', 'PRICE',\n",
       "       'BEDS', 'BATHS', 'SQUARE_FEET', 'LOT_SIZE', 'YEAR_BUILT',\n",
       "       '$/SQUARE_FEET', 'HOA/MONTH', 'STATUS'],\n",
       "      dtype='object')"
      ]
     },
     "execution_count": 52,
     "metadata": {},
     "output_type": "execute_result"
    }
   ],
   "source": [
    "# replace space with underline in columns names\n",
    "# redfin_new.columns = [c.replace(' ', '_') for c in redfin_new.columns]\n",
    "# redfin_new.columns1\n",
    "redfin_new.columns = redfin_new.columns.str.replace(' ', '_')\n",
    "redfin_new.columns"
   ]
  },
  {
   "cell_type": "code",
   "execution_count": 53,
   "id": "6f9a968e",
   "metadata": {},
   "outputs": [],
   "source": [
    "sj_th = redfin_new[redfin_new[\"PROPERTY_TYPE\"] == \"Townhouse\"]\n",
    "sj_sfh = redfin_new[redfin_new[\"PROPERTY_TYPE\"] == \"Single Family Residential\"]"
   ]
  },
  {
   "cell_type": "code",
   "execution_count": 100,
   "id": "b3831539",
   "metadata": {},
   "outputs": [
    {
     "data": {
      "image/png": "[encoded data removed]",
      "text/plain": [
       "<Figure size 432x288 with 1 Axes>"
      ]
     },
     "metadata": {
      "needs_background": "light"
     },
     "output_type": "display_data"
    }
   ],
   "source": [
    "#Compare Median of Townhouse and Single Family Residential /sfh 和th 价格中位数对比\n",
    "th_m=sj_th.loc[:,'PRICE'].mean()\n",
    "sfh_m=sj_sfh.loc[:,'PRICE'].mean()\n",
    "house_type = ['TownHouse', 'House']\n",
    "price = [th_m,sfh_m]\n",
    "plt.barh(house_type,price, color = 'orange')\n",
    "plt.title('Mean Price By House Type(Million)')\n",
    "plt.xlabel('Mean Price')\n",
    "plt.ylabel('House Type')\n",
    "plt.grid()"
   ]
  },
  {
   "cell_type": "markdown",
   "id": "f086d513",
   "metadata": {},
   "source": [
    "Townhouse and single family residential are two types of properties. There are 554 townhouses and 2703 single family residences in our data. From our code, we see that the average price for a townhouse is a little 1.6 million while it is a little less than 1.2 million dollars. \n",
    "\n",
    "When it comes to buying a house, one of the questions we would ask is how many rooms do we want? Three bedrooms with two bathrooms or two bedrooms with two bathrooms? It varies from person to person. We want to know what the most popular bedroom type and bathroom type is that people would like to choose for townhouse and single family house. \n"
   ]
  },
  {
   "cell_type": "code",
   "execution_count": 55,
   "id": "5497f32f",
   "metadata": {},
   "outputs": [],
   "source": [
    "# The relationship of Bedrooms and Housing Price 房子价格和房间的关系"
   ]
  },
  {
   "cell_type": "code",
   "execution_count": 56,
   "id": "adc7dfa1",
   "metadata": {},
   "outputs": [
    {
     "data": {
      "text/plain": [
       "3.0    1682\n",
       "4.0    1043\n",
       "2.0     334\n",
       "5.0     183\n",
       "6.0       8\n",
       "1.0       7\n",
       "Name: BEDS, dtype: int64"
      ]
     },
     "execution_count": 56,
     "metadata": {},
     "output_type": "execute_result"
    }
   ],
   "source": [
    "# total bedrooms count\n",
    "redfin_new['BEDS'].value_counts()"
   ]
  },
  {
   "cell_type": "code",
   "execution_count": 57,
   "id": "7d012a79",
   "metadata": {},
   "outputs": [
    {
     "name": "stdout",
     "output_type": "stream",
     "text": [
      "There are 554 Townhouses in this data.\n"
     ]
    },
    {
     "data": {
      "image/png": "[encoded data removed]",
      "text/plain": [
       "<Figure size 432x288 with 1 Axes>"
      ]
     },
     "metadata": {
      "needs_background": "light"
     },
     "output_type": "display_data"
    },
    {
     "name": "stdout",
     "output_type": "stream",
     "text": [
      "There are 2703 Single Family Residential in this data.\n"
     ]
    },
    {
     "data": {
      "image/png": "[encoded data removed]",
      "text/plain": [
       "<Figure size 432x288 with 1 Axes>"
      ]
     },
     "metadata": {
      "needs_background": "light"
     },
     "output_type": "display_data"
    }
   ],
   "source": [
    "# Different bedroom type counts among townhouse 卧室数量排名th\n",
    "th_total = len(sj_th)\n",
    "print(\"There are \"+ str(th_total) + \" Townhouses in this data.\")\n",
    "beds_count_th=sj_th['BEDS'].value_counts()\n",
    "beds_count_th.plot(kind = 'bar')\n",
    "plt.title('Bedroom Counts(TownHouse)')\n",
    "plt.ylabel('counts')\n",
    "plt.xlabel('numbers of Bedroom')\n",
    "plt.show()\n",
    "\n",
    "# Different bedroom type counts among single family residential 卧室数量排名sfh\n",
    "sfh_total = len(sj_sfh)\n",
    "print(\"There are \"+ str(sfh_total) + \" Single Family Residential in this data.\")\n",
    "beds_count_sfh=sj_sfh['BEDS'].value_counts()\n",
    "beds_count_sfh.plot(kind = 'bar')\n",
    "plt.title('Bedroom Counts(Single Family Residential)')\n",
    "plt.ylabel('counts')\n",
    "plt.xlabel('numbers of Bedroom')\n",
    "plt.show()"
   ]
  },
  {
   "cell_type": "markdown",
   "id": "de328b3f",
   "metadata": {},
   "source": [
    "As for bedroom type, the first bar chart illustrates over 250 townhouses have three bedrooms,  about 230 townhouses have two bedrooms, and one bedroom type is the least common. The second chart shows around 1400 houses have three bedrooms, and 1000 houses have four bedrooms. The number of houses with five bedrooms is way less than the four bedroom type. What surprised me was that the two bedroom type is not even on the top three most common room types. "
   ]
  },
  {
   "cell_type": "code",
   "execution_count": 58,
   "id": "4049ee04",
   "metadata": {},
   "outputs": [
    {
     "data": {
      "image/png": "[encoded data removed]",
      "text/plain": [
       "<Figure size 432x288 with 1 Axes>"
      ]
     },
     "metadata": {
      "needs_background": "light"
     },
     "output_type": "display_data"
    }
   ],
   "source": [
    "# median price of different bedroom type in TownHouse\n",
    "# Bar Graph for Median Price By Bedroom Type(TownHouse)\n",
    "rooms_th=[]\n",
    "price_th=[]\n",
    "for i in sj_th.BEDS.unique():\n",
    "    rooms_th.append(i)\n",
    "    price_th.append(sj_th[sj_th[\"BEDS\"] == i].loc[:,'PRICE'].mean())\n",
    "\n",
    "plt.bar(rooms_th,price_th, color = 'g', width=0.25)\n",
    "plt.title('Mean Price By Bedroom Type(TownHouse)')\n",
    "plt.xlabel('Numbers Of Bedrooms')\n",
    "plt.ylabel('TownHouse Price')\n",
    "plt.grid()"
   ]
  },
  {
   "cell_type": "code",
   "execution_count": 59,
   "id": "9ea6e878",
   "metadata": {},
   "outputs": [
    {
     "name": "stdout",
     "output_type": "stream",
     "text": [
      "[2.0, 4.0, 3.0, 1.0]\n",
      "[1142284.2549019607, 1754220.2793522268, 1464638.1424541608, 1428000.0]\n"
     ]
    },
    {
     "data": {
      "image/png": "[encoded data removed]",
      "text/plain": [
       "<Figure size 432x288 with 1 Axes>"
      ]
     },
     "metadata": {
      "needs_background": "light"
     },
     "output_type": "display_data"
    }
   ],
   "source": [
    "# median price of different bedroom type in Single Family Residential\n",
    "# Bar Graph for Median Price By Bedroom Type(Single Family Residential)\n",
    "\n",
    "rooms_sfh=[]\n",
    "price_sfh=[]\n",
    "for i in sj_th.BEDS.unique():\n",
    "    rooms_sfh.append(i)\n",
    "    price_sfh.append(sj_sfh[sj_sfh[\"BEDS\"] == i].loc[:,'PRICE'].mean())\n",
    "    \n",
    "print(rooms_sfh)\n",
    "print(price_sfh)\n",
    "\n",
    "plt.bar(rooms_sfh,price_sfh, color = 'g', width=0.25)\n",
    "plt.title('Mean Price By Bedroom Type(House)')\n",
    "plt.xlabel('Numbers Of Bedrooms')\n",
    "plt.ylabel('House Price')\n",
    "plt.grid()"
   ]
  },
  {
   "cell_type": "markdown",
   "id": "6d7885f8",
   "metadata": {},
   "source": [
    "We guess the more bedrooms in a townhouse or house, the more it costs to buy. But the Mean Price By Bedroom Type bar graph displays a different story. The one bedroom type is more expensive than the two bedroom type. I then checked the data for one bedroom type. There are only four single family houses that only have one bedroom and they are located in rich areas like Sunnyvale and Cupertino. When we have  more data than this, we will have  better data accuracy. \n",
    "\n",
    "When choosing among bedroom types, people need to consider:\n",
    "Do you need an extra room for a home office if you work from home?\n",
    "How many kids are you going to have?\n",
    "Can we afford one more room?\n",
    "Do we need to prepare a guest room? \n",
    "Do we need to rent out one room to pay off the mortgage?"
   ]
  },
  {
   "cell_type": "code",
   "execution_count": 60,
   "id": "40cb42b7",
   "metadata": {},
   "outputs": [
    {
     "data": {
      "text/plain": [
       "163     Sunnyvale\n",
       "225     Sunnyvale\n",
       "362     Cupertino\n",
       "2869     San Jose\n",
       "Name: CITY, dtype: object"
      ]
     },
     "execution_count": 60,
     "metadata": {},
     "output_type": "execute_result"
    }
   ],
   "source": [
    "sj_sfh[(sj_sfh['BEDS'] == 1)]['CITY']"
   ]
  },
  {
   "cell_type": "code",
   "execution_count": 61,
   "id": "b4126da2",
   "metadata": {},
   "outputs": [],
   "source": [
    "# The relationship of Bathrooms and Housing Price 房子价格和厕所的关系"
   ]
  },
  {
   "cell_type": "code",
   "execution_count": 62,
   "id": "1bfe9667",
   "metadata": {},
   "outputs": [
    {
     "data": {
      "image/png": "[encoded data removed]",
      "text/plain": [
       "<Figure size 432x288 with 1 Axes>"
      ]
     },
     "metadata": {
      "needs_background": "light"
     },
     "output_type": "display_data"
    },
    {
     "data": {
      "image/png": "[encoded data removed]",
      "text/plain": [
       "<Figure size 432x288 with 1 Axes>"
      ]
     },
     "metadata": {
      "needs_background": "light"
     },
     "output_type": "display_data"
    }
   ],
   "source": [
    "# Different bathroom type counts among townhouse. 厕所数量排名在th\n",
    "bath_number_th = sj_th['BATHS'].value_counts()\n",
    "bath_number_sfh = sj_sfh['BATHS'].value_counts()\n",
    "bath_number_th.plot(kind = 'bar')\n",
    "plt.title('Bathroom Counts(TownHouse)')\n",
    "plt.ylabel('counts')\n",
    "plt.yticks(np.arange(0, 400, 50))\n",
    "plt.xlabel('numbers of Bathroom')\n",
    "plt.show()\n",
    "\n",
    "# Different bathroom type counts among single family residential. 厕所数量排名在sfh\n",
    "bath_number_sfh.plot(kind = 'bar')\n",
    "plt.title('Bathroom Counts(House)')\n",
    "plt.ylabel('counts')\n",
    "plt.xlabel('numbers of Bathroom')\n",
    "plt.show()"
   ]
  },
  {
   "cell_type": "markdown",
   "id": "fd3f5f20",
   "metadata": {},
   "source": [
    "Similarly, the number of bathrooms plays an important part for future homeowners. It can be seen that 2.5 bathroom types are most common in townhouses and two bathroom types is only one third of the number of two and half bathrooms. Likewise, 2 bathroom types in a single family house is three times more than the one with three bathrooms. According to the charts, people are less likely to choose to buy houses when it only has one bathroom or more than three bathrooms for townhouses and has one and half bathrooms and more than four bathrooms. The suppliers for those types are most likely to be lower. "
   ]
  },
  {
   "cell_type": "code",
   "execution_count": 63,
   "id": "cc9c7a15",
   "metadata": {},
   "outputs": [
    {
     "name": "stdout",
     "output_type": "stream",
     "text": [
      "[1150000.0, 1488500.0, 1020000.0, 1405000.0, 867500.0, 822500.0, 1350000.0]\n",
      "[2.5, 3.5, 2.0, 3.0, 1.5, 1.0, 4.0]\n"
     ]
    },
    {
     "data": {
      "text/plain": [
       "Text(0, 0.5, 'TownHouse Price')"
      ]
     },
     "execution_count": 63,
     "metadata": {},
     "output_type": "execute_result"
    },
    {
     "data": {
      "image/png": "[encoded data removed]",
      "text/plain": [
       "<Figure size 432x288 with 1 Axes>"
      ]
     },
     "metadata": {
      "needs_background": "light"
     },
     "output_type": "display_data"
    }
   ],
   "source": [
    "# median price of different bathroom type in TownHouse\n",
    "# Bar Graph for Median Price By Bathroom Type(TownHouse)\n",
    "\n",
    "bath_rooms_th=[]\n",
    "bath_price_th=[]\n",
    "for i in sj_th.BATHS.unique():\n",
    "    bath_rooms_th.append(i)\n",
    "    bath_price_th.append(sj_th[sj_th[\"BATHS\"] == i].loc[:,'PRICE'].median())\n",
    "    \n",
    "print(bath_price_th)\n",
    "print(bath_rooms_th)\n",
    "\n",
    "plt.bar(bath_rooms_th,bath_price_th, color = 'g', width=0.25)\n",
    "\n",
    "plt.title('Median Price By Bathroom Type(TownHouse)')\n",
    "plt.xlabel('Numbers Of Bathrooms')\n",
    "plt.ylabel('TownHouse Price')"
   ]
  },
  {
   "cell_type": "code",
   "execution_count": 64,
   "id": "3e0ab2e9",
   "metadata": {},
   "outputs": [
    {
     "name": "stdout",
     "output_type": "stream",
     "text": [
      "[2.5, 3.5, 2.0, 3.0, 1.5, 1.0, 4.0]\n",
      "[1640000.0, 2150000.0, 1421000.0, 1720000.0, 1265000.0, 1150000.0, 2000000.0]\n"
     ]
    },
    {
     "data": {
      "image/png": "[encoded data removed]",
      "text/plain": [
       "<Figure size 432x288 with 1 Axes>"
      ]
     },
     "metadata": {
      "needs_background": "light"
     },
     "output_type": "display_data"
    }
   ],
   "source": [
    "# median price of different bathroom type in single family residential\n",
    "# Bar Graph for Median Price By Bathroom Type(Single Family Residential)\n",
    "\n",
    "bath_rooms_sfh=[]\n",
    "bath_price_sfh=[]\n",
    "for i in sj_th.BATHS.unique():\n",
    "    bath_rooms_sfh.append(i)\n",
    "    bath_price_sfh.append(sj_sfh[sj_sfh[\"BATHS\"] == i].loc[:,'PRICE'].median())\n",
    "    \n",
    "print(bath_rooms_sfh)\n",
    "print(bath_price_sfh)\n",
    "\n",
    "plt.bar(bath_rooms_sfh,bath_price_sfh, color = 'g', width=0.25)\n",
    "plt.title('Median Price By Bathroom Type(House)')\n",
    "plt.xlabel('Numbers Of Bathrooms')\n",
    "plt.ylabel('House Price')\n",
    "plt.grid()"
   ]
  },
  {
   "cell_type": "markdown",
   "id": "971b4545",
   "metadata": {},
   "source": [
    "The chart gives information about the relation between the number of bathrooms and the housing price. It is not hard to find that the more bathrooms is the better, but that’s until we get to four bathrooms. \n",
    "\n",
    "The ratio of bedrooms to bathrooms is an appealing topic. but we also need to take other things into consideration, so we are not discussing that in this part."
   ]
  },
  {
   "cell_type": "code",
   "execution_count": null,
   "id": "e023f1d4",
   "metadata": {},
   "outputs": [],
   "source": []
  },
  {
   "cell_type": "markdown",
   "id": "24130118",
   "metadata": {},
   "source": [
    "Location\n",
    "The location of a house is most people’s priority. Close to work or school, easy access to freeway or public transportation, proximity to grocery stores or major supermarkets, a quiet neighbourhood and more. \n",
    "\n",
    "Due to the limitation of our data, we are mainly exploring the housing price with postcodes and cities."
   ]
  },
  {
   "cell_type": "code",
   "execution_count": 65,
   "id": "328f16f9",
   "metadata": {},
   "outputs": [
    {
     "data": {
      "text/plain": [
       "Text(0, 0.5, 'PRICE')"
      ]
     },
     "execution_count": 65,
     "metadata": {},
     "output_type": "execute_result"
    },
    {
     "data": {
      "image/png": "[encoded data removed]",
      "text/plain": [
       "<Figure size 432x288 with 1 Axes>"
      ]
     },
     "metadata": {
      "needs_background": "light"
     },
     "output_type": "display_data"
    },
    {
     "data": {
      "image/png": "[encoded data removed]",
      "text/plain": [
       "<Figure size 432x288 with 1 Axes>"
      ]
     },
     "metadata": {
      "needs_background": "light"
     },
     "output_type": "display_data"
    }
   ],
   "source": [
    "# Different townhouse price by City\n",
    "sj_th3 = sj_th.groupby('CITY')['PRICE'].mean()\n",
    "sj_th3\n",
    "plt.figure(); \n",
    "sj_th3.plot.bar(title='(TownHouse Price By City)', color='yellowgreen'); \n",
    "plt.xlabel('CITIES'); \n",
    "plt.ylabel('PRICE') \n",
    "\n",
    "sj_sfh3 = sj_sfh.groupby('CITY')['PRICE'].mean()\n",
    "sj_sfh3\n",
    "plt.figure(); \n",
    "sj_sfh3.plot.bar(title='(SFH Price By City)', color='yellowgreen'); \n",
    "plt.xlabel('CITIES'); \n",
    "plt.ylabel('PRICE')  "
   ]
  },
  {
   "cell_type": "markdown",
   "id": "11e56ff6",
   "metadata": {},
   "source": [
    "Cupertino is the most expensive city among listed cities. \n",
    "It is known as the home to the big tech company, Apple Inc. It is also where a lot of the biggest technological companies started. Cupertino has less homeless people, the area has less crime rate and is very safe compared to other areas. A lot of families chose to go there because of top-rated schools. "
   ]
  },
  {
   "cell_type": "code",
   "execution_count": 66,
   "id": "94478296",
   "metadata": {},
   "outputs": [
    {
     "name": "stdout",
     "output_type": "stream",
     "text": [
      "19\n"
     ]
    },
    {
     "data": {
      "text/plain": [
       "16"
      ]
     },
     "execution_count": 66,
     "metadata": {},
     "output_type": "execute_result"
    }
   ],
   "source": [
    "# There are duplicated postcode, clean the data for both Townhouse and Single Family Residential///////////////\n",
    "sj_sfh1=sj_sfh.replace('95117',95117)\n",
    "sj_sfh2=sj_sfh1.replace('95124',95124)\n",
    "print(len(sj_sfh2.ZIP_OR_POSTAL_CODE.unique()))\n",
    "\n",
    "sj_th1=sj_th.replace('95117',95117)\n",
    "sj_th2=sj_th1.replace('95117-2000',95117)\n",
    "len(sj_th2.ZIP_OR_POSTAL_CODE.unique())"
   ]
  },
  {
   "cell_type": "code",
   "execution_count": 67,
   "id": "840cdfcc",
   "metadata": {},
   "outputs": [
    {
     "name": "stdout",
     "output_type": "stream",
     "text": [
      "[94086, 94085, 94089, 94087, 95051, 95014, 95129, '95008']\n",
      "[1348217.6363636365, 1249812.923076923, 1374800.0, 1242312.5, 1149799.5862068965, 1455986.12345679, 1355234.1875, 1112673.9019607843]\n"
     ]
    },
    {
     "data": {
      "text/plain": [
       "Text(0, 0.5, 'TownHouse Price')"
      ]
     },
     "execution_count": 67,
     "metadata": {},
     "output_type": "execute_result"
    },
    {
     "data": {
      "image/png": "[encoded data removed]",
      "text/plain": [
       "<Figure size 432x288 with 1 Axes>"
      ]
     },
     "metadata": {
      "needs_background": "light"
     },
     "output_type": "display_data"
    }
   ],
   "source": [
    "# median price of different postcodes in TownHouse\n",
    "# Bar Graph for Median Price By Postcodes(TownHouse)\n",
    "# There are more than 19 postcodes in SFH and 16 in TH. So I seperate them into two Graph\n",
    "\n",
    "postcode_th=[]\n",
    "postcode_price_th=[]\n",
    "for i in sj_th2.ZIP_OR_POSTAL_CODE.unique()[:8]:\n",
    "    postcode_th.append(i)\n",
    "    postcode_price_th.append(sj_th2[sj_th2[\"ZIP_OR_POSTAL_CODE\"] == i].loc[:,'PRICE'].mean())\n",
    "print(postcode_th)\n",
    "print(postcode_price_th)\n",
    "# plt.pie(postcode_th,postcode_price_th, color = 'g',)\n",
    "\n",
    "plt.plot(postcode_th, postcode_price_th, \"go\", color = \"darkorchid\")\n",
    "plt.grid(True)\n",
    "plt.title('Median Price By Postcode (TownHouse)')\n",
    "plt.xlabel('Postcode')\n",
    "plt.ylabel('TownHouse Price')\n",
    "\n"
   ]
  },
  {
   "cell_type": "code",
   "execution_count": 68,
   "id": "529e6e99",
   "metadata": {},
   "outputs": [
    {
     "name": "stdout",
     "output_type": "stream",
     "text": [
      "[95117, 95054, 95050, 95118, 95124, '95130', 95128]\n",
      "[944515.95, 1210925.8333333333, 1138788.5555555555, 829754.716981132, 1009895.8333333334, 845000.0, 913495.5]\n"
     ]
    },
    {
     "data": {
      "text/plain": [
       "Text(0, 0.5, 'TownHouse Price')"
      ]
     },
     "execution_count": 68,
     "metadata": {},
     "output_type": "execute_result"
    },
    {
     "data": {
      "image/png": "[encoded data removed]",
      "text/plain": [
       "<Figure size 432x288 with 1 Axes>"
      ]
     },
     "metadata": {
      "needs_background": "light"
     },
     "output_type": "display_data"
    }
   ],
   "source": [
    "# median price of different postcodes in TownHouse\n",
    "# Bar Graph for Median Price By Postcodes(TownHouse)\n",
    "\n",
    "postcode_th2=[]\n",
    "postcode_price_th2=[]\n",
    "for j in sj_th2.ZIP_OR_POSTAL_CODE.unique()[9:]:\n",
    "    postcode_th2.append(j)\n",
    "    postcode_price_th2.append(sj_th2[sj_th2[\"ZIP_OR_POSTAL_CODE\"] == j].loc[:,'PRICE'].mean())\n",
    "print(postcode_th2)\n",
    "print(postcode_price_th2)\n",
    "# plt.pie(postcode_th2,postcode_price_th2, color = 'g',)\n",
    "\n",
    "plt.plot(postcode_th2, postcode_price_th2, \"go\", color = \"steelblue\")\n",
    "plt.grid(True)\n",
    "plt.title('Median Price By Postcode (TownHouse)')\n",
    "plt.xlabel('Postcode')\n",
    "plt.ylabel('TownHouse Price')\n"
   ]
  },
  {
   "cell_type": "markdown",
   "id": "1ec67d7a",
   "metadata": {},
   "source": [
    "Postcodes 95014 and 95054 have the most expensive mean of townhouses while 95014 and 95118 are two areas that have the lowest average price of townhouses. "
   ]
  },
  {
   "cell_type": "code",
   "execution_count": 69,
   "id": "40eb401a",
   "metadata": {},
   "outputs": [
    {
     "name": "stdout",
     "output_type": "stream",
     "text": [
      "[94086, 94089, 94087, 95051, 94085, 95014, 95129, '95008', '95128', '95125']\n",
      "[1734833.5492957747, 1308666.6666666667, 2186687.7636363637, 1471433.1055900622, 1476688.3, 2507047.890410959, 2031243.0694980696, 1499115.7185628742, 1176562.5, 1984000.0]\n"
     ]
    },
    {
     "data": {
      "text/plain": [
       "Text(0, 0.5, 'SFH Price')"
      ]
     },
     "execution_count": 69,
     "metadata": {},
     "output_type": "execute_result"
    },
    {
     "data": {
      "image/png": "[encoded data removed]",
      "text/plain": [
       "<Figure size 432x288 with 1 Axes>"
      ]
     },
     "metadata": {
      "needs_background": "light"
     },
     "output_type": "display_data"
    }
   ],
   "source": [
    "# median price of different postcodes in Single Family Residential\n",
    "# Bar Graph for Median Price By Postcodes(Single Family Residential)\n",
    "\n",
    "postcode_sfh=[]\n",
    "postcode_price_sfh=[]\n",
    "for i in sj_sfh2.ZIP_OR_POSTAL_CODE.unique()[:10]:\n",
    "    postcode_sfh.append(i)\n",
    "    postcode_price_sfh.append(sj_sfh2[sj_sfh1[\"ZIP_OR_POSTAL_CODE\"] == i].loc[:,'PRICE'].mean())\n",
    "print(postcode_sfh)\n",
    "print(postcode_price_sfh)\n",
    "# plt.pie(postcode_th,postcode_price_th, color = 'g',)\n",
    "\n",
    "plt.plot(postcode_sfh, postcode_price_sfh, \"go\", color = \"rosybrown\")\n",
    "plt.grid(True)\n",
    "plt.title('Median Price By Postcode (SFH)')\n",
    "plt.xlabel('Postcode')\n",
    "plt.ylabel('SFH Price')"
   ]
  },
  {
   "cell_type": "code",
   "execution_count": 70,
   "id": "703d7fd0",
   "metadata": {},
   "outputs": [
    {
     "name": "stdout",
     "output_type": "stream",
     "text": [
      "['95124', '95130', 95054, 95050, 95117, 95128, 95126, 95118, 95124, 95008]\n",
      "[nan, 1550850.7441860465, 1264947.9166666667, 1377910.9436619717, 1407188.7032967033, 1235217.9901639344, 1146300.0, 1260584.2294520547, 1455502.7387096775, 1373027.0]\n"
     ]
    },
    {
     "data": {
      "text/plain": [
       "Text(0, 0.5, 'SFH Price')"
      ]
     },
     "execution_count": 70,
     "metadata": {},
     "output_type": "execute_result"
    },
    {
     "data": {
      "image/png": "[encoded data removed]",
      "text/plain": [
       "<Figure size 432x288 with 1 Axes>"
      ]
     },
     "metadata": {
      "needs_background": "light"
     },
     "output_type": "display_data"
    }
   ],
   "source": [
    "# median price of different postcodes in Single Family Residential\n",
    "# Bar Graph for Median Price By Postcodes(Single Family Residential)\n",
    "postcode_sfh1=[]\n",
    "postcode_price_sfh1=[]\n",
    "for i in sj_sfh1.ZIP_OR_POSTAL_CODE.unique()[10:]:\n",
    "    postcode_sfh1.append(i)\n",
    "    postcode_price_sfh1.append(sj_sfh2[sj_sfh2[\"ZIP_OR_POSTAL_CODE\"] == i].loc[:,'PRICE'].mean())\n",
    "print(postcode_sfh1)\n",
    "print(postcode_price_sfh1)\n",
    "# plt.pie(postcode_th,postcode_price_th, color = 'rosybrown',)\n",
    "\n",
    "plt.plot(postcode_sfh1, postcode_price_sfh1, \"go\", color = \"olive\")\n",
    "plt.grid(True)\n",
    "plt.title('Median Price By Postcode (SFH)')\n",
    "plt.xlabel('Postcode')\n",
    "plt.ylabel('SFH Price')"
   ]
  },
  {
   "cell_type": "markdown",
   "id": "eb479da9",
   "metadata": {},
   "source": [
    "Postcodes 95014 and 95054 have the most expensive mean of townhouses while 95014 and 95126 are two areas that have the lowest average price of townhouses. "
   ]
  },
  {
   "cell_type": "code",
   "execution_count": 71,
   "id": "4833c0c9",
   "metadata": {},
   "outputs": [
    {
     "data": {
      "text/plain": [
       "Text(0, 0.5, 'PRICE')"
      ]
     },
     "execution_count": 71,
     "metadata": {},
     "output_type": "execute_result"
    },
    {
     "data": {
      "image/png": "[encoded data removed]",
      "text/plain": [
       "<Figure size 432x288 with 1 Axes>"
      ]
     },
     "metadata": {
      "needs_background": "light"
     },
     "output_type": "display_data"
    }
   ],
   "source": [
    "# median price of differnt year buit in TownHouse\n",
    "# Bar Graph for Median Price By Year Buit(TownHouse)\n",
    "\n",
    "sj_th3 = sj_th.groupby('YEAR_BUILT')['PRICE'].mean()\n",
    "sj_th3\n",
    "plt.figure(); \n",
    "sj_th3.plot.bar(title='(TownHouse Price By Year Built)', color='yellowgreen'); \n",
    "plt.xlabel('YEAR_BUILT'); \n",
    "plt.ylabel('PRICE')  "
   ]
  },
  {
   "cell_type": "code",
   "execution_count": 72,
   "id": "45227ccf",
   "metadata": {
    "scrolled": true
   },
   "outputs": [
    {
     "data": {
      "text/plain": [
       "Text(0, 0.5, 'PRICE')"
      ]
     },
     "execution_count": 72,
     "metadata": {},
     "output_type": "execute_result"
    },
    {
     "data": {
      "image/png": "[encoded data removed]",
      "text/plain": [
       "<Figure size 432x288 with 1 Axes>"
      ]
     },
     "metadata": {
      "needs_background": "light"
     },
     "output_type": "display_data"
    }
   ],
   "source": [
    "# median price of differnt year buit in TownHouse\n",
    "# Bar Graph for Median Price By Year Buit(TownHouse)\n",
    "\n",
    "sj_sfh3 = sj_sfh.groupby('YEAR_BUILT')['PRICE'].mean()\n",
    "sj_sfh3\n",
    "plt.figure(); \n",
    "sj_sfh3.plot.bar(title='(SFH Price By Year Built)', color='yellowgreen'); \n",
    "plt.xlabel('YEAR_BUILT'); \n",
    "plt.ylabel('PRICE')  "
   ]
  },
  {
   "cell_type": "markdown",
   "id": "0e690807",
   "metadata": {},
   "source": [
    "From the data we have, townhouses are built from the year 1943 to 2021 while single family houses are built from 1870 to 2021. There were less townhouses built before 2020. Although we can still see a price increase over years. but there are other factors like the condition of the house, location of the house or renovations can make a difference in the price. \n"
   ]
  },
  {
   "cell_type": "code",
   "execution_count": 73,
   "id": "33c219a8",
   "metadata": {},
   "outputs": [
    {
     "data": {
      "text/plain": [
       "Text(0, 0.5, 'Townhouse Price')"
      ]
     },
     "execution_count": 73,
     "metadata": {},
     "output_type": "execute_result"
    },
    {
     "data": {
      "image/png": "[encoded data removed]",
      "text/plain": [
       "<Figure size 432x288 with 1 Axes>"
      ]
     },
     "metadata": {
      "needs_background": "light"
     },
     "output_type": "display_data"
    }
   ],
   "source": [
    "# We divided year-built to 4 periods. \n",
    "# The relationship between year built and housing price\n",
    "\n",
    "year_built=['<2000', '>2000']\n",
    "period1=sj_th[(sj_th['YEAR_BUILT'] < 2000)]['PRICE'].median()\n",
    "period2=sj_th[(sj_th['YEAR_BUILT'] >= 2000)]['PRICE'].median()\n",
    "year_price=[period1, period2]\n",
    "plt.bar(year_built,year_price, color = 'mistyrose', align=\"center\")\n",
    "plt.title('Median Price By Year Built(Townhouse)')\n",
    "plt.xlabel('Year Built')\n",
    "plt.ylabel('Townhouse Price')\n",
    "\n"
   ]
  },
  {
   "cell_type": "markdown",
   "id": "89f200dd",
   "metadata": {},
   "source": [
    "When calculating the value of one’s home, the overall condition of the home is crucial. What you see might not be what you buy. Therefore, buyers normally would hire experts to do the home inspection for the house to make sure the house doesn’t have safety issues. If a house built in 1960 maintains well, it can have the same price as the house built in 2000. \n"
   ]
  },
  {
   "cell_type": "code",
   "execution_count": 74,
   "id": "db08c0a3",
   "metadata": {},
   "outputs": [],
   "source": [
    "# The relationship of Lot Size and Housing Price 房子价格和lot size的关系"
   ]
  },
  {
   "cell_type": "code",
   "execution_count": 75,
   "id": "220e468f",
   "metadata": {},
   "outputs": [
    {
     "data": {
      "text/plain": [
       "Text(0, 0.5, 'SFH Price')"
      ]
     },
     "execution_count": 75,
     "metadata": {},
     "output_type": "execute_result"
    },
    {
     "data": {
      "image/png": "[encoded data removed]",
      "text/plain": [
       "<Figure size 432x288 with 1 Axes>"
      ]
     },
     "metadata": {
      "needs_background": "light"
     },
     "output_type": "display_data"
    }
   ],
   "source": [
    "sj_sfh[['LOT_SIZE','PRICE']]\n",
    "plt.plot(sj_sfh[('LOT_SIZE')],sj_sfh['PRICE'], 'go', color = 'peru')\n",
    "plt.grid()\n",
    "plt.xlabel('Lot Size (Square Ft)')\n",
    "plt.ylabel('SFH Price')"
   ]
  },
  {
   "cell_type": "markdown",
   "id": "ebda8b09",
   "metadata": {},
   "source": [
    "The size of usable space in your house is called square footage. The lot size is the total land space including front and back yards. \n",
    "\n",
    "Townhouse’s lot size data includes other public lands, so we don’t have analysis for that.\n",
    "For the majority of single houses, lot sizes are between 5000-10000 square feet. There are relatively less houses below 5000 square feet. We found out that for all the houses that have 15000 square feet, their price varies from 1.4 million to 4 million. \n"
   ]
  },
  {
   "cell_type": "code",
   "execution_count": 76,
   "id": "806bed3f",
   "metadata": {},
   "outputs": [
    {
     "name": "stdout",
     "output_type": "stream",
     "text": [
      "1000.0 41569.0\n"
     ]
    },
    {
     "data": {
      "image/png": "[encoded data removed]",
      "text/plain": [
       "<Figure size 432x288 with 1 Axes>"
      ]
     },
     "metadata": {
      "needs_background": "light"
     },
     "output_type": "display_data"
    }
   ],
   "source": [
    "#For townhouse, the lot size also included other land and it varies, so we don't include the data for townhouse. \n",
    "# median price of differnt lot size in SFH\n",
    "# Bar Graph for Average Price By Year Buit(SFH)\n",
    "\n",
    "lot_min=sj_sfh[(sj_sfh['LOT_SIZE'] >= 0)]['LOT_SIZE'].min()\n",
    "lot_max=sj_sfh[(sj_sfh['LOT_SIZE'] >= 0)]['LOT_SIZE'].max()\n",
    "print(lot_min, lot_max)\n",
    "\n",
    "lot_size=[\"<5000\", '5000-10000', '10000-15000', '>15000']\n",
    "lot1=sj_sfh[(sj_sfh['LOT_SIZE'] < 5000)]['PRICE'].mean()\n",
    "lot2=sj_sfh[(sj_sfh['LOT_SIZE'] >= 5000) & (sj_sfh['LOT_SIZE'] < 10000)]['PRICE'].mean()\n",
    "lot3=sj_sfh[(sj_sfh['LOT_SIZE'] >= 10000) & (sj_sfh['LOT_SIZE'] < 15000)]['PRICE'].mean()\n",
    "lot4=sj_sfh[(sj_sfh['LOT_SIZE'] >= 15000)]['PRICE'].mean()\n",
    "\n",
    "lot_price=[lot1, lot2, lot3,lot4 ]\n",
    "plt.bar(lot_size,lot_price, color = 'red')\n",
    "plt.title('Townhouse Average Price By Lot Size')\n",
    "plt.xlabel('Lot Size')\n",
    "plt.ylabel('SFH Price')\n",
    "plt.grid()"
   ]
  },
  {
   "cell_type": "markdown",
   "id": "d2984561",
   "metadata": {},
   "source": [
    "People tend to pay more for a house with a larger lot size if two houses are under similar condition. Some people think having a bigger lot size can double the  value of the house. It depends on many aspects. If it takes homeowners a lot each month to maintain, fix or improve the situation of the outdoor area. What’s more, if  the added space is not usable because of other issues, the lot is not going to hold much value.  \n"
   ]
  },
  {
   "cell_type": "code",
   "execution_count": 77,
   "id": "c6476f06",
   "metadata": {},
   "outputs": [
    {
     "data": {
      "text/plain": [
       "Text(0, 0.5, 'TH Price')"
      ]
     },
     "execution_count": 77,
     "metadata": {},
     "output_type": "execute_result"
    },
    {
     "data": {
      "image/png": "[encoded data removed]",
      "text/plain": [
       "<Figure size 432x288 with 1 Axes>"
      ]
     },
     "metadata": {
      "needs_background": "light"
     },
     "output_type": "display_data"
    }
   ],
   "source": [
    "# The relationship of square feet and Housing Price 房子价格和面积的关系\n",
    "sj_th[['SQUARE_FEET','PRICE']]\n",
    "plt.plot(sj_th['SQUARE_FEET'],sj_th['PRICE'], 'go', color = 'deepskyblue')\n",
    "plt.grid()\n",
    "plt.title('Townhouse Average Price By Square Feet')\n",
    "plt.xlabel('Square Feet')\n",
    "plt.ylabel('TH Price')"
   ]
  },
  {
   "cell_type": "code",
   "execution_count": 78,
   "id": "c26fafb1",
   "metadata": {},
   "outputs": [
    {
     "data": {
      "text/plain": [
       "Text(0, 0.5, 'SFH Price')"
      ]
     },
     "execution_count": 78,
     "metadata": {},
     "output_type": "execute_result"
    },
    {
     "data": {
      "image/png": "[encoded data removed]",
      "text/plain": [
       "<Figure size 432x288 with 1 Axes>"
      ]
     },
     "metadata": {
      "needs_background": "light"
     },
     "output_type": "display_data"
    }
   ],
   "source": [
    "# The relationship of square feet and Housing Price 房子价格和面积的关系\n",
    "sj_sfh[['SQUARE_FEET','PRICE']]\n",
    "plt.plot(sj_sfh['SQUARE_FEET'],sj_sfh['PRICE'], 'go', color = 'deepskyblue')\n",
    "plt.grid()\n",
    "plt.title('SFH Average Price By Square Feet')\n",
    "plt.xlabel('Square Feet')\n",
    "plt.ylabel('SFH Price')"
   ]
  },
  {
   "cell_type": "markdown",
   "id": "04b4c0fb",
   "metadata": {},
   "source": [
    "These two simple scatter plots display the connection of area and house price. When we narrow down to a specific area, the relationship will become stronger. \n"
   ]
  },
  {
   "cell_type": "code",
   "execution_count": 79,
   "id": "008d1476",
   "metadata": {},
   "outputs": [
    {
     "name": "stdout",
     "output_type": "stream",
     "text": [
      "700.0 2656.0\n"
     ]
    },
    {
     "data": {
      "image/png": "[encoded data removed]",
      "text/plain": [
       "<Figure size 432x288 with 1 Axes>"
      ]
     },
     "metadata": {
      "needs_background": "light"
     },
     "output_type": "display_data"
    }
   ],
   "source": [
    "square_min=sj_th[(sj_th['SQUARE_FEET'] >= 0)]['SQUARE_FEET'].min()\n",
    "square_max=sj_th[(sj_th['SQUARE_FEET'] >= 0)]['SQUARE_FEET'].max()\n",
    "print(square_min, square_max)\n",
    "\n",
    "square_size=[\"<1250\", '1250-1750', '1750-2250', '>2250']\n",
    "square1=sj_th[(sj_th['SQUARE_FEET'] < 1250)]['PRICE'].mean()\n",
    "square2=sj_th[(sj_th['SQUARE_FEET'] >= 1250) & (sj_th['SQUARE_FEET'] < 1750)]['PRICE'].mean()\n",
    "square3=sj_th[(sj_th['SQUARE_FEET'] >= 1750) & (sj_th['SQUARE_FEET'] < 2250)]['PRICE'].mean()\n",
    "square4=sj_th[(sj_th['SQUARE_FEET'] >= 2250)]['PRICE'].mean()\n",
    "\n",
    "square_price=[square1, square2, square3,square4 ]\n",
    "plt.bar(square_size,square_price, color = 'coral')\n",
    "plt.title('Townhouse Median Price By Square Feet')\n",
    "plt.xlabel('Square Feet')\n",
    "plt.ylabel('Townhouse Price')\n",
    "plt.grid()"
   ]
  },
  {
   "cell_type": "markdown",
   "id": "be6f0ba0",
   "metadata": {},
   "source": [
    "There is no doubt that the size of a house is a metric to value the price. However this data itself is inconclusive and should not be the only determining element. "
   ]
  },
  {
   "cell_type": "code",
   "execution_count": 80,
   "id": "ad908fab",
   "metadata": {},
   "outputs": [
    {
     "name": "stdout",
     "output_type": "stream",
     "text": [
      "1.0 4178.0\n"
     ]
    },
    {
     "data": {
      "image/png": "[encoded data removed]",
      "text/plain": [
       "<Figure size 432x288 with 1 Axes>"
      ]
     },
     "metadata": {
      "needs_background": "light"
     },
     "output_type": "display_data"
    }
   ],
   "source": [
    "square_min=sj_sfh[(sj_sfh['SQUARE_FEET'] >= 0)]['SQUARE_FEET'].min()\n",
    "square_max=sj_sfh[(sj_sfh['SQUARE_FEET'] >= 0)]['SQUARE_FEET'].max()\n",
    "print(square_min, square_max)\n",
    "\n",
    "square_size=[\"<1000\", '1000-2000', '2000-3000', '>3000']\n",
    "square1=sj_sfh[(sj_sfh['SQUARE_FEET'] < 1000)]['PRICE'].mean()\n",
    "square2=sj_sfh[(sj_sfh['SQUARE_FEET'] >= 1000) & (sj_sfh['SQUARE_FEET'] < 2000)]['PRICE'].mean()\n",
    "square3=sj_sfh[(sj_sfh['SQUARE_FEET'] >= 2000) & (sj_sfh['SQUARE_FEET'] < 3000)]['PRICE'].mean()\n",
    "square4=sj_sfh[(sj_sfh['SQUARE_FEET'] >= 3000)]['PRICE'].mean()\n",
    "\n",
    "square_price=[square1, square2, square3,square4 ]\n",
    "plt.bar(square_size,square_price, color = 'coral')\n",
    "plt.title('SFH Median Price By Square Feet')\n",
    "plt.xlabel('Square Feet')\n",
    "plt.ylabel('House Price')\n",
    "plt.grid()"
   ]
  },
  {
   "cell_type": "code",
   "execution_count": 92,
   "id": "55c28e59",
   "metadata": {},
   "outputs": [
    {
     "name": "stdout",
     "output_type": "stream",
     "text": [
      "90.0 800.0 545\n"
     ]
    }
   ],
   "source": [
    "# The relationship of HOA/MONTH and Housing Price HOA价格和房价的关系（只做TH）\n",
    "# THere are 9 NaN data and 545 that we can use. \n",
    "# The minimum HOA is 90, the max HOA is 800.\n",
    "\n",
    "hoa_min=sj_th[(sj_th['HOA/MONTH'] >= 0)]['HOA/MONTH'].min()\n",
    "hoa_max=sj_th[(sj_th['HOA/MONTH'] >= 0)]['HOA/MONTH'].max()\n",
    "hoa_count=sj_th[(sj_th['HOA/MONTH'] >= 0)]['HOA/MONTH'].count()\n",
    "\n",
    "print(str(hoa_min)+ \" \" +str(hoa_max)+ \" \" +str(hoa_count))\n",
    "# lot1=sj_th[(sj_th['LOT_SIZE'] >= 455) & (sj_th['LOT_SIZE'] < 1000)]['PRICE'].mean()"
   ]
  },
  {
   "cell_type": "code",
   "execution_count": 93,
   "id": "ee66c4fc",
   "metadata": {},
   "outputs": [
    {
     "data": {
      "image/png": "[encoded data removed]",
      "text/plain": [
       "<Figure size 432x288 with 1 Axes>"
      ]
     },
     "metadata": {
      "needs_background": "light"
     },
     "output_type": "display_data"
    }
   ],
   "source": [
    "sj_th[['HOA/MONTH','PRICE']]\n",
    "plt.plot(sj_th['HOA/MONTH'],sj_th['PRICE'], 'go', color = 'indianred')\n",
    "plt.grid()"
   ]
  },
  {
   "cell_type": "code",
   "execution_count": 94,
   "id": "49412112",
   "metadata": {},
   "outputs": [
    {
     "data": {
      "image/png": "[encoded data removed]",
      "text/plain": [
       "<Figure size 432x288 with 1 Axes>"
      ]
     },
     "metadata": {
      "needs_background": "light"
     },
     "output_type": "display_data"
    }
   ],
   "source": [
    "# The most frequent HOA price is between 300-400/months.\n",
    "hoa=[\"100-200\", '200-300', '300-400', '400-500', '500-600']\n",
    "hoa1=sj_th[(sj_th['HOA/MONTH'] >= 100) & (sj_th['HOA/MONTH'] < 200)]['HOA/MONTH'].count()\n",
    "hoa2=sj_th[(sj_th['HOA/MONTH'] >= 200) & (sj_th['HOA/MONTH'] < 300)]['HOA/MONTH'].count()\n",
    "hoa3=sj_th[(sj_th['HOA/MONTH'] >= 300) & (sj_th['HOA/MONTH'] < 400)]['HOA/MONTH'].count()\n",
    "hoa4=sj_th[(sj_th['HOA/MONTH'] >= 400) & (sj_th['HOA/MONTH'] < 500)]['HOA/MONTH'].count()\n",
    "hoa5=sj_th[(sj_th['HOA/MONTH'] >= 500) & (sj_th['HOA/MONTH'] < 600)]['HOA/MONTH'].count()\n",
    "hoa_price=[hoa1, hoa2, hoa3, hoa4, hoa5]\n",
    "plt.bar(hoa,hoa_price, color = 'lightpink', width=0.25)\n",
    "plt.title('Townhouse HOA Price Counts')\n",
    "plt.xlabel('HOA/Month')\n",
    "plt.ylabel('Townhouse Price')\n",
    "plt.grid()"
   ]
  },
  {
   "cell_type": "markdown",
   "id": "dc1c1562",
   "metadata": {},
   "source": [
    "For HOA fees, we mainly consider townhouses. To begin with, the full name of HOA is Homeowner Association. It is an organization that enforces rules and regulations for the properties and residents. Owners have to pay a monthly fee from the day they purchase the property. HOA covers city services, insurance, lawn care, pest control, maintenance and repairs for common areas and more.\n",
    "No need to mow the lawn or maintain a yard is great, but HOA fees can be pretty expensive. In this chart, some homeowners need to pay as high as 500 to 600 dollars for a month. "
   ]
  },
  {
   "cell_type": "code",
   "execution_count": 95,
   "id": "9956716c",
   "metadata": {},
   "outputs": [
    {
     "data": {
      "image/png": "[encoded data removed]",
      "text/plain": [
       "<Figure size 432x288 with 1 Axes>"
      ]
     },
     "metadata": {
      "needs_background": "light"
     },
     "output_type": "display_data"
    }
   ],
   "source": [
    "# The relationship between HOA and housing price\n",
    "hoa=[\"100-200\", '200-300', '300-400', '400-500', '500-600']\n",
    "hoa1=sj_th[(sj_th['HOA/MONTH'] >= 100) & (sj_th['HOA/MONTH'] < 200)]['PRICE'].mean()\n",
    "hoa2=sj_th[(sj_th['HOA/MONTH'] >= 200) & (sj_th['HOA/MONTH'] < 300)]['PRICE'].mean()\n",
    "hoa3=sj_th[(sj_th['HOA/MONTH'] >= 300) & (sj_th['HOA/MONTH'] < 400)]['PRICE'].mean()\n",
    "hoa4=sj_th[(sj_th['HOA/MONTH'] >= 400) & (sj_th['HOA/MONTH'] < 500)]['PRICE'].mean()\n",
    "hoa5=sj_th[(sj_th['HOA/MONTH'] >= 500) & (sj_th['HOA/MONTH'] < 600)]['PRICE'].mean()\n",
    "hoa_price=[hoa1, hoa2, hoa3, hoa4, hoa5]\n",
    "plt.bar(hoa,hoa_price, color = 'lightblue', width=0.25)\n",
    "plt.title('Townhouse Median Price By HOA/MONTH')\n",
    "plt.xlabel('HOA/MONTH')\n",
    "plt.ylabel('Townhouse Price')\n",
    "plt.grid()"
   ]
  },
  {
   "cell_type": "markdown",
   "id": "851e463b",
   "metadata": {},
   "source": [
    "Conclusion"
   ]
  },
  {
   "cell_type": "markdown",
   "id": "46bec76a",
   "metadata": {},
   "source": [
    "The data shows the relationship between housing price with its attributs. Besides that, we also find out that housing price has been going up since COVID. Transportation doesn't have preference now. What's more, the relationship of yard with price is not obvious. "
   ]
  }
 ],
 "metadata": {
  "kernelspec": {
   "display_name": "Python 3",
   "language": "python",
   "name": "python3"
  },
  "language_info": {
   "codemirror_mode": {
    "name": "ipython",
    "version": 3
   },
   "file_extension": ".py",
   "mimetype": "text/x-python",
   "name": "python",
   "nbconvert_exporter": "python",
   "pygments_lexer": "ipython3",
   "version": "3.8.8"
  }
 },
 "nbformat": 4,
 "nbformat_minor": 5
}
